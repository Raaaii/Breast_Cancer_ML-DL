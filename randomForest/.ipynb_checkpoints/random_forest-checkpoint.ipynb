{
 "cells": [
  {
   "cell_type": "markdown",
   "id": "e07ccd07",
   "metadata": {},
   "source": [
    "# Random Forest\n",
    "Random Forest is a machine learning ensemble method developed in 2001. It makes uses of several decision trees, creating a \"forest\". The final value will be given by the average over all the trees' predicition. "
   ]
  },
  {
   "cell_type": "code",
   "execution_count": 1,
   "id": "8ef7cd5e",
   "metadata": {
    "scrolled": true
   },
   "outputs": [],
   "source": [
    "# Let's call all our friends to the party\n",
    "\n",
    "import numpy as np\n",
    "import pandas as pd\n",
    "import matplotlib.pyplot as plt\n",
    "from IPython.display import display\n",
    "import seaborn as sns\n",
    "\n",
    "from sklearn import linear_model\n",
    "\n",
    "from sklearn.ensemble import RandomForestRegressor\n",
    "# from sklearn.metrics import r2_score\n",
    "import sklearn.metrics as metrics\n",
    "\n",
    "\n",
    "# from sklearn.ensemble import ExtraTreesRegeressor"
   ]
  },
  {
   "cell_type": "code",
   "execution_count": 2,
   "id": "3bffb606",
   "metadata": {},
   "outputs": [
    {
     "data": {
      "text/html": [
       "<div>\n",
       "<style scoped>\n",
       "    .dataframe tbody tr th:only-of-type {\n",
       "        vertical-align: middle;\n",
       "    }\n",
       "\n",
       "    .dataframe tbody tr th {\n",
       "        vertical-align: top;\n",
       "    }\n",
       "\n",
       "    .dataframe thead th {\n",
       "        text-align: right;\n",
       "    }\n",
       "</style>\n",
       "<table border=\"1\" class=\"dataframe\">\n",
       "  <thead>\n",
       "    <tr style=\"text-align: right;\">\n",
       "      <th></th>\n",
       "      <th>id number</th>\n",
       "      <th>Mean radius</th>\n",
       "      <th>Mean texture</th>\n",
       "      <th>Mean perimeter</th>\n",
       "      <th>Mean area</th>\n",
       "      <th>Mean smothness</th>\n",
       "      <th>Mean compactness</th>\n",
       "      <th>Mean concavity</th>\n",
       "      <th>Mean concave points</th>\n",
       "      <th>Mean symmetry</th>\n",
       "      <th>...</th>\n",
       "      <th>Worst area</th>\n",
       "      <th>Worst smothness</th>\n",
       "      <th>Worst compactness</th>\n",
       "      <th>Worst concavity</th>\n",
       "      <th>Worst concave points</th>\n",
       "      <th>Worst symmetry</th>\n",
       "      <th>Worst fractal dimension</th>\n",
       "      <th>Tumour Size</th>\n",
       "      <th>Lymph node status</th>\n",
       "      <th>Time</th>\n",
       "    </tr>\n",
       "  </thead>\n",
       "  <tbody>\n",
       "    <tr>\n",
       "      <th>0</th>\n",
       "      <td>119513</td>\n",
       "      <td>18.02</td>\n",
       "      <td>27.60</td>\n",
       "      <td>117.50</td>\n",
       "      <td>1013.0</td>\n",
       "      <td>0.09489</td>\n",
       "      <td>0.10360</td>\n",
       "      <td>0.10860</td>\n",
       "      <td>0.07055</td>\n",
       "      <td>0.1865</td>\n",
       "      <td>...</td>\n",
       "      <td>1436.0</td>\n",
       "      <td>0.11950</td>\n",
       "      <td>0.1926</td>\n",
       "      <td>0.3140</td>\n",
       "      <td>0.11700</td>\n",
       "      <td>0.2677</td>\n",
       "      <td>0.08113</td>\n",
       "      <td>5.0</td>\n",
       "      <td>5</td>\n",
       "      <td>31</td>\n",
       "    </tr>\n",
       "    <tr>\n",
       "      <th>1</th>\n",
       "      <td>8423</td>\n",
       "      <td>17.99</td>\n",
       "      <td>10.38</td>\n",
       "      <td>122.80</td>\n",
       "      <td>1001.0</td>\n",
       "      <td>0.11840</td>\n",
       "      <td>0.27760</td>\n",
       "      <td>0.30010</td>\n",
       "      <td>0.14710</td>\n",
       "      <td>0.2419</td>\n",
       "      <td>...</td>\n",
       "      <td>2019.0</td>\n",
       "      <td>0.16220</td>\n",
       "      <td>0.6656</td>\n",
       "      <td>0.7119</td>\n",
       "      <td>0.26540</td>\n",
       "      <td>0.4601</td>\n",
       "      <td>0.11890</td>\n",
       "      <td>3.0</td>\n",
       "      <td>2</td>\n",
       "      <td>61</td>\n",
       "    </tr>\n",
       "    <tr>\n",
       "      <th>2</th>\n",
       "      <td>842517</td>\n",
       "      <td>21.37</td>\n",
       "      <td>17.44</td>\n",
       "      <td>137.50</td>\n",
       "      <td>1373.0</td>\n",
       "      <td>0.08836</td>\n",
       "      <td>0.11890</td>\n",
       "      <td>0.12550</td>\n",
       "      <td>0.08180</td>\n",
       "      <td>0.2333</td>\n",
       "      <td>...</td>\n",
       "      <td>1949.0</td>\n",
       "      <td>0.11880</td>\n",
       "      <td>0.3449</td>\n",
       "      <td>0.3414</td>\n",
       "      <td>0.20320</td>\n",
       "      <td>0.4334</td>\n",
       "      <td>0.09067</td>\n",
       "      <td>2.5</td>\n",
       "      <td>0</td>\n",
       "      <td>116</td>\n",
       "    </tr>\n",
       "    <tr>\n",
       "      <th>3</th>\n",
       "      <td>843483</td>\n",
       "      <td>11.42</td>\n",
       "      <td>20.38</td>\n",
       "      <td>77.58</td>\n",
       "      <td>386.1</td>\n",
       "      <td>0.14250</td>\n",
       "      <td>0.28390</td>\n",
       "      <td>0.24140</td>\n",
       "      <td>0.10520</td>\n",
       "      <td>0.2597</td>\n",
       "      <td>...</td>\n",
       "      <td>567.7</td>\n",
       "      <td>0.20980</td>\n",
       "      <td>0.8663</td>\n",
       "      <td>0.6869</td>\n",
       "      <td>0.25750</td>\n",
       "      <td>0.6638</td>\n",
       "      <td>0.17300</td>\n",
       "      <td>2.0</td>\n",
       "      <td>0</td>\n",
       "      <td>123</td>\n",
       "    </tr>\n",
       "    <tr>\n",
       "      <th>4</th>\n",
       "      <td>843584</td>\n",
       "      <td>20.29</td>\n",
       "      <td>14.34</td>\n",
       "      <td>135.10</td>\n",
       "      <td>1297.0</td>\n",
       "      <td>0.10030</td>\n",
       "      <td>0.13280</td>\n",
       "      <td>0.19800</td>\n",
       "      <td>0.10430</td>\n",
       "      <td>0.1809</td>\n",
       "      <td>...</td>\n",
       "      <td>1575.0</td>\n",
       "      <td>0.13740</td>\n",
       "      <td>0.2050</td>\n",
       "      <td>0.4000</td>\n",
       "      <td>0.16250</td>\n",
       "      <td>0.2364</td>\n",
       "      <td>0.07678</td>\n",
       "      <td>3.5</td>\n",
       "      <td>0</td>\n",
       "      <td>27</td>\n",
       "    </tr>\n",
       "    <tr>\n",
       "      <th>...</th>\n",
       "      <td>...</td>\n",
       "      <td>...</td>\n",
       "      <td>...</td>\n",
       "      <td>...</td>\n",
       "      <td>...</td>\n",
       "      <td>...</td>\n",
       "      <td>...</td>\n",
       "      <td>...</td>\n",
       "      <td>...</td>\n",
       "      <td>...</td>\n",
       "      <td>...</td>\n",
       "      <td>...</td>\n",
       "      <td>...</td>\n",
       "      <td>...</td>\n",
       "      <td>...</td>\n",
       "      <td>...</td>\n",
       "      <td>...</td>\n",
       "      <td>...</td>\n",
       "      <td>...</td>\n",
       "      <td>...</td>\n",
       "      <td>...</td>\n",
       "    </tr>\n",
       "    <tr>\n",
       "      <th>193</th>\n",
       "      <td>942640</td>\n",
       "      <td>22.52</td>\n",
       "      <td>21.92</td>\n",
       "      <td>146.90</td>\n",
       "      <td>1597.0</td>\n",
       "      <td>0.07592</td>\n",
       "      <td>0.09162</td>\n",
       "      <td>0.06862</td>\n",
       "      <td>0.06367</td>\n",
       "      <td>0.1728</td>\n",
       "      <td>...</td>\n",
       "      <td>1902.0</td>\n",
       "      <td>0.08191</td>\n",
       "      <td>0.1319</td>\n",
       "      <td>0.1056</td>\n",
       "      <td>0.09378</td>\n",
       "      <td>0.2061</td>\n",
       "      <td>0.05788</td>\n",
       "      <td>6.0</td>\n",
       "      <td>2</td>\n",
       "      <td>10</td>\n",
       "    </tr>\n",
       "    <tr>\n",
       "      <th>194</th>\n",
       "      <td>943471</td>\n",
       "      <td>15.44</td>\n",
       "      <td>31.18</td>\n",
       "      <td>101.00</td>\n",
       "      <td>740.4</td>\n",
       "      <td>0.09399</td>\n",
       "      <td>0.10620</td>\n",
       "      <td>0.13750</td>\n",
       "      <td>0.06500</td>\n",
       "      <td>0.1735</td>\n",
       "      <td>...</td>\n",
       "      <td>929.0</td>\n",
       "      <td>0.12720</td>\n",
       "      <td>0.2362</td>\n",
       "      <td>0.2975</td>\n",
       "      <td>0.12860</td>\n",
       "      <td>0.2914</td>\n",
       "      <td>0.08024</td>\n",
       "      <td>1.5</td>\n",
       "      <td>0</td>\n",
       "      <td>8</td>\n",
       "    </tr>\n",
       "    <tr>\n",
       "      <th>195</th>\n",
       "      <td>94547</td>\n",
       "      <td>17.17</td>\n",
       "      <td>29.19</td>\n",
       "      <td>110.00</td>\n",
       "      <td>915.3</td>\n",
       "      <td>0.08952</td>\n",
       "      <td>0.06655</td>\n",
       "      <td>0.06583</td>\n",
       "      <td>0.05068</td>\n",
       "      <td>0.1793</td>\n",
       "      <td>...</td>\n",
       "      <td>1295.0</td>\n",
       "      <td>0.12610</td>\n",
       "      <td>0.1572</td>\n",
       "      <td>0.2141</td>\n",
       "      <td>0.09520</td>\n",
       "      <td>0.3362</td>\n",
       "      <td>0.06033</td>\n",
       "      <td>3.7</td>\n",
       "      <td>0</td>\n",
       "      <td>12</td>\n",
       "    </tr>\n",
       "    <tr>\n",
       "      <th>196</th>\n",
       "      <td>947204</td>\n",
       "      <td>21.42</td>\n",
       "      <td>22.84</td>\n",
       "      <td>145.00</td>\n",
       "      <td>1440.0</td>\n",
       "      <td>0.10700</td>\n",
       "      <td>0.19390</td>\n",
       "      <td>0.23800</td>\n",
       "      <td>0.13180</td>\n",
       "      <td>0.1884</td>\n",
       "      <td>...</td>\n",
       "      <td>2375.0</td>\n",
       "      <td>0.14980</td>\n",
       "      <td>0.4379</td>\n",
       "      <td>0.5411</td>\n",
       "      <td>0.22150</td>\n",
       "      <td>0.2832</td>\n",
       "      <td>0.08981</td>\n",
       "      <td>3.0</td>\n",
       "      <td>3</td>\n",
       "      <td>3</td>\n",
       "    </tr>\n",
       "    <tr>\n",
       "      <th>197</th>\n",
       "      <td>947489</td>\n",
       "      <td>16.70</td>\n",
       "      <td>28.13</td>\n",
       "      <td>110.30</td>\n",
       "      <td>885.4</td>\n",
       "      <td>0.08896</td>\n",
       "      <td>0.11310</td>\n",
       "      <td>0.10120</td>\n",
       "      <td>0.04989</td>\n",
       "      <td>0.1890</td>\n",
       "      <td>...</td>\n",
       "      <td>1213.0</td>\n",
       "      <td>0.13300</td>\n",
       "      <td>0.2808</td>\n",
       "      <td>0.3455</td>\n",
       "      <td>0.13170</td>\n",
       "      <td>0.3035</td>\n",
       "      <td>0.08036</td>\n",
       "      <td>3.5</td>\n",
       "      <td>0</td>\n",
       "      <td>6</td>\n",
       "    </tr>\n",
       "  </tbody>\n",
       "</table>\n",
       "<p>198 rows × 34 columns</p>\n",
       "</div>"
      ],
      "text/plain": [
       "     id number  Mean radius  Mean texture  Mean perimeter  Mean area  \\\n",
       "0       119513        18.02         27.60          117.50     1013.0   \n",
       "1         8423        17.99         10.38          122.80     1001.0   \n",
       "2       842517        21.37         17.44          137.50     1373.0   \n",
       "3       843483        11.42         20.38           77.58      386.1   \n",
       "4       843584        20.29         14.34          135.10     1297.0   \n",
       "..         ...          ...           ...             ...        ...   \n",
       "193     942640        22.52         21.92          146.90     1597.0   \n",
       "194     943471        15.44         31.18          101.00      740.4   \n",
       "195      94547        17.17         29.19          110.00      915.3   \n",
       "196     947204        21.42         22.84          145.00     1440.0   \n",
       "197     947489        16.70         28.13          110.30      885.4   \n",
       "\n",
       "     Mean smothness  Mean compactness  Mean concavity  Mean concave points  \\\n",
       "0           0.09489           0.10360         0.10860              0.07055   \n",
       "1           0.11840           0.27760         0.30010              0.14710   \n",
       "2           0.08836           0.11890         0.12550              0.08180   \n",
       "3           0.14250           0.28390         0.24140              0.10520   \n",
       "4           0.10030           0.13280         0.19800              0.10430   \n",
       "..              ...               ...             ...                  ...   \n",
       "193         0.07592           0.09162         0.06862              0.06367   \n",
       "194         0.09399           0.10620         0.13750              0.06500   \n",
       "195         0.08952           0.06655         0.06583              0.05068   \n",
       "196         0.10700           0.19390         0.23800              0.13180   \n",
       "197         0.08896           0.11310         0.10120              0.04989   \n",
       "\n",
       "     Mean symmetry  ...  Worst area  Worst smothness  Worst compactness  \\\n",
       "0           0.1865  ...      1436.0          0.11950             0.1926   \n",
       "1           0.2419  ...      2019.0          0.16220             0.6656   \n",
       "2           0.2333  ...      1949.0          0.11880             0.3449   \n",
       "3           0.2597  ...       567.7          0.20980             0.8663   \n",
       "4           0.1809  ...      1575.0          0.13740             0.2050   \n",
       "..             ...  ...         ...              ...                ...   \n",
       "193         0.1728  ...      1902.0          0.08191             0.1319   \n",
       "194         0.1735  ...       929.0          0.12720             0.2362   \n",
       "195         0.1793  ...      1295.0          0.12610             0.1572   \n",
       "196         0.1884  ...      2375.0          0.14980             0.4379   \n",
       "197         0.1890  ...      1213.0          0.13300             0.2808   \n",
       "\n",
       "     Worst concavity  Worst concave points  Worst symmetry  \\\n",
       "0             0.3140               0.11700          0.2677   \n",
       "1             0.7119               0.26540          0.4601   \n",
       "2             0.3414               0.20320          0.4334   \n",
       "3             0.6869               0.25750          0.6638   \n",
       "4             0.4000               0.16250          0.2364   \n",
       "..               ...                   ...             ...   \n",
       "193           0.1056               0.09378          0.2061   \n",
       "194           0.2975               0.12860          0.2914   \n",
       "195           0.2141               0.09520          0.3362   \n",
       "196           0.5411               0.22150          0.2832   \n",
       "197           0.3455               0.13170          0.3035   \n",
       "\n",
       "     Worst fractal dimension  Tumour Size  Lymph node status  Time  \n",
       "0                    0.08113          5.0                  5    31  \n",
       "1                    0.11890          3.0                  2    61  \n",
       "2                    0.09067          2.5                  0   116  \n",
       "3                    0.17300          2.0                  0   123  \n",
       "4                    0.07678          3.5                  0    27  \n",
       "..                       ...          ...                ...   ...  \n",
       "193                  0.05788          6.0                  2    10  \n",
       "194                  0.08024          1.5                  0     8  \n",
       "195                  0.06033          3.7                  0    12  \n",
       "196                  0.08981          3.0                  3     3  \n",
       "197                  0.08036          3.5                  0     6  \n",
       "\n",
       "[198 rows x 34 columns]"
      ]
     },
     "metadata": {},
     "output_type": "display_data"
    }
   ],
   "source": [
    "# Import preprocessed data\n",
    "\n",
    "# data = pd.read_excel('../preprocessing/regDataPca.xlsx')\n",
    "# data = pd.read_excel('regDataPca.xlsx')\n",
    "data = pd.read_excel('regressionData.xlsx')\n",
    "display(data)"
   ]
  },
  {
   "cell_type": "code",
   "execution_count": 3,
   "id": "36c6d577",
   "metadata": {},
   "outputs": [],
   "source": [
    "target = ['Time']\n",
    "y = data[target[0]].values # Response variable\n",
    "X = data.drop(labels=[\"id number\",target[0]], axis = 1) # Design Matrix\n"
   ]
  },
  {
   "cell_type": "markdown",
   "id": "cb1eaf9f",
   "metadata": {},
   "source": [
    "Random Forest is based on the partition of the data. Hence, it does not need any scaling or numerical preprocessing."
   ]
  },
  {
   "cell_type": "code",
   "execution_count": 4,
   "id": "0e789eb7",
   "metadata": {},
   "outputs": [],
   "source": [
    "#define function to calcuate evaluation matrices for each model \n",
    "\n",
    "\n",
    "def evaluate(true, predicted):\n",
    "    mae = metrics.mean_absolute_error(true, predicted)\n",
    "    mse = metrics.mean_squared_error(true, predicted)\n",
    "    rmse = np.sqrt(metrics.mean_squared_error(true, predicted))\n",
    "    r2_square = metrics.r2_score(true, predicted)\n",
    "    r2_adjusted = 1 - (1-r2_square)*(len(true)-1)/(len(true)-X.shape[1]-1)\n",
    "    return mae, mse, rmse, r2_square"
   ]
  },
  {
   "cell_type": "code",
   "execution_count": 5,
   "id": "4533d442",
   "metadata": {},
   "outputs": [],
   "source": [
    "#print alredy evaluated matrices values\n",
    "\n",
    "def print_evaluate(true, predicted):  \n",
    "    mae = metrics.mean_absolute_error(true, predicted)\n",
    "    mse = metrics.mean_squared_error(true, predicted)\n",
    "    rmse = np.sqrt(metrics.mean_squared_error(true, predicted))\n",
    "    r2_square = metrics.r2_score(true, predicted)\n",
    "    r2_adjusted = 1 - (1-r2_square)*(len(true)-1)/(len(true)-X.shape[1]-1)\n",
    "    print('MAE:', mae)\n",
    "    print('MSE:', mse)\n",
    "    print('RMSE:', rmse)\n",
    "    print('_ _ _ _ _ _ _ _ _ _  _ _ _ ')\n",
    "    print('R2 Square', r2_square)\n",
    "    print('_ _ _ _ _ _ _ _ _ _  _ _ _ ')\n",
    "    print('R2 adjusted square', r2_adjusted)\n",
    "    print('__________________________________')"
   ]
  },
  {
   "cell_type": "code",
   "execution_count": 6,
   "id": "c9831dbd",
   "metadata": {},
   "outputs": [],
   "source": [
    "#To have better idea we will vizualize our results\n",
    "#Histogram of the predicted values and the actual values\n",
    "\n",
    "from sklearn import metrics\n",
    "\n",
    "def Histo_prediction_true(model):\n",
    "    model.fit(X_train, y_train)\n",
    "    prediction = model.predict(X_test)\n",
    "    plt.figure(figsize=(10,5))\n",
    "    sns.distplot(y_test, hist=True, kde=False, bins=30, color='pink')\n",
    "    sns.distplot(prediction, hist=True, kde=False, bins=30, color='blue')\n",
    "    plt.legend(labels=['Actual Values of time', 'Predicted Values of time'])\n",
    "    plt.xlim(0,)"
   ]
  },
  {
   "cell_type": "code",
   "execution_count": 7,
   "id": "19375556",
   "metadata": {},
   "outputs": [],
   "source": [
    "#this function will plot a scatter plot of the predicted values and the fit line for the test data\n",
    "\n",
    "def Pred_Real_Model(model):\n",
    "    model.fit(X_train, y_train)\n",
    "    prediction=model.predict(X_test)\n",
    "    x_ax = range(len(X_test))\n",
    "    plt.scatter(x_ax, y_test, s=5, color=\"blue\", label=\"original\")\n",
    "    plt.plot(x_ax, prediction, lw=0.8, color=\"red\", label=\"predicted\")\n",
    "    plt.show()"
   ]
  },
  {
   "cell_type": "code",
   "execution_count": 8,
   "id": "e2f99772",
   "metadata": {},
   "outputs": [],
   "source": [
    "def Fitfunction(model):\n",
    "    # plotting the y_test vs y_pred\n",
    "# ideally should have been a straight line\n",
    "    model.fit(X_train, y_train)\n",
    "    prediction = model.predict(X_test)\n",
    "    plt.scatter(y_test, prediction, color='purple')\n",
    "#add a line to show the perfect prediction\n",
    "    plt.plot(y_test, y_test, color='red')\n",
    "    plt.xlabel('Y Test')\n",
    "    plt.ylabel('Predicted Y')\n",
    "    \n",
    "    plt.show()"
   ]
  },
  {
   "cell_type": "code",
   "execution_count": 9,
   "id": "21935f34",
   "metadata": {},
   "outputs": [],
   "source": [
    "#this is just for results interpretation\n",
    "\n",
    "def Result(model):\n",
    "    model.fit(X_train, y_train)\n",
    "    prediction = model.predict(X_test)\n",
    "    print(prediction)\n",
    "    print('Predicted result:\\n_____________________________________')\n",
    "\n",
    "    print(np.dot(X,model.coef_) + model.intercept_)"
   ]
  },
  {
   "cell_type": "code",
   "execution_count": 10,
   "id": "27963ccf",
   "metadata": {},
   "outputs": [],
   "source": [
    "# make a function to measure regression model accuracy for each model\n",
    "# ALREDY INCLUDED IN EVALUATE FUNCTION SO WE DONT NEED THIS FUNCTION, \n",
    "# BUT THIS ONE WE CAN CALL TO SEE THE RESULTS, SO WE WILL KEEP IT\n",
    "\n",
    "def regression_accuracy(model):\n",
    "    model.fit(X_train, y_train)\n",
    "    prediction = model.predict(X_test)\n",
    "    print('R2 score:', metrics.r2_score(y_test, prediction))\n",
    "    print('Adjusted R2 score:', 1 - (1-metrics.r2_score(y_test, prediction))*(len(y_test)-1)/(len(y_test)-X_test.shape[1]-1))\n",
    "    print('__________________________________')"
   ]
  },
  {
   "cell_type": "code",
   "execution_count": 11,
   "id": "251daf0b",
   "metadata": {},
   "outputs": [],
   "source": [
    "#make a function to vizualize accuracy of each model\n",
    "\n",
    "def vizualize_accuracy(model):\n",
    "    model.fit(X_train, y_train)\n",
    "    prediction = model.predict(X_test)\n",
    "    plt.figure(figsize=(10,5))\n",
    "    plt.scatter(y_test, prediction, color='purple')\n",
    "    plt.plot(y_test, y_test, color='red')\n",
    "    plt.xlabel('Y Test')\n",
    "    plt.ylabel('Predicted Y')\n",
    "    plt.show()"
   ]
  },
  {
   "cell_type": "markdown",
   "id": "232c4f26",
   "metadata": {},
   "source": [
    "# Random Forest Regressor"
   ]
  },
  {
   "cell_type": "code",
   "execution_count": 12,
   "id": "aae8805f",
   "metadata": {},
   "outputs": [
    {
     "name": "stdout",
     "output_type": "stream",
     "text": [
      "Test set evaluation:\n",
      "_____________________________________\n",
      "MAE: 25.937\n",
      "MSE: 1003.6768849999999\n",
      "RMSE: 31.680859915728295\n",
      "_ _ _ _ _ _ _ _ _ _  _ _ _ \n",
      "R2 Square 0.10251319306705209\n",
      "_ _ _ _ _ _ _ _ _ _  _ _ _ \n",
      "R2 adjusted square -4.000283638626423\n",
      "__________________________________\n",
      "====================================\n",
      "Train set evaluation:\n",
      "_____________________________________\n",
      "MAE: 10.95879746835443\n",
      "MSE: 171.55771455696203\n",
      "RMSE: 13.098004220375028\n",
      "_ _ _ _ _ _ _ _ _ _  _ _ _ \n",
      "R2 Square 0.8539076497956233\n",
      "_ _ _ _ _ _ _ _ _ _  _ _ _ \n",
      "R2 adjusted square 0.8165080081433028\n",
      "__________________________________\n"
     ]
    }
   ],
   "source": [
    "from sklearn.ensemble import RandomForestRegressor # The estimator. Its performance and capability\n",
    "                                                   # to recreate the data will be tested in this code\n",
    "\n",
    "RFR_std = RandomForestRegressor() # we allow the default values. Then the hyperparameters will undergo an optimization process\n",
    "\n",
    "from sklearn.model_selection import train_test_split # Standard split in machine learning. \n",
    "                                                     # Who are we to change the modus operandi?\n",
    "X_train, X_test, y_train, y_test = train_test_split(X, y, test_size=0.2)\n",
    "\n",
    "# Applying the Random Forest Regressor to the Train data\n",
    "RFR_std.fit(X_train,y_train)\n",
    "\n",
    "y_test_predRF = RFR_std.predict(X_test)\n",
    "y_train_predRF = RFR_std.predict(X_train)\n",
    "\n",
    "print('Test set evaluation:\\n_____________________________________')\n",
    "print_evaluate(y_test, y_test_predRF)\n",
    "print('====================================')\n",
    "print('Train set evaluation:\\n_____________________________________')\n",
    "print_evaluate(y_train, y_train_predRF)"
   ]
  },
  {
   "cell_type": "code",
   "execution_count": 13,
   "id": "2858c621",
   "metadata": {},
   "outputs": [
    {
     "data": {
      "image/png": "[encoded data removed]",
      "text/plain": [
       "<Figure size 432x288 with 1 Axes>"
      ]
     },
     "metadata": {
      "needs_background": "light"
     },
     "output_type": "display_data"
    }
   ],
   "source": [
    "Fitfunction(RFR_std)"
   ]
  },
  {
   "cell_type": "code",
   "execution_count": 14,
   "id": "22ca0117",
   "metadata": {},
   "outputs": [],
   "source": [
    "# fig, ax = plt.subplots()\n",
    "# ax.scatter(y, y_test_predRF, c= 'pink', label = 'model', edgecolor = 'k')\n",
    "# ax.set_xlabel('Data [Time]')\n",
    "# ax.set_ylabel('Prediction [Time]')\n",
    "# ax.plot(y, y, label='Ideal')\n",
    "# ax.legend()"
   ]
  },
  {
   "cell_type": "markdown",
   "id": "d6f4408d",
   "metadata": {},
   "source": [
    "Quite frankly, It sucks"
   ]
  },
  {
   "cell_type": "code",
   "execution_count": 15,
   "id": "3369d71b",
   "metadata": {},
   "outputs": [
    {
     "name": "stderr",
     "output_type": "stream",
     "text": [
      "C:\\Users\\andre\\anaconda3\\lib\\site-packages\\seaborn\\distributions.py:2619: FutureWarning: `distplot` is a deprecated function and will be removed in a future version. Please adapt your code to use either `displot` (a figure-level function with similar flexibility) or `histplot` (an axes-level function for histograms).\n",
      "  warnings.warn(msg, FutureWarning)\n"
     ]
    },
    {
     "data": {
      "image/png": "[encoded data removed]",
      "text/plain": [
       "<Figure size 720x360 with 1 Axes>"
      ]
     },
     "metadata": {
      "needs_background": "light"
     },
     "output_type": "display_data"
    }
   ],
   "source": [
    "Histo_prediction_true(RFR_std)"
   ]
  },
  {
   "cell_type": "code",
   "execution_count": 16,
   "id": "75816333",
   "metadata": {},
   "outputs": [
    {
     "data": {
      "image/png": "[encoded data removed]",
      "text/plain": [
       "<Figure size 432x288 with 1 Axes>"
      ]
     },
     "metadata": {
      "needs_background": "light"
     },
     "output_type": "display_data"
    }
   ],
   "source": [
    "Pred_Real_Model(RFR_std)"
   ]
  },
  {
   "cell_type": "code",
   "execution_count": 17,
   "id": "e47ea432",
   "metadata": {},
   "outputs": [
    {
     "name": "stdout",
     "output_type": "stream",
     "text": [
      "R2 score: 0.12173107302196196\n",
      "Adjusted R2 score: -3.893212593163355\n",
      "__________________________________\n"
     ]
    }
   ],
   "source": [
    "regression_accuracy(RFR_std)"
   ]
  },
  {
   "cell_type": "markdown",
   "id": "2407dc6b",
   "metadata": {},
   "source": [
    "# Bootstraping\n",
    "\n",
    "Sci-kit learn random forest regressor has included an option wheter to include or not bootstraping when sampling the trees.\n",
    "In the next lines of code and figure, it can be appreciated the MSE when taking into account bootstraping or not."
   ]
  },
  {
   "cell_type": "code",
   "execution_count": 18,
   "id": "2ebe87ea",
   "metadata": {},
   "outputs": [
    {
     "data": {
      "text/plain": [
       "<matplotlib.legend.Legend at 0x25913dc4400>"
      ]
     },
     "execution_count": 18,
     "metadata": {},
     "output_type": "execute_result"
    },
    {
     "data": {
      "text/plain": [
       "<Figure size 432x288 with 0 Axes>"
      ]
     },
     "metadata": {},
     "output_type": "display_data"
    },
    {
     "data": {
      "image/png": "[encoded data removed]",
      "text/plain": [
       "<Figure size 432x288 with 1 Axes>"
      ]
     },
     "metadata": {
      "needs_background": "light"
     },
     "output_type": "display_data"
    }
   ],
   "source": [
    "# from sklearn import metrics\n",
    "# from sklearn.model_selection import cross_val_score\n",
    "n_estimators = [50, 75, 100, 150, 200, 300, 500, 700, 800, 1000]\n",
    "MSE_B = np.empty(len(n_estimators))\n",
    "MSE_NB = np.empty(len(n_estimators))\n",
    "i = 0\n",
    "\n",
    "for n in n_estimators:\n",
    "    RFR_B = RandomForestRegressor(n_estimators=n,max_depth=3,max_features='sqrt', bootstrap=True)\n",
    "    RFR_NB = RandomForestRegressor(n_estimators=n,max_depth=3,max_features='sqrt', bootstrap=False)\n",
    "    \n",
    "    MSE_B[i] = RFR_B.fit(X_train,y_train).score(X_test, y_test)\n",
    "    MSE_NB[i] = RFR_NB.fit(X_train,y_train).score(X_test, y_test)\n",
    "    i += 1\n",
    "\n",
    "fig = plt.figure()\n",
    "fig, ax = plt.subplots()\n",
    "ax.plot(n_estimators, MSE_B, label='With Bootstrap')\n",
    "ax.plot(n_estimators, MSE_NB, label='Without Bootstrap')\n",
    "ax.set_title('')\n",
    "ax.legend()\n"
   ]
  },
  {
   "cell_type": "markdown",
   "id": "72d94e15",
   "metadata": {},
   "source": [
    "# Optimization \n",
    "\n",
    "Certainly, given a certain machine learning method, the goal is to extract as much information as possible. There are several aspects of the Random Forest Regressor to manipulate for obtain the best predictions outcomes. Optimization of the Random Forest hyperparameters will proceed as follow. First, the use of *RandomizedSearchCV* for getting close to the parameteres values which enhance the performace of the method. The second step is exploting computers' brute-force power calculation by means of *GridSearchCV* in order to tailor the parameter's values towards the optimal predictor.\n",
    "\n",
    "# Raw estimation of the optimal parameters"
   ]
  },
  {
   "cell_type": "code",
   "execution_count": 19,
   "id": "c066af23",
   "metadata": {},
   "outputs": [],
   "source": [
    "# Building the \"map\" where the good estimators might be located on\n",
    "\n",
    "n_estimators = [25, 40, 50, 75, 100, 150, 200, 300, 500, 700, 800, 1000] # Check criterions\n",
    "max_depth = [1, 2, 3, 5, 10, 20, 50 , None]\n",
    "min_samples_split = [2,3,4,5]\n",
    "min_samples_leaf = [1,2,3]\n",
    "max_features = [\"sqrt\",\"log2\", None]\n",
    "bootstrap = [True, False]\n",
    "\n",
    "hyperparameters = {'n_estimators': n_estimators,\n",
    "                  'max_depth': max_depth,\n",
    "                  'min_samples_split': min_samples_split,\n",
    "                  'min_samples_leaf': min_samples_leaf,\n",
    "                  'max_features': max_features,\n",
    "                  'bootstrap': bootstrap}"
   ]
  },
  {
   "cell_type": "code",
   "execution_count": 20,
   "id": "756d6336",
   "metadata": {},
   "outputs": [
    {
     "name": "stdout",
     "output_type": "stream",
     "text": [
      "Fitting 10 folds for each of 460 candidates, totalling 4600 fits\n"
     ]
    },
    {
     "data": {
      "text/plain": [
       "RandomizedSearchCV(cv=10, estimator=RandomForestRegressor(), n_iter=460,\n",
       "                   n_jobs=-1,\n",
       "                   param_distributions={'bootstrap': [True, False],\n",
       "                                        'max_depth': [1, 2, 3, 5, 10, 20, 50,\n",
       "                                                      None],\n",
       "                                        'max_features': ['sqrt', 'log2', None],\n",
       "                                        'min_samples_leaf': [1, 2, 3],\n",
       "                                        'min_samples_split': [2, 3, 4, 5],\n",
       "                                        'n_estimators': [25, 40, 50, 75, 100,\n",
       "                                                         150, 200, 300, 500,\n",
       "                                                         700, 800, 1000]},\n",
       "                   random_state=28, verbose=1)"
      ]
     },
     "execution_count": 20,
     "metadata": {},
     "output_type": "execute_result"
    }
   ],
   "source": [
    "# invoking the model selection tool \n",
    "from sklearn.model_selection import RandomizedSearchCV \n",
    "\n",
    "\n",
    "# a set of hyperparameters is provided to the function. Sampling randomly the hyperparameters (not all of them),\n",
    "# the optimal one is search by cross-validation.\n",
    "\n",
    "\n",
    "RFR = RandomForestRegressor()\n",
    "RFR_search = RandomizedSearchCV(estimator= RFR, param_distributions=hyperparameters,n_iter=460, scoring= None, \n",
    "                                n_jobs=-1, refit=True, cv=10, verbose=1, random_state= 28, return_train_score=False)\n",
    "\n",
    "RFR_search.fit(X_train, y_train)\n"
   ]
  },
  {
   "cell_type": "code",
   "execution_count": 21,
   "id": "3e1d20a0",
   "metadata": {},
   "outputs": [
    {
     "name": "stdout",
     "output_type": "stream",
     "text": [
      "The best candidate set of hyperparameters obtained is {'n_estimators': 300, 'min_samples_split': 3, 'min_samples_leaf': 3, 'max_features': 'sqrt', 'max_depth': 2, 'bootstrap': True}\n",
      "\n"
     ]
    }
   ],
   "source": [
    "print('The best candidate set of hyperparameters obtained is {}\\n'.format(RFR_search.best_params_))"
   ]
  },
  {
   "cell_type": "markdown",
   "id": "5789ec8c",
   "metadata": {},
   "source": [
    "# Exhaustive search for the optimal parameters in the estimated region\n",
    "This corresponds to the second step of the optimization process. Once the \"location\" of the optimal parameters have been found, the hardcore digging begins in favor of finding the treasure. "
   ]
  },
  {
   "cell_type": "code",
   "execution_count": 22,
   "id": "2cd807c9",
   "metadata": {},
   "outputs": [
    {
     "name": "stdout",
     "output_type": "stream",
     "text": [
      "{'n_estimators': 300, 'min_samples_split': 3, 'min_samples_leaf': 3, 'max_features': 'sqrt', 'max_depth': 2, 'bootstrap': True}\n",
      "{'n_estimators': [270, 280, 290, 300, 310, 320, 330], 'min_samples_split': [2, 3, 4, 5], 'min_samples_leaf': [1, 2, 3, 4, 5], 'max_features': ['sqrt'], 'max_depth': [2, 4, 6, 8], 'bootstrap': [True]}\n"
     ]
    }
   ],
   "source": [
    "from sklearn.model_selection import GridSearchCV\n",
    "\n",
    "opt_par = RFR_search.best_params_\n",
    "param_grid = {'n_estimators':[], 'min_samples_split': [], 'min_samples_leaf': [], \n",
    "               'max_features':[], 'max_depth': [], 'bootstrap': []}\n",
    "\n",
    "delta_n_estimators = [-30, -20, -10, 0, 10, 20, 30]\n",
    "delta_min_samples_split = [-2, -1, 0, 1, 2]\n",
    "delta_min_samples_leaf = [-2, -1, 0, 1, 2]\n",
    "delta_max_depth = [-6, -4, -2, 0, 2, 4, 6]\n",
    "\n",
    "param_grid[\"max_features\"] = [opt_par[\"max_features\"]]\n",
    "param_grid[\"bootstrap\"] = [opt_par[\"bootstrap\"]]\n",
    "\n",
    "for i in delta_n_estimators:\n",
    "    if opt_par[\"n_estimators\"] + i > 0:\n",
    "        param_grid['n_estimators'].append(opt_par[\"n_estimators\"] + i ) \n",
    "\n",
    "for i in delta_min_samples_split:\n",
    "    if opt_par[\"min_samples_split\"] + i > 1:\n",
    "        param_grid['min_samples_split'].append(opt_par[\"min_samples_split\"] + i)\n",
    "\n",
    "for i in delta_min_samples_leaf:\n",
    "    if opt_par[\"min_samples_leaf\"] + i > 0:\n",
    "        param_grid['min_samples_leaf'].append(opt_par[\"min_samples_leaf\"] + i)\n",
    "  \n",
    "if opt_par[\"max_depth\"] != None:\n",
    "        for i in delta_max_depth:\n",
    "            if opt_par[\"max_depth\"] + i > 0:\n",
    "                param_grid['max_depth'].append(opt_par[\"max_depth\"] + i)\n",
    "else: param_grid[\"max_depth\"] = [opt_par[\"max_depth\"]]\n",
    "\n",
    "print(opt_par)\n",
    "print(param_grid)"
   ]
  },
  {
   "cell_type": "code",
   "execution_count": 23,
   "id": "dbbfdd77",
   "metadata": {},
   "outputs": [],
   "source": [
    "RFR_grid = GridSearchCV(estimator= RFR, param_grid= param_grid, n_jobs= -1, refit=True, cv= 10, verbose=1,\n",
    "                        return_train_score=False)"
   ]
  },
  {
   "cell_type": "code",
   "execution_count": 24,
   "id": "e56fe882",
   "metadata": {},
   "outputs": [
    {
     "name": "stdout",
     "output_type": "stream",
     "text": [
      "Fitting 10 folds for each of 560 candidates, totalling 5600 fits\n"
     ]
    },
    {
     "data": {
      "text/plain": [
       "GridSearchCV(cv=10, estimator=RandomForestRegressor(), n_jobs=-1,\n",
       "             param_grid={'bootstrap': [True], 'max_depth': [2, 4, 6, 8],\n",
       "                         'max_features': ['sqrt'],\n",
       "                         'min_samples_leaf': [1, 2, 3, 4, 5],\n",
       "                         'min_samples_split': [2, 3, 4, 5],\n",
       "                         'n_estimators': [270, 280, 290, 300, 310, 320, 330]},\n",
       "             verbose=1)"
      ]
     },
     "execution_count": 24,
     "metadata": {},
     "output_type": "execute_result"
    }
   ],
   "source": [
    "RFR_grid.fit(X_train, y_train)"
   ]
  },
  {
   "cell_type": "code",
   "execution_count": 25,
   "id": "f3e169e0-9fa9-4b90-a266-ee69cb30908c",
   "metadata": {},
   "outputs": [
    {
     "name": "stdout",
     "output_type": "stream",
     "text": [
      "The optimal values for the hyperparameters are: {'bootstrap': True, 'max_depth': 2, 'max_features': 'sqrt', 'min_samples_leaf': 5, 'min_samples_split': 3, 'n_estimators': 320} \n",
      "\n"
     ]
    }
   ],
   "source": [
    "print('The optimal values for the hyperparameters are: {} \\n'.format(RFR_grid.best_params_))\n"
   ]
  },
  {
   "cell_type": "code",
   "execution_count": 26,
   "id": "be8efcbe",
   "metadata": {},
   "outputs": [
    {
     "name": "stdout",
     "output_type": "stream",
     "text": [
      "Test set evaluation:\n",
      "_____________________________________\n",
      "MAE: 26.869965139989837\n",
      "MSE: 1000.8232708694147\n",
      "RMSE: 31.635790979038514\n",
      "_ _ _ _ _ _ _ _ _ _  _ _ _ \n",
      "R2 Square 0.10506489179853928\n",
      "_ _ _ _ _ _ _ _ _ _  _ _ _ \n",
      "R2 adjusted square -3.9860670314081386\n",
      "__________________________________\n",
      "====================================\n",
      "Train set evaluation:\n",
      "_____________________________________\n",
      "MAE: 25.17592275675831\n",
      "MSE: 884.3467501420399\n",
      "RMSE: 29.737968157593414\n",
      "_ _ _ _ _ _ _ _ _ _  _ _ _ \n",
      "R2 Square 0.24692226486290447\n",
      "_ _ _ _ _ _ _ _ _ _  _ _ _ \n",
      "R2 adjusted square 0.054134364667807966\n",
      "__________________________________\n"
     ]
    }
   ],
   "source": [
    "RFR_grid.best_estimator_\n",
    "\n",
    "y_test_predRFopt = RFR_grid.best_estimator_.predict(X_test)\n",
    "y_train_predRFopt = RFR_grid.best_estimator_.predict(X_train)\n",
    "\n",
    "print('Test set evaluation:\\n_____________________________________')\n",
    "print_evaluate(y_test, y_test_predRFopt)\n",
    "print('====================================')\n",
    "print('Train set evaluation:\\n_____________________________________')\n",
    "print_evaluate(y_train, y_train_predRFopt)"
   ]
  },
  {
   "cell_type": "code",
   "execution_count": 27,
   "id": "3bd9dbb8",
   "metadata": {},
   "outputs": [
    {
     "data": {
      "image/png": "[encoded data removed]",
      "text/plain": [
       "<Figure size 432x288 with 1 Axes>"
      ]
     },
     "metadata": {
      "needs_background": "light"
     },
     "output_type": "display_data"
    }
   ],
   "source": [
    "Fitfunction(RFR_grid.best_estimator_)"
   ]
  },
  {
   "cell_type": "code",
   "execution_count": 28,
   "id": "8297c4d8",
   "metadata": {},
   "outputs": [
    {
     "name": "stderr",
     "output_type": "stream",
     "text": [
      "C:\\Users\\andre\\anaconda3\\lib\\site-packages\\seaborn\\distributions.py:2619: FutureWarning: `distplot` is a deprecated function and will be removed in a future version. Please adapt your code to use either `displot` (a figure-level function with similar flexibility) or `histplot` (an axes-level function for histograms).\n",
      "  warnings.warn(msg, FutureWarning)\n"
     ]
    },
    {
     "data": {
      "image/png": "[encoded data removed]",
      "text/plain": [
       "<Figure size 720x360 with 1 Axes>"
      ]
     },
     "metadata": {
      "needs_background": "light"
     },
     "output_type": "display_data"
    }
   ],
   "source": [
    "Histo_prediction_true(RFR_grid.best_estimator_)"
   ]
  },
  {
   "cell_type": "code",
   "execution_count": 29,
   "id": "6a5efae3",
   "metadata": {},
   "outputs": [
    {
     "data": {
      "image/png": "[encoded data removed]",
      "text/plain": [
       "<Figure size 432x288 with 1 Axes>"
      ]
     },
     "metadata": {
      "needs_background": "light"
     },
     "output_type": "display_data"
    }
   ],
   "source": [
    "Pred_Real_Model(RFR_grid.best_estimator_)"
   ]
  },
  {
   "cell_type": "code",
   "execution_count": 30,
   "id": "9ff32e7b",
   "metadata": {},
   "outputs": [
    {
     "name": "stdout",
     "output_type": "stream",
     "text": [
      "R2 score: 0.10867128663800751\n",
      "Adjusted R2 score: -3.9659742601596717\n",
      "__________________________________\n"
     ]
    }
   ],
   "source": [
    "regression_accuracy(RFR_grid.best_estimator_)"
   ]
  },
  {
   "cell_type": "markdown",
   "id": "77e6ba8a",
   "metadata": {},
   "source": [
    "# Conclussion\n",
    "Random Forest are very well-known for falling in overfitting quite quickly. Due to this, the feature selection and the characteristics of the decision trees are critical for the precdictor model. The optimization process selected in this code provide no clear benefits neither improvement of the default model. The random nature of the first step via *SearchGridCV* cannot assure the likelihood of being near the best hyperparameters. Furthermore, it can actually accomplish the opposite goal."
   ]
  },
  {
   "cell_type": "code",
   "execution_count": null,
   "id": "93e49f1f",
   "metadata": {},
   "outputs": [],
   "source": []
  }
 ],
 "metadata": {
  "kernelspec": {
   "display_name": "Python 3 (ipykernel)",
   "language": "python",
   "name": "python3"
  },
  "language_info": {
   "codemirror_mode": {
    "name": "ipython",
    "version": 3
   },
   "file_extension": ".py",
   "mimetype": "text/x-python",
   "name": "python",
   "nbconvert_exporter": "python",
   "pygments_lexer": "ipython3",
   "version": "3.9.12"
  }
 },
 "nbformat": 4,
 "nbformat_minor": 5
}
