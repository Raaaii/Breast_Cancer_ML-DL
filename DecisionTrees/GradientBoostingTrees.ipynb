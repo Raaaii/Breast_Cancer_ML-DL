{
 "cells": [
  {
   "cell_type": "code",
   "execution_count": 1,
   "id": "7a96779a-af1f-4323-86a7-7ca63a05a0ce",
   "metadata": {},
   "outputs": [
    {
     "data": {
      "text/plain": [
       "'%.4f'"
      ]
     },
     "execution_count": 1,
     "metadata": {},
     "output_type": "execute_result"
    }
   ],
   "source": [
    "import numpy as np\n",
    "import pandas as pd\n",
    "import matplotlib.pyplot as plt\n",
    "import seaborn as sns\n",
    "from sklearn.preprocessing import LabelEncoder, StandardScaler\n",
    "from sklearn.impute import MissingIndicator, KNNImputer\n",
    "from sklearn.ensemble import GradientBoostingClassifier, GradientBoostingRegressor\n",
    "from imblearn.over_sampling import ADASYN\n",
    "from sklearn.model_selection import train_test_split, GridSearchCV\n",
    "from sklearn.metrics import make_scorer, fbeta_score, ConfusionMatrixDisplay, precision_recall_fscore_support\n",
    "%precision 4"
   ]
  },
  {
   "cell_type": "code",
   "execution_count": 2,
   "id": "0bfe0fea-ff0a-46e6-9dc8-357505304180",
   "metadata": {},
   "outputs": [
    {
     "name": "stdout",
     "output_type": "stream",
     "text": [
      "['id number', 'Diagnosis', 'Mean radius', 'Mean texture', 'Mean perimeter', 'Mean area', 'Mean smothness', 'Mean compactness', 'Mean concavity', 'Mean concave points', 'Mean symmetry', 'Mean fractal dimension', 'STD radius', 'STD texture', 'STD perimeter', 'STD area', 'STD smothness', 'STD compactness', 'STD concavity', 'STD concave points', 'STD symmetry', 'STD fractal dimension', 'Worst radius', 'Worst texture', 'Worst perimeter', 'Worst area', 'Worst smothness', 'Worst compactness', 'Worst concavity', 'Worst concave points', 'Worst symmetry', 'Worst fractal dimension']\n"
     ]
    }
   ],
   "source": [
    "features = [\"radius\", \"texture\", \"perimeter\", \"area\", \"smothness\", \"compactness\", \"concavity\", \"concave points\", \"symmetry\", \"fractal dimension\"]\n",
    "names = np.hstack(list(zip(*[[\"Mean \" + i, \"STD \" + i, \"Worst \" + i] for i in features])))\n",
    "print([\"id number\", \"Diagnosis\"] + list(names))"
   ]
  },
  {
   "cell_type": "code",
   "execution_count": 3,
   "id": "94878827-1c8d-4b17-8e7d-be7720e49571",
   "metadata": {},
   "outputs": [],
   "source": [
    "wisconsinRecurrence = pd.read_csv(\"../data/wpbc.csv\", names=[\"id number\", \"Recurrence\", \"Time\"] + list(names) + [\"Tumour Size\", \"Lymph node status\"] , na_values=[\"?\"])"
   ]
  },
  {
   "cell_type": "code",
   "execution_count": 4,
   "id": "f6ffc4b1-cfc0-4bba-9c89-5879863e9fe5",
   "metadata": {},
   "outputs": [
    {
     "data": {
      "text/html": [
       "<div>\n",
       "<style scoped>\n",
       "    .dataframe tbody tr th:only-of-type {\n",
       "        vertical-align: middle;\n",
       "    }\n",
       "\n",
       "    .dataframe tbody tr th {\n",
       "        vertical-align: top;\n",
       "    }\n",
       "\n",
       "    .dataframe thead th {\n",
       "        text-align: right;\n",
       "    }\n",
       "</style>\n",
       "<table border=\"1\" class=\"dataframe\">\n",
       "  <thead>\n",
       "    <tr style=\"text-align: right;\">\n",
       "      <th></th>\n",
       "      <th>id number</th>\n",
       "      <th>Recurrence</th>\n",
       "      <th>Time</th>\n",
       "      <th>Mean radius</th>\n",
       "      <th>Mean texture</th>\n",
       "      <th>Mean perimeter</th>\n",
       "      <th>Mean area</th>\n",
       "      <th>Mean smothness</th>\n",
       "      <th>Mean compactness</th>\n",
       "      <th>Mean concavity</th>\n",
       "      <th>...</th>\n",
       "      <th>Worst perimeter</th>\n",
       "      <th>Worst area</th>\n",
       "      <th>Worst smothness</th>\n",
       "      <th>Worst compactness</th>\n",
       "      <th>Worst concavity</th>\n",
       "      <th>Worst concave points</th>\n",
       "      <th>Worst symmetry</th>\n",
       "      <th>Worst fractal dimension</th>\n",
       "      <th>Tumour Size</th>\n",
       "      <th>Lymph node status</th>\n",
       "    </tr>\n",
       "  </thead>\n",
       "  <tbody>\n",
       "    <tr>\n",
       "      <th>0</th>\n",
       "      <td>119513</td>\n",
       "      <td>N</td>\n",
       "      <td>31</td>\n",
       "      <td>18.02</td>\n",
       "      <td>27.60</td>\n",
       "      <td>117.50</td>\n",
       "      <td>1013.0</td>\n",
       "      <td>0.09489</td>\n",
       "      <td>0.10360</td>\n",
       "      <td>0.10860</td>\n",
       "      <td>...</td>\n",
       "      <td>139.70</td>\n",
       "      <td>1436.0</td>\n",
       "      <td>0.11950</td>\n",
       "      <td>0.1926</td>\n",
       "      <td>0.3140</td>\n",
       "      <td>0.11700</td>\n",
       "      <td>0.2677</td>\n",
       "      <td>0.08113</td>\n",
       "      <td>5.0</td>\n",
       "      <td>5.0</td>\n",
       "    </tr>\n",
       "    <tr>\n",
       "      <th>1</th>\n",
       "      <td>8423</td>\n",
       "      <td>N</td>\n",
       "      <td>61</td>\n",
       "      <td>17.99</td>\n",
       "      <td>10.38</td>\n",
       "      <td>122.80</td>\n",
       "      <td>1001.0</td>\n",
       "      <td>0.11840</td>\n",
       "      <td>0.27760</td>\n",
       "      <td>0.30010</td>\n",
       "      <td>...</td>\n",
       "      <td>184.60</td>\n",
       "      <td>2019.0</td>\n",
       "      <td>0.16220</td>\n",
       "      <td>0.6656</td>\n",
       "      <td>0.7119</td>\n",
       "      <td>0.26540</td>\n",
       "      <td>0.4601</td>\n",
       "      <td>0.11890</td>\n",
       "      <td>3.0</td>\n",
       "      <td>2.0</td>\n",
       "    </tr>\n",
       "    <tr>\n",
       "      <th>2</th>\n",
       "      <td>842517</td>\n",
       "      <td>N</td>\n",
       "      <td>116</td>\n",
       "      <td>21.37</td>\n",
       "      <td>17.44</td>\n",
       "      <td>137.50</td>\n",
       "      <td>1373.0</td>\n",
       "      <td>0.08836</td>\n",
       "      <td>0.11890</td>\n",
       "      <td>0.12550</td>\n",
       "      <td>...</td>\n",
       "      <td>159.10</td>\n",
       "      <td>1949.0</td>\n",
       "      <td>0.11880</td>\n",
       "      <td>0.3449</td>\n",
       "      <td>0.3414</td>\n",
       "      <td>0.20320</td>\n",
       "      <td>0.4334</td>\n",
       "      <td>0.09067</td>\n",
       "      <td>2.5</td>\n",
       "      <td>0.0</td>\n",
       "    </tr>\n",
       "    <tr>\n",
       "      <th>3</th>\n",
       "      <td>843483</td>\n",
       "      <td>N</td>\n",
       "      <td>123</td>\n",
       "      <td>11.42</td>\n",
       "      <td>20.38</td>\n",
       "      <td>77.58</td>\n",
       "      <td>386.1</td>\n",
       "      <td>0.14250</td>\n",
       "      <td>0.28390</td>\n",
       "      <td>0.24140</td>\n",
       "      <td>...</td>\n",
       "      <td>98.87</td>\n",
       "      <td>567.7</td>\n",
       "      <td>0.20980</td>\n",
       "      <td>0.8663</td>\n",
       "      <td>0.6869</td>\n",
       "      <td>0.25750</td>\n",
       "      <td>0.6638</td>\n",
       "      <td>0.17300</td>\n",
       "      <td>2.0</td>\n",
       "      <td>0.0</td>\n",
       "    </tr>\n",
       "    <tr>\n",
       "      <th>4</th>\n",
       "      <td>843584</td>\n",
       "      <td>R</td>\n",
       "      <td>27</td>\n",
       "      <td>20.29</td>\n",
       "      <td>14.34</td>\n",
       "      <td>135.10</td>\n",
       "      <td>1297.0</td>\n",
       "      <td>0.10030</td>\n",
       "      <td>0.13280</td>\n",
       "      <td>0.19800</td>\n",
       "      <td>...</td>\n",
       "      <td>152.20</td>\n",
       "      <td>1575.0</td>\n",
       "      <td>0.13740</td>\n",
       "      <td>0.2050</td>\n",
       "      <td>0.4000</td>\n",
       "      <td>0.16250</td>\n",
       "      <td>0.2364</td>\n",
       "      <td>0.07678</td>\n",
       "      <td>3.5</td>\n",
       "      <td>0.0</td>\n",
       "    </tr>\n",
       "    <tr>\n",
       "      <th>...</th>\n",
       "      <td>...</td>\n",
       "      <td>...</td>\n",
       "      <td>...</td>\n",
       "      <td>...</td>\n",
       "      <td>...</td>\n",
       "      <td>...</td>\n",
       "      <td>...</td>\n",
       "      <td>...</td>\n",
       "      <td>...</td>\n",
       "      <td>...</td>\n",
       "      <td>...</td>\n",
       "      <td>...</td>\n",
       "      <td>...</td>\n",
       "      <td>...</td>\n",
       "      <td>...</td>\n",
       "      <td>...</td>\n",
       "      <td>...</td>\n",
       "      <td>...</td>\n",
       "      <td>...</td>\n",
       "      <td>...</td>\n",
       "      <td>...</td>\n",
       "    </tr>\n",
       "    <tr>\n",
       "      <th>193</th>\n",
       "      <td>942640</td>\n",
       "      <td>N</td>\n",
       "      <td>10</td>\n",
       "      <td>22.52</td>\n",
       "      <td>21.92</td>\n",
       "      <td>146.90</td>\n",
       "      <td>1597.0</td>\n",
       "      <td>0.07592</td>\n",
       "      <td>0.09162</td>\n",
       "      <td>0.06862</td>\n",
       "      <td>...</td>\n",
       "      <td>162.10</td>\n",
       "      <td>1902.0</td>\n",
       "      <td>0.08191</td>\n",
       "      <td>0.1319</td>\n",
       "      <td>0.1056</td>\n",
       "      <td>0.09378</td>\n",
       "      <td>0.2061</td>\n",
       "      <td>0.05788</td>\n",
       "      <td>6.0</td>\n",
       "      <td>2.0</td>\n",
       "    </tr>\n",
       "    <tr>\n",
       "      <th>194</th>\n",
       "      <td>943471</td>\n",
       "      <td>N</td>\n",
       "      <td>8</td>\n",
       "      <td>15.44</td>\n",
       "      <td>31.18</td>\n",
       "      <td>101.00</td>\n",
       "      <td>740.4</td>\n",
       "      <td>0.09399</td>\n",
       "      <td>0.10620</td>\n",
       "      <td>0.13750</td>\n",
       "      <td>...</td>\n",
       "      <td>112.60</td>\n",
       "      <td>929.0</td>\n",
       "      <td>0.12720</td>\n",
       "      <td>0.2362</td>\n",
       "      <td>0.2975</td>\n",
       "      <td>0.12860</td>\n",
       "      <td>0.2914</td>\n",
       "      <td>0.08024</td>\n",
       "      <td>1.5</td>\n",
       "      <td>0.0</td>\n",
       "    </tr>\n",
       "    <tr>\n",
       "      <th>195</th>\n",
       "      <td>94547</td>\n",
       "      <td>N</td>\n",
       "      <td>12</td>\n",
       "      <td>17.17</td>\n",
       "      <td>29.19</td>\n",
       "      <td>110.00</td>\n",
       "      <td>915.3</td>\n",
       "      <td>0.08952</td>\n",
       "      <td>0.06655</td>\n",
       "      <td>0.06583</td>\n",
       "      <td>...</td>\n",
       "      <td>132.50</td>\n",
       "      <td>1295.0</td>\n",
       "      <td>0.12610</td>\n",
       "      <td>0.1572</td>\n",
       "      <td>0.2141</td>\n",
       "      <td>0.09520</td>\n",
       "      <td>0.3362</td>\n",
       "      <td>0.06033</td>\n",
       "      <td>3.7</td>\n",
       "      <td>0.0</td>\n",
       "    </tr>\n",
       "    <tr>\n",
       "      <th>196</th>\n",
       "      <td>947204</td>\n",
       "      <td>R</td>\n",
       "      <td>3</td>\n",
       "      <td>21.42</td>\n",
       "      <td>22.84</td>\n",
       "      <td>145.00</td>\n",
       "      <td>1440.0</td>\n",
       "      <td>0.10700</td>\n",
       "      <td>0.19390</td>\n",
       "      <td>0.23800</td>\n",
       "      <td>...</td>\n",
       "      <td>198.30</td>\n",
       "      <td>2375.0</td>\n",
       "      <td>0.14980</td>\n",
       "      <td>0.4379</td>\n",
       "      <td>0.5411</td>\n",
       "      <td>0.22150</td>\n",
       "      <td>0.2832</td>\n",
       "      <td>0.08981</td>\n",
       "      <td>3.0</td>\n",
       "      <td>NaN</td>\n",
       "    </tr>\n",
       "    <tr>\n",
       "      <th>197</th>\n",
       "      <td>947489</td>\n",
       "      <td>N</td>\n",
       "      <td>6</td>\n",
       "      <td>16.70</td>\n",
       "      <td>28.13</td>\n",
       "      <td>110.30</td>\n",
       "      <td>885.4</td>\n",
       "      <td>0.08896</td>\n",
       "      <td>0.11310</td>\n",
       "      <td>0.10120</td>\n",
       "      <td>...</td>\n",
       "      <td>128.80</td>\n",
       "      <td>1213.0</td>\n",
       "      <td>0.13300</td>\n",
       "      <td>0.2808</td>\n",
       "      <td>0.3455</td>\n",
       "      <td>0.13170</td>\n",
       "      <td>0.3035</td>\n",
       "      <td>0.08036</td>\n",
       "      <td>3.5</td>\n",
       "      <td>0.0</td>\n",
       "    </tr>\n",
       "  </tbody>\n",
       "</table>\n",
       "<p>198 rows × 35 columns</p>\n",
       "</div>"
      ],
      "text/plain": [
       "     id number Recurrence  Time  Mean radius  Mean texture  Mean perimeter  \\\n",
       "0       119513          N    31        18.02         27.60          117.50   \n",
       "1         8423          N    61        17.99         10.38          122.80   \n",
       "2       842517          N   116        21.37         17.44          137.50   \n",
       "3       843483          N   123        11.42         20.38           77.58   \n",
       "4       843584          R    27        20.29         14.34          135.10   \n",
       "..         ...        ...   ...          ...           ...             ...   \n",
       "193     942640          N    10        22.52         21.92          146.90   \n",
       "194     943471          N     8        15.44         31.18          101.00   \n",
       "195      94547          N    12        17.17         29.19          110.00   \n",
       "196     947204          R     3        21.42         22.84          145.00   \n",
       "197     947489          N     6        16.70         28.13          110.30   \n",
       "\n",
       "     Mean area  Mean smothness  Mean compactness  Mean concavity  ...  \\\n",
       "0       1013.0         0.09489           0.10360         0.10860  ...   \n",
       "1       1001.0         0.11840           0.27760         0.30010  ...   \n",
       "2       1373.0         0.08836           0.11890         0.12550  ...   \n",
       "3        386.1         0.14250           0.28390         0.24140  ...   \n",
       "4       1297.0         0.10030           0.13280         0.19800  ...   \n",
       "..         ...             ...               ...             ...  ...   \n",
       "193     1597.0         0.07592           0.09162         0.06862  ...   \n",
       "194      740.4         0.09399           0.10620         0.13750  ...   \n",
       "195      915.3         0.08952           0.06655         0.06583  ...   \n",
       "196     1440.0         0.10700           0.19390         0.23800  ...   \n",
       "197      885.4         0.08896           0.11310         0.10120  ...   \n",
       "\n",
       "     Worst perimeter  Worst area  Worst smothness  Worst compactness  \\\n",
       "0             139.70      1436.0          0.11950             0.1926   \n",
       "1             184.60      2019.0          0.16220             0.6656   \n",
       "2             159.10      1949.0          0.11880             0.3449   \n",
       "3              98.87       567.7          0.20980             0.8663   \n",
       "4             152.20      1575.0          0.13740             0.2050   \n",
       "..               ...         ...              ...                ...   \n",
       "193           162.10      1902.0          0.08191             0.1319   \n",
       "194           112.60       929.0          0.12720             0.2362   \n",
       "195           132.50      1295.0          0.12610             0.1572   \n",
       "196           198.30      2375.0          0.14980             0.4379   \n",
       "197           128.80      1213.0          0.13300             0.2808   \n",
       "\n",
       "     Worst concavity  Worst concave points  Worst symmetry  \\\n",
       "0             0.3140               0.11700          0.2677   \n",
       "1             0.7119               0.26540          0.4601   \n",
       "2             0.3414               0.20320          0.4334   \n",
       "3             0.6869               0.25750          0.6638   \n",
       "4             0.4000               0.16250          0.2364   \n",
       "..               ...                   ...             ...   \n",
       "193           0.1056               0.09378          0.2061   \n",
       "194           0.2975               0.12860          0.2914   \n",
       "195           0.2141               0.09520          0.3362   \n",
       "196           0.5411               0.22150          0.2832   \n",
       "197           0.3455               0.13170          0.3035   \n",
       "\n",
       "     Worst fractal dimension  Tumour Size  Lymph node status  \n",
       "0                    0.08113          5.0                5.0  \n",
       "1                    0.11890          3.0                2.0  \n",
       "2                    0.09067          2.5                0.0  \n",
       "3                    0.17300          2.0                0.0  \n",
       "4                    0.07678          3.5                0.0  \n",
       "..                       ...          ...                ...  \n",
       "193                  0.05788          6.0                2.0  \n",
       "194                  0.08024          1.5                0.0  \n",
       "195                  0.06033          3.7                0.0  \n",
       "196                  0.08981          3.0                NaN  \n",
       "197                  0.08036          3.5                0.0  \n",
       "\n",
       "[198 rows x 35 columns]"
      ]
     },
     "execution_count": 4,
     "metadata": {},
     "output_type": "execute_result"
    }
   ],
   "source": [
    "wisconsinRecurrence"
   ]
  },
  {
   "cell_type": "markdown",
   "id": "bc6eaeaa-55ba-4646-a5f1-2965e5e25205",
   "metadata": {
    "tags": []
   },
   "source": [
    "# wisconsinRecurrence has unique id numbers"
   ]
  },
  {
   "cell_type": "code",
   "execution_count": 5,
   "id": "3d9fbf81-25a5-4e8b-b338-b72c688187c7",
   "metadata": {},
   "outputs": [
    {
     "data": {
      "text/plain": [
       "True"
      ]
     },
     "execution_count": 5,
     "metadata": {},
     "output_type": "execute_result"
    }
   ],
   "source": [
    "len(np.unique(wisconsinRecurrence[\"id number\"])) == len(wisconsinRecurrence[\"id number\"])"
   ]
  },
  {
   "cell_type": "code",
   "execution_count": 6,
   "id": "b2e3990a-7be2-4041-98ec-f72626128810",
   "metadata": {},
   "outputs": [],
   "source": [
    "wisconsinRecurrence = wisconsinRecurrence.set_index(\"id number\")"
   ]
  },
  {
   "cell_type": "markdown",
   "id": "6b231e6b-2d7a-43ac-99d4-6e88b2e78579",
   "metadata": {},
   "source": [
    "# Time cannot be known before recurrence"
   ]
  },
  {
   "cell_type": "code",
   "execution_count": 7,
   "id": "658ddde4-35e1-4f40-af3e-483487f196aa",
   "metadata": {},
   "outputs": [],
   "source": [
    "time = wisconsinRecurrence.pop(\"Time\")"
   ]
  },
  {
   "cell_type": "markdown",
   "id": "60995b8a-9af1-46e4-b9f1-4a531eebc396",
   "metadata": {},
   "source": [
    "# There are 4 NaN values in Lymph node status"
   ]
  },
  {
   "cell_type": "code",
   "execution_count": 8,
   "id": "d8cb39dc-2c67-4415-a633-5d1a880eb351",
   "metadata": {},
   "outputs": [
    {
     "data": {
      "text/plain": [
       "Recurrence                 0\n",
       "Mean radius                0\n",
       "Mean texture               0\n",
       "Mean perimeter             0\n",
       "Mean area                  0\n",
       "Mean smothness             0\n",
       "Mean compactness           0\n",
       "Mean concavity             0\n",
       "Mean concave points        0\n",
       "Mean symmetry              0\n",
       "Mean fractal dimension     0\n",
       "STD radius                 0\n",
       "STD texture                0\n",
       "STD perimeter              0\n",
       "STD area                   0\n",
       "STD smothness              0\n",
       "STD compactness            0\n",
       "STD concavity              0\n",
       "STD concave points         0\n",
       "STD symmetry               0\n",
       "STD fractal dimension      0\n",
       "Worst radius               0\n",
       "Worst texture              0\n",
       "Worst perimeter            0\n",
       "Worst area                 0\n",
       "Worst smothness            0\n",
       "Worst compactness          0\n",
       "Worst concavity            0\n",
       "Worst concave points       0\n",
       "Worst symmetry             0\n",
       "Worst fractal dimension    0\n",
       "Tumour Size                0\n",
       "Lymph node status          4\n",
       "dtype: int64"
      ]
     },
     "execution_count": 8,
     "metadata": {},
     "output_type": "execute_result"
    }
   ],
   "source": [
    "wisconsinRecurrence.isna().astype(int).sum()"
   ]
  },
  {
   "cell_type": "markdown",
   "id": "f2ae9636-6f58-430a-aed7-c5c480c5bcea",
   "metadata": {
    "tags": []
   },
   "source": [
    "# Fill missing values in Lymph node status"
   ]
  },
  {
   "cell_type": "markdown",
   "id": "ffab4a07-01b7-40d7-ac5d-7611301bc6a2",
   "metadata": {},
   "source": [
    "## 4 Missing values"
   ]
  },
  {
   "cell_type": "code",
   "execution_count": 9,
   "id": "557a6601-e525-4edc-b56b-97b1d7264562",
   "metadata": {},
   "outputs": [],
   "source": [
    "wisconsinRecurrence.columns = wisconsinRecurrence.columns.astype(str)"
   ]
  },
  {
   "cell_type": "code",
   "execution_count": 10,
   "id": "f1eca5cd-d577-4552-a81e-62793e4c702d",
   "metadata": {},
   "outputs": [
    {
     "data": {
      "text/plain": [
       "array([4])"
      ]
     },
     "execution_count": 10,
     "metadata": {},
     "output_type": "execute_result"
    }
   ],
   "source": [
    "sum(MissingIndicator().fit_transform(wisconsinRecurrence))"
   ]
  },
  {
   "cell_type": "code",
   "execution_count": 11,
   "id": "b8a39f50-0959-4337-aa74-a314d1a40800",
   "metadata": {
    "tags": []
   },
   "outputs": [
    {
     "data": {
      "text/plain": [
       "array([ 5.,  2.,  0.,  0.,  0.,  0., nan, 10.,  1., 20.,  0.,  0.,  0.,\n",
       "        6.,  0.,  1.,  0.,  1.,  0.,  1.,  0., 13.,  0.,  0.,  2.,  1.,\n",
       "        0.,  0., nan, 13., 10.,  0.,  0.,  0.,  0.,  1.,  1.,  0.,  1.,\n",
       "        0., 13.,  6.,  0.,  1.,  0.,  4.,  2.,  0.,  1.,  0.,  2.,  1.,\n",
       "        0.,  0.,  4.,  2.,  1., 17.,  0., 15., 11.,  0.,  9.,  0.,  8.,\n",
       "        1.,  0.,  7.,  2.,  0.,  3.,  1.,  2.,  1.,  1.,  4.,  7.,  1.,\n",
       "        0.,  3.,  0.,  4.,  9.,  0.,  1., nan, 14.,  0.,  0.,  0.,  1.,\n",
       "        0.,  2.,  0.,  0.,  1., 27.,  5., 24.,  1.,  0.,  1.,  0.,  7.,\n",
       "        0., 15.,  0.,  0.,  3.,  1.,  1.,  0.,  6.,  2., 11.,  0.,  0.,\n",
       "       15.,  0., 18.,  0., 11.,  0.,  1.,  2.,  2.,  0.,  0.,  4., 13.,\n",
       "        0.,  0.,  0.,  0.,  2.,  1.,  0.,  0.,  0., 13., 16.,  3., 13.,\n",
       "        0.,  1., 27.,  0.,  4.,  0.,  0.,  7.,  0.,  7.,  0.,  0.,  9.,\n",
       "        0.,  2.,  0., 20.,  0.,  4.,  1.,  8.,  1.,  4.,  1.,  1.,  0.,\n",
       "        0.,  0.,  0.,  1.,  1.,  2.,  0.,  9.,  4.,  0.,  2.,  0.,  0.,\n",
       "        4.,  0.,  0.,  0.,  0.,  1.,  7.,  2.,  0.,  1., 21.,  2.,  0.,\n",
       "        0., nan,  0.])"
      ]
     },
     "execution_count": 11,
     "metadata": {},
     "output_type": "execute_result"
    }
   ],
   "source": [
    "wisconsinRecurrence[\"Lymph node status\"].values"
   ]
  },
  {
   "cell_type": "markdown",
   "id": "7636878d-0062-478b-a6c6-4b7c37030fdb",
   "metadata": {},
   "source": [
    "# Checking for categorical data so that we do not scale categorical data"
   ]
  },
  {
   "cell_type": "code",
   "execution_count": 12,
   "id": "5f9eca2e-9095-41c8-b12c-c1a7e661180b",
   "metadata": {},
   "outputs": [
    {
     "data": {
      "text/plain": [
       "Recurrence                  object\n",
       "Mean radius                float64\n",
       "Mean texture               float64\n",
       "Mean perimeter             float64\n",
       "Mean area                  float64\n",
       "Mean smothness             float64\n",
       "Mean compactness           float64\n",
       "Mean concavity             float64\n",
       "Mean concave points        float64\n",
       "Mean symmetry              float64\n",
       "Mean fractal dimension     float64\n",
       "STD radius                 float64\n",
       "STD texture                float64\n",
       "STD perimeter              float64\n",
       "STD area                   float64\n",
       "STD smothness              float64\n",
       "STD compactness            float64\n",
       "STD concavity              float64\n",
       "STD concave points         float64\n",
       "STD symmetry               float64\n",
       "STD fractal dimension      float64\n",
       "Worst radius               float64\n",
       "Worst texture              float64\n",
       "Worst perimeter            float64\n",
       "Worst area                 float64\n",
       "Worst smothness            float64\n",
       "Worst compactness          float64\n",
       "Worst concavity            float64\n",
       "Worst concave points       float64\n",
       "Worst symmetry             float64\n",
       "Worst fractal dimension    float64\n",
       "Tumour Size                float64\n",
       "Lymph node status          float64\n",
       "dtype: object"
      ]
     },
     "execution_count": 12,
     "metadata": {},
     "output_type": "execute_result"
    }
   ],
   "source": [
    "wisconsinRecurrence.dtypes"
   ]
  },
  {
   "cell_type": "code",
   "execution_count": 13,
   "id": "e2ef477d-fb10-439c-bec9-d89656a57e04",
   "metadata": {},
   "outputs": [],
   "source": [
    "data = wisconsinRecurrence.values"
   ]
  },
  {
   "cell_type": "code",
   "execution_count": 14,
   "id": "f2e8c99a-4377-437e-844e-65435ebc8517",
   "metadata": {},
   "outputs": [],
   "source": [
    "encoder = LabelEncoder()"
   ]
  },
  {
   "cell_type": "code",
   "execution_count": 15,
   "id": "9a48274b-c53b-47cb-b603-cbaf2d36b31a",
   "metadata": {},
   "outputs": [],
   "source": [
    "recurrence = encoder.fit_transform(wisconsinRecurrence.Recurrence)"
   ]
  },
  {
   "cell_type": "code",
   "execution_count": 16,
   "id": "f1143f5b-4692-4692-992d-23393e7b6d60",
   "metadata": {},
   "outputs": [
    {
     "data": {
      "text/plain": [
       "array([0, 0, 0, 0, 1, 1, 0, 1, 0, 0, 0, 0, 0, 1, 0, 1, 0, 1, 0, 0, 0, 0,\n",
       "       0, 0, 0, 0, 0, 0, 0, 0, 0, 0, 0, 0, 1, 0, 0, 1, 0, 1, 1, 0, 1, 1,\n",
       "       0, 0, 1, 0, 1, 0, 1, 0, 0, 0, 0, 0, 1, 0, 0, 1, 0, 0, 1, 0, 0, 0,\n",
       "       0, 1, 0, 1, 0, 0, 0, 0, 0, 1, 0, 0, 0, 0, 0, 1, 0, 0, 0, 0, 0, 0,\n",
       "       1, 0, 0, 0, 0, 0, 0, 0, 0, 0, 0, 0, 0, 0, 0, 0, 0, 1, 0, 0, 0, 1,\n",
       "       1, 0, 1, 0, 1, 0, 0, 0, 0, 0, 1, 0, 0, 0, 0, 1, 0, 0, 1, 1, 0, 1,\n",
       "       1, 0, 0, 1, 0, 0, 0, 0, 0, 0, 0, 1, 0, 1, 0, 1, 0, 0, 1, 0, 1, 0,\n",
       "       0, 1, 0, 1, 0, 1, 0, 1, 0, 0, 0, 0, 0, 0, 0, 0, 0, 0, 0, 0, 0, 0,\n",
       "       1, 1, 0, 0, 0, 0, 0, 0, 0, 0, 0, 0, 0, 0, 0, 0, 0, 0, 0, 0, 1, 0])"
      ]
     },
     "execution_count": 16,
     "metadata": {},
     "output_type": "execute_result"
    }
   ],
   "source": [
    "recurrence"
   ]
  },
  {
   "cell_type": "code",
   "execution_count": 17,
   "id": "bc111bed-1ebe-4ee3-b1d8-62f2ea3b7553",
   "metadata": {},
   "outputs": [
    {
     "data": {
      "text/plain": [
       "array(['N', 'R'], dtype=object)"
      ]
     },
     "execution_count": 17,
     "metadata": {},
     "output_type": "execute_result"
    }
   ],
   "source": [
    "encoder.classes_"
   ]
  },
  {
   "cell_type": "code",
   "execution_count": 18,
   "id": "048e6f9d-d69f-4b33-865a-cf2f96e810eb",
   "metadata": {},
   "outputs": [],
   "source": [
    "data[:, 0] = recurrence"
   ]
  },
  {
   "cell_type": "code",
   "execution_count": 19,
   "id": "1abd35cc-155e-4590-9538-003c43eb5a27",
   "metadata": {},
   "outputs": [],
   "source": [
    "scaler = StandardScaler()"
   ]
  },
  {
   "cell_type": "code",
   "execution_count": 20,
   "id": "1ce65d5c-a755-4aff-a796-cd8900cb1f7f",
   "metadata": {},
   "outputs": [],
   "source": [
    "dataValues = scaler.fit_transform(data)"
   ]
  },
  {
   "cell_type": "code",
   "execution_count": 21,
   "id": "845788b9-2e70-4acf-a196-2a040df9961e",
   "metadata": {},
   "outputs": [],
   "source": [
    "data = KNNImputer(n_neighbors=4).fit_transform(dataValues)"
   ]
  },
  {
   "cell_type": "markdown",
   "id": "f47f4697-5e07-44a2-b307-87384f1de458",
   "metadata": {},
   "source": [
    "# Revesing the scaling because scaler should be fit only on the training data"
   ]
  },
  {
   "cell_type": "code",
   "execution_count": 22,
   "id": "71966fb1-5470-45c6-a923-1d0b7fdbbd8d",
   "metadata": {},
   "outputs": [],
   "source": [
    "data = scaler.inverse_transform(data)"
   ]
  },
  {
   "cell_type": "code",
   "execution_count": 23,
   "id": "c205b175-89af-43d1-8445-fb4787222070",
   "metadata": {},
   "outputs": [],
   "source": [
    "data = data.astype(object)"
   ]
  },
  {
   "cell_type": "markdown",
   "id": "97a6115a-9467-4f4c-92c4-d225f02ae6cd",
   "metadata": {},
   "source": [
    "data[:,0] = encoder.inverse_transform(data[:,0])"
   ]
  },
  {
   "cell_type": "code",
   "execution_count": 24,
   "id": "5c427063-9aac-44f0-a114-66dc7baf27ff",
   "metadata": {},
   "outputs": [],
   "source": [
    "wisconsinRecurrence = pd.DataFrame(data, index=wisconsinRecurrence.index, columns=wisconsinRecurrence.columns)"
   ]
  },
  {
   "cell_type": "markdown",
   "id": "3073172a-81b3-45cb-9bc3-2db72dc699c8",
   "metadata": {},
   "source": [
    "# Fix the errors with different column name types:"
   ]
  },
  {
   "cell_type": "code",
   "execution_count": 25,
   "id": "faa3124d-55e3-4dbc-9abc-bf26f0d212c9",
   "metadata": {},
   "outputs": [],
   "source": [
    "wisconsinRecurrence.columns = wisconsinRecurrence.columns.astype(str)"
   ]
  },
  {
   "cell_type": "markdown",
   "id": "1c9890a6-fa61-4d68-980f-6d886f14b3e6",
   "metadata": {},
   "source": [
    "# Train test split"
   ]
  },
  {
   "cell_type": "code",
   "execution_count": 26,
   "id": "1951d226-4509-40dd-ad6f-78a4920c7dd6",
   "metadata": {},
   "outputs": [],
   "source": [
    "recurrence = wisconsinRecurrence.pop(\"Recurrence\").astype(int)"
   ]
  },
  {
   "cell_type": "code",
   "execution_count": 27,
   "id": "0b5c952e-1320-4374-b2af-fbd17a814eff",
   "metadata": {},
   "outputs": [],
   "source": [
    "train_X, test_X, train_y, test_y = train_test_split(wisconsinRecurrence, recurrence, train_size=.8)"
   ]
  },
  {
   "cell_type": "markdown",
   "id": "5e3ef076-c6c2-4012-871a-1cca95e66675",
   "metadata": {
    "tags": []
   },
   "source": [
    "# Oversampling with ADASYN"
   ]
  },
  {
   "cell_type": "code",
   "execution_count": 28,
   "id": "3e854a84-53b3-42c8-978e-206548dfe240",
   "metadata": {},
   "outputs": [
    {
     "data": {
      "image/png": "[encoded data removed]",
      "text/plain": [
       "<Figure size 640x480 with 1 Axes>"
      ]
     },
     "metadata": {},
     "output_type": "display_data"
    }
   ],
   "source": [
    "sns.countplot(x=encoder.inverse_transform(train_y))\n",
    "plt.savefig(\"beforeOverSampling.png\", dpi=300)"
   ]
  },
  {
   "cell_type": "code",
   "execution_count": 29,
   "id": "6ff461e8-3143-408a-a5c8-5cbe9b8a963f",
   "metadata": {},
   "outputs": [],
   "source": [
    "upSampler = ADASYN(sampling_strategy=0.5, n_neighbors=10)"
   ]
  },
  {
   "cell_type": "code",
   "execution_count": 30,
   "id": "f1d7d12c-308e-4261-bae8-44d46c22bfd2",
   "metadata": {},
   "outputs": [],
   "source": [
    "train_X, train_y = upSampler.fit_resample(train_X, train_y)"
   ]
  },
  {
   "cell_type": "code",
   "execution_count": 31,
   "id": "7548b78d-9824-4f1e-842b-31fbb158990a",
   "metadata": {},
   "outputs": [
    {
     "data": {
      "image/png": "[encoded data removed]",
      "text/plain": [
       "<Figure size 640x480 with 1 Axes>"
      ]
     },
     "metadata": {},
     "output_type": "display_data"
    }
   ],
   "source": [
    "sns.countplot(x=encoder.inverse_transform(train_y))\n",
    "plt.savefig(\"afterOverSampling.png\", dpi=300)"
   ]
  },
  {
   "cell_type": "markdown",
   "id": "8125a2fa-7f29-4e7c-8428-a4d6577ba120",
   "metadata": {},
   "source": [
    "# F6 score to be used in cross validation"
   ]
  },
  {
   "cell_type": "code",
   "execution_count": 32,
   "id": "98938c25-f49a-479d-91f4-0ee986b29c3e",
   "metadata": {},
   "outputs": [],
   "source": [
    "score = make_scorer(fbeta_score, beta=6, average=\"binary\")"
   ]
  },
  {
   "cell_type": "markdown",
   "id": "b385d1d0-34ff-480d-b542-5617c57b2c78",
   "metadata": {},
   "source": [
    "# Cross validation"
   ]
  },
  {
   "cell_type": "code",
   "execution_count": 33,
   "id": "3c4126d0-2daf-4537-a94c-0342aeb98af6",
   "metadata": {},
   "outputs": [],
   "source": [
    "clf = GradientBoostingClassifier(warm_start=True, n_estimators=950)"
   ]
  },
  {
   "cell_type": "code",
   "execution_count": 34,
   "id": "78544654-1d91-4b90-9af8-fb8a620b1452",
   "metadata": {},
   "outputs": [],
   "source": [
    "parameters = {\n",
    "    \"max_features\":[3, 4, 5],\n",
    "    \"learning_rate\":[0.1, .2, .3, .4, .5, .6, .7, .8, .9, 1],\n",
    "    \"subsample\" : [.4, .5, .6, .7, .8, 1],\n",
    "}"
   ]
  },
  {
   "cell_type": "code",
   "execution_count": 35,
   "id": "3d7d2024-a119-4568-8c05-bc91f4b805ff",
   "metadata": {},
   "outputs": [],
   "source": [
    "cv = GridSearchCV(clf,parameters,cv=10, scoring=score, n_jobs=-1)"
   ]
  },
  {
   "cell_type": "markdown",
   "id": "95db1f11-1e7f-4140-a440-ef26f724a743",
   "metadata": {},
   "source": [
    "# Sample weights to be given to the fit method"
   ]
  },
  {
   "cell_type": "code",
   "execution_count": 36,
   "id": "43487506-6f55-42db-88f1-6712edaf5fdc",
   "metadata": {},
   "outputs": [],
   "source": [
    "weight = np.zeros_like(train_y, dtype=float)"
   ]
  },
  {
   "cell_type": "code",
   "execution_count": 37,
   "id": "6eab78b8-3648-44c4-b2ca-2b70c2404e58",
   "metadata": {},
   "outputs": [],
   "source": [
    "weight[train_y == 0] = 1\n",
    "weight[train_y == 1] = 2"
   ]
  },
  {
   "cell_type": "code",
   "execution_count": 38,
   "id": "de2ba35e-e7c9-4c95-b5f1-5d2731d77251",
   "metadata": {},
   "outputs": [
    {
     "data": {
      "text/html": [
       "<style>#sk-container-id-1 {color: black;background-color: white;}#sk-container-id-1 pre{padding: 0;}#sk-container-id-1 div.sk-toggleable {background-color: white;}#sk-container-id-1 label.sk-toggleable__label {cursor: pointer;display: block;width: 100%;margin-bottom: 0;padding: 0.3em;box-sizing: border-box;text-align: center;}#sk-container-id-1 label.sk-toggleable__label-arrow:before {content: \"▸\";float: left;margin-right: 0.25em;color: #696969;}#sk-container-id-1 label.sk-toggleable__label-arrow:hover:before {color: black;}#sk-container-id-1 div.sk-estimator:hover label.sk-toggleable__label-arrow:before {color: black;}#sk-container-id-1 div.sk-toggleable__content {max-height: 0;max-width: 0;overflow: hidden;text-align: left;background-color: #f0f8ff;}#sk-container-id-1 div.sk-toggleable__content pre {margin: 0.2em;color: black;border-radius: 0.25em;background-color: #f0f8ff;}#sk-container-id-1 input.sk-toggleable__control:checked~div.sk-toggleable__content {max-height: 200px;max-width: 100%;overflow: auto;}#sk-container-id-1 input.sk-toggleable__control:checked~label.sk-toggleable__label-arrow:before {content: \"▾\";}#sk-container-id-1 div.sk-estimator input.sk-toggleable__control:checked~label.sk-toggleable__label {background-color: #d4ebff;}#sk-container-id-1 div.sk-label input.sk-toggleable__control:checked~label.sk-toggleable__label {background-color: #d4ebff;}#sk-container-id-1 input.sk-hidden--visually {border: 0;clip: rect(1px 1px 1px 1px);clip: rect(1px, 1px, 1px, 1px);height: 1px;margin: -1px;overflow: hidden;padding: 0;position: absolute;width: 1px;}#sk-container-id-1 div.sk-estimator {font-family: monospace;background-color: #f0f8ff;border: 1px dotted black;border-radius: 0.25em;box-sizing: border-box;margin-bottom: 0.5em;}#sk-container-id-1 div.sk-estimator:hover {background-color: #d4ebff;}#sk-container-id-1 div.sk-parallel-item::after {content: \"\";width: 100%;border-bottom: 1px solid gray;flex-grow: 1;}#sk-container-id-1 div.sk-label:hover label.sk-toggleable__label {background-color: #d4ebff;}#sk-container-id-1 div.sk-serial::before {content: \"\";position: absolute;border-left: 1px solid gray;box-sizing: border-box;top: 0;bottom: 0;left: 50%;z-index: 0;}#sk-container-id-1 div.sk-serial {display: flex;flex-direction: column;align-items: center;background-color: white;padding-right: 0.2em;padding-left: 0.2em;position: relative;}#sk-container-id-1 div.sk-item {position: relative;z-index: 1;}#sk-container-id-1 div.sk-parallel {display: flex;align-items: stretch;justify-content: center;background-color: white;position: relative;}#sk-container-id-1 div.sk-item::before, #sk-container-id-1 div.sk-parallel-item::before {content: \"\";position: absolute;border-left: 1px solid gray;box-sizing: border-box;top: 0;bottom: 0;left: 50%;z-index: -1;}#sk-container-id-1 div.sk-parallel-item {display: flex;flex-direction: column;z-index: 1;position: relative;background-color: white;}#sk-container-id-1 div.sk-parallel-item:first-child::after {align-self: flex-end;width: 50%;}#sk-container-id-1 div.sk-parallel-item:last-child::after {align-self: flex-start;width: 50%;}#sk-container-id-1 div.sk-parallel-item:only-child::after {width: 0;}#sk-container-id-1 div.sk-dashed-wrapped {border: 1px dashed gray;margin: 0 0.4em 0.5em 0.4em;box-sizing: border-box;padding-bottom: 0.4em;background-color: white;}#sk-container-id-1 div.sk-label label {font-family: monospace;font-weight: bold;display: inline-block;line-height: 1.2em;}#sk-container-id-1 div.sk-label-container {text-align: center;}#sk-container-id-1 div.sk-container {/* jupyter's `normalize.less` sets `[hidden] { display: none; }` but bootstrap.min.css set `[hidden] { display: none !important; }` so we also need the `!important` here to be able to override the default hidden behavior on the sphinx rendered scikit-learn.org. See: https://github.com/scikit-learn/scikit-learn/issues/21755 */display: inline-block !important;position: relative;}#sk-container-id-1 div.sk-text-repr-fallback {display: none;}</style><div id=\"sk-container-id-1\" class=\"sk-top-container\"><div class=\"sk-text-repr-fallback\"><pre>GridSearchCV(cv=10,\n",
       "             estimator=GradientBoostingClassifier(n_estimators=950,\n",
       "                                                  warm_start=True),\n",
       "             n_jobs=-1,\n",
       "             param_grid={&#x27;learning_rate&#x27;: [0.1, 0.2, 0.3, 0.4, 0.5, 0.6, 0.7,\n",
       "                                           0.8, 0.9, 1],\n",
       "                         &#x27;max_features&#x27;: [3, 4, 5],\n",
       "                         &#x27;subsample&#x27;: [0.4, 0.5, 0.6, 0.7, 0.8, 1]},\n",
       "             scoring=make_scorer(fbeta_score, beta=6, average=binary))</pre><b>In a Jupyter environment, please rerun this cell to show the HTML representation or trust the notebook. <br />On GitHub, the HTML representation is unable to render, please try loading this page with nbviewer.org.</b></div><div class=\"sk-container\" hidden><div class=\"sk-item sk-dashed-wrapped\"><div class=\"sk-label-container\"><div class=\"sk-label sk-toggleable\"><input class=\"sk-toggleable__control sk-hidden--visually\" id=\"sk-estimator-id-1\" type=\"checkbox\" ><label for=\"sk-estimator-id-1\" class=\"sk-toggleable__label sk-toggleable__label-arrow\">GridSearchCV</label><div class=\"sk-toggleable__content\"><pre>GridSearchCV(cv=10,\n",
       "             estimator=GradientBoostingClassifier(n_estimators=950,\n",
       "                                                  warm_start=True),\n",
       "             n_jobs=-1,\n",
       "             param_grid={&#x27;learning_rate&#x27;: [0.1, 0.2, 0.3, 0.4, 0.5, 0.6, 0.7,\n",
       "                                           0.8, 0.9, 1],\n",
       "                         &#x27;max_features&#x27;: [3, 4, 5],\n",
       "                         &#x27;subsample&#x27;: [0.4, 0.5, 0.6, 0.7, 0.8, 1]},\n",
       "             scoring=make_scorer(fbeta_score, beta=6, average=binary))</pre></div></div></div><div class=\"sk-parallel\"><div class=\"sk-parallel-item\"><div class=\"sk-item\"><div class=\"sk-label-container\"><div class=\"sk-label sk-toggleable\"><input class=\"sk-toggleable__control sk-hidden--visually\" id=\"sk-estimator-id-2\" type=\"checkbox\" ><label for=\"sk-estimator-id-2\" class=\"sk-toggleable__label sk-toggleable__label-arrow\">estimator: GradientBoostingClassifier</label><div class=\"sk-toggleable__content\"><pre>GradientBoostingClassifier(n_estimators=950, warm_start=True)</pre></div></div></div><div class=\"sk-serial\"><div class=\"sk-item\"><div class=\"sk-estimator sk-toggleable\"><input class=\"sk-toggleable__control sk-hidden--visually\" id=\"sk-estimator-id-3\" type=\"checkbox\" ><label for=\"sk-estimator-id-3\" class=\"sk-toggleable__label sk-toggleable__label-arrow\">GradientBoostingClassifier</label><div class=\"sk-toggleable__content\"><pre>GradientBoostingClassifier(n_estimators=950, warm_start=True)</pre></div></div></div></div></div></div></div></div></div></div>"
      ],
      "text/plain": [
       "GridSearchCV(cv=10,\n",
       "             estimator=GradientBoostingClassifier(n_estimators=950,\n",
       "                                                  warm_start=True),\n",
       "             n_jobs=-1,\n",
       "             param_grid={'learning_rate': [0.1, 0.2, 0.3, 0.4, 0.5, 0.6, 0.7,\n",
       "                                           0.8, 0.9, 1],\n",
       "                         'max_features': [3, 4, 5],\n",
       "                         'subsample': [0.4, 0.5, 0.6, 0.7, 0.8, 1]},\n",
       "             scoring=make_scorer(fbeta_score, beta=6, average=binary))"
      ]
     },
     "execution_count": 38,
     "metadata": {},
     "output_type": "execute_result"
    }
   ],
   "source": [
    "cv.fit(train_X, train_y, sample_weight=weight)"
   ]
  },
  {
   "cell_type": "code",
   "execution_count": 39,
   "id": "b679cbfc-0f1c-4d25-b259-b73f588e8555",
   "metadata": {},
   "outputs": [
    {
     "data": {
      "text/plain": [
       "0.7822"
      ]
     },
     "execution_count": 39,
     "metadata": {},
     "output_type": "execute_result"
    }
   ],
   "source": [
    "cv.best_score_"
   ]
  },
  {
   "cell_type": "code",
   "execution_count": 40,
   "id": "f3ec4e6d-55bb-421f-9bdd-cc1787d03558",
   "metadata": {},
   "outputs": [
    {
     "data": {
      "text/plain": [
       "{'learning_rate': 0.8000, 'max_features': 3, 'subsample': 0.5000}"
      ]
     },
     "execution_count": 40,
     "metadata": {},
     "output_type": "execute_result"
    }
   ],
   "source": [
    "cv.best_params_"
   ]
  },
  {
   "cell_type": "code",
   "execution_count": 41,
   "id": "8159b786-10d1-49bd-b65f-5d55ade5a15c",
   "metadata": {},
   "outputs": [
    {
     "data": {
      "text/plain": [
       "0.6208"
      ]
     },
     "execution_count": 41,
     "metadata": {},
     "output_type": "execute_result"
    }
   ],
   "source": [
    "cv.score(train_X, train_y)"
   ]
  },
  {
   "cell_type": "code",
   "execution_count": 42,
   "id": "0d44816a-e003-4e25-8f7c-395d6860e4a2",
   "metadata": {},
   "outputs": [
    {
     "data": {
      "text/plain": [
       "0.6768"
      ]
     },
     "execution_count": 42,
     "metadata": {},
     "output_type": "execute_result"
    }
   ],
   "source": [
    "cv.score(test_X, test_y)"
   ]
  },
  {
   "cell_type": "code",
   "execution_count": 43,
   "id": "2a6efd83-090d-49b1-b595-8ade4ced88f3",
   "metadata": {},
   "outputs": [
    {
     "data": {
      "text/plain": [
       "(0.3750, 0.6923, 0.6768, None)"
      ]
     },
     "execution_count": 43,
     "metadata": {},
     "output_type": "execute_result"
    }
   ],
   "source": [
    "precision_recall_fscore_support(test_y, cv.predict(test_X), beta=6, average=\"binary\")"
   ]
  },
  {
   "cell_type": "code",
   "execution_count": 44,
   "id": "e13b6f68-5ac8-4912-baa8-6d20dccf5178",
   "metadata": {},
   "outputs": [
    {
     "data": {
      "image/png": "[encoded data removed]",
      "text/plain": [
       "<Figure size 640x480 with 2 Axes>"
      ]
     },
     "metadata": {},
     "output_type": "display_data"
    }
   ],
   "source": [
    "ConfusionMatrixDisplay.from_predictions(test_y, cv.predict(test_X), display_labels=[\"Nonrecurrent\", \"Recurrent\"])\n",
    "plt.savefig(\"confusionMatrix.png\", dpi=300)"
   ]
  },
  {
   "cell_type": "code",
   "execution_count": 45,
   "id": "f9c039ee-12ad-4ddd-80ed-938e98ff9785",
   "metadata": {},
   "outputs": [],
   "source": [
    "featureImportances = cv.best_estimator_.feature_importances_\n",
    "sortation = np.argsort(featureImportances)[::-1]"
   ]
  },
  {
   "cell_type": "code",
   "execution_count": 46,
   "id": "53702cfc-951f-4a40-a102-8a3dec23a58e",
   "metadata": {},
   "outputs": [
    {
     "data": {
      "image/png": "[encoded data removed]",
      "text/plain": [
       "<Figure size 640x480 with 1 Axes>"
      ]
     },
     "metadata": {},
     "output_type": "display_data"
    }
   ],
   "source": [
    "sns.barplot(x=featureImportances[sortation], y=wisconsinRecurrence.columns.to_numpy()[sortation], orient=\"horizontal\")\n",
    "plt.savefig(\"importances.png\", dpi=300)"
   ]
  },
  {
   "cell_type": "markdown",
   "id": "3cf0c98b-ffd5-4ebd-ac7a-3e438954d783",
   "metadata": {},
   "source": [
    "# Cross validation"
   ]
  },
  {
   "cell_type": "code",
   "execution_count": 47,
   "id": "399657fd-4fb6-47af-b564-bd8474532c4b",
   "metadata": {},
   "outputs": [],
   "source": [
    "clf = GradientBoostingClassifier(warm_start=True, n_estimators=950)"
   ]
  },
  {
   "cell_type": "code",
   "execution_count": 48,
   "id": "3dc47d56-776a-4049-862f-b0c99568a2ac",
   "metadata": {},
   "outputs": [],
   "source": [
    "parameters = {\n",
    "    \"max_features\":[3, 4, 5],\n",
    "    \"learning_rate\":[0.1, .2, .3, .4, .5, .6, .7, .8, .9, 1],\n",
    "    \"subsample\" : [.4, .5, .6, .7, .8, 1],\n",
    "}"
   ]
  },
  {
   "cell_type": "code",
   "execution_count": 49,
   "id": "b9114ae4-4d9d-466d-b484-02467e97100d",
   "metadata": {},
   "outputs": [],
   "source": [
    "cv = GridSearchCV(clf,parameters,cv=10, n_jobs=-1)"
   ]
  },
  {
   "cell_type": "markdown",
   "id": "db4ff5bc-8ac1-4fae-95b4-46a324afb6be",
   "metadata": {},
   "source": [
    "# Sample weights to be given to the fit method"
   ]
  },
  {
   "cell_type": "code",
   "execution_count": 50,
   "id": "0e6ab1b6-9b2e-4212-b87c-3734870fbc5a",
   "metadata": {},
   "outputs": [],
   "source": [
    "weight = np.zeros_like(train_y, dtype=float)"
   ]
  },
  {
   "cell_type": "code",
   "execution_count": 51,
   "id": "0b8fe1b3-e4ea-4c04-b5a3-ac86e47cc0bc",
   "metadata": {},
   "outputs": [],
   "source": [
    "weight[train_y == 0] = 1\n",
    "weight[train_y == 1] = 2"
   ]
  },
  {
   "cell_type": "code",
   "execution_count": 52,
   "id": "c2d817f8-2259-40e8-986f-622ed3c5d428",
   "metadata": {},
   "outputs": [
    {
     "data": {
      "text/html": [
       "<style>#sk-container-id-2 {color: black;background-color: white;}#sk-container-id-2 pre{padding: 0;}#sk-container-id-2 div.sk-toggleable {background-color: white;}#sk-container-id-2 label.sk-toggleable__label {cursor: pointer;display: block;width: 100%;margin-bottom: 0;padding: 0.3em;box-sizing: border-box;text-align: center;}#sk-container-id-2 label.sk-toggleable__label-arrow:before {content: \"▸\";float: left;margin-right: 0.25em;color: #696969;}#sk-container-id-2 label.sk-toggleable__label-arrow:hover:before {color: black;}#sk-container-id-2 div.sk-estimator:hover label.sk-toggleable__label-arrow:before {color: black;}#sk-container-id-2 div.sk-toggleable__content {max-height: 0;max-width: 0;overflow: hidden;text-align: left;background-color: #f0f8ff;}#sk-container-id-2 div.sk-toggleable__content pre {margin: 0.2em;color: black;border-radius: 0.25em;background-color: #f0f8ff;}#sk-container-id-2 input.sk-toggleable__control:checked~div.sk-toggleable__content {max-height: 200px;max-width: 100%;overflow: auto;}#sk-container-id-2 input.sk-toggleable__control:checked~label.sk-toggleable__label-arrow:before {content: \"▾\";}#sk-container-id-2 div.sk-estimator input.sk-toggleable__control:checked~label.sk-toggleable__label {background-color: #d4ebff;}#sk-container-id-2 div.sk-label input.sk-toggleable__control:checked~label.sk-toggleable__label {background-color: #d4ebff;}#sk-container-id-2 input.sk-hidden--visually {border: 0;clip: rect(1px 1px 1px 1px);clip: rect(1px, 1px, 1px, 1px);height: 1px;margin: -1px;overflow: hidden;padding: 0;position: absolute;width: 1px;}#sk-container-id-2 div.sk-estimator {font-family: monospace;background-color: #f0f8ff;border: 1px dotted black;border-radius: 0.25em;box-sizing: border-box;margin-bottom: 0.5em;}#sk-container-id-2 div.sk-estimator:hover {background-color: #d4ebff;}#sk-container-id-2 div.sk-parallel-item::after {content: \"\";width: 100%;border-bottom: 1px solid gray;flex-grow: 1;}#sk-container-id-2 div.sk-label:hover label.sk-toggleable__label {background-color: #d4ebff;}#sk-container-id-2 div.sk-serial::before {content: \"\";position: absolute;border-left: 1px solid gray;box-sizing: border-box;top: 0;bottom: 0;left: 50%;z-index: 0;}#sk-container-id-2 div.sk-serial {display: flex;flex-direction: column;align-items: center;background-color: white;padding-right: 0.2em;padding-left: 0.2em;position: relative;}#sk-container-id-2 div.sk-item {position: relative;z-index: 1;}#sk-container-id-2 div.sk-parallel {display: flex;align-items: stretch;justify-content: center;background-color: white;position: relative;}#sk-container-id-2 div.sk-item::before, #sk-container-id-2 div.sk-parallel-item::before {content: \"\";position: absolute;border-left: 1px solid gray;box-sizing: border-box;top: 0;bottom: 0;left: 50%;z-index: -1;}#sk-container-id-2 div.sk-parallel-item {display: flex;flex-direction: column;z-index: 1;position: relative;background-color: white;}#sk-container-id-2 div.sk-parallel-item:first-child::after {align-self: flex-end;width: 50%;}#sk-container-id-2 div.sk-parallel-item:last-child::after {align-self: flex-start;width: 50%;}#sk-container-id-2 div.sk-parallel-item:only-child::after {width: 0;}#sk-container-id-2 div.sk-dashed-wrapped {border: 1px dashed gray;margin: 0 0.4em 0.5em 0.4em;box-sizing: border-box;padding-bottom: 0.4em;background-color: white;}#sk-container-id-2 div.sk-label label {font-family: monospace;font-weight: bold;display: inline-block;line-height: 1.2em;}#sk-container-id-2 div.sk-label-container {text-align: center;}#sk-container-id-2 div.sk-container {/* jupyter's `normalize.less` sets `[hidden] { display: none; }` but bootstrap.min.css set `[hidden] { display: none !important; }` so we also need the `!important` here to be able to override the default hidden behavior on the sphinx rendered scikit-learn.org. See: https://github.com/scikit-learn/scikit-learn/issues/21755 */display: inline-block !important;position: relative;}#sk-container-id-2 div.sk-text-repr-fallback {display: none;}</style><div id=\"sk-container-id-2\" class=\"sk-top-container\"><div class=\"sk-text-repr-fallback\"><pre>GridSearchCV(cv=10,\n",
       "             estimator=GradientBoostingClassifier(n_estimators=950,\n",
       "                                                  warm_start=True),\n",
       "             n_jobs=-1,\n",
       "             param_grid={&#x27;learning_rate&#x27;: [0.1, 0.2, 0.3, 0.4, 0.5, 0.6, 0.7,\n",
       "                                           0.8, 0.9, 1],\n",
       "                         &#x27;max_features&#x27;: [3, 4, 5],\n",
       "                         &#x27;subsample&#x27;: [0.4, 0.5, 0.6, 0.7, 0.8, 1]})</pre><b>In a Jupyter environment, please rerun this cell to show the HTML representation or trust the notebook. <br />On GitHub, the HTML representation is unable to render, please try loading this page with nbviewer.org.</b></div><div class=\"sk-container\" hidden><div class=\"sk-item sk-dashed-wrapped\"><div class=\"sk-label-container\"><div class=\"sk-label sk-toggleable\"><input class=\"sk-toggleable__control sk-hidden--visually\" id=\"sk-estimator-id-4\" type=\"checkbox\" ><label for=\"sk-estimator-id-4\" class=\"sk-toggleable__label sk-toggleable__label-arrow\">GridSearchCV</label><div class=\"sk-toggleable__content\"><pre>GridSearchCV(cv=10,\n",
       "             estimator=GradientBoostingClassifier(n_estimators=950,\n",
       "                                                  warm_start=True),\n",
       "             n_jobs=-1,\n",
       "             param_grid={&#x27;learning_rate&#x27;: [0.1, 0.2, 0.3, 0.4, 0.5, 0.6, 0.7,\n",
       "                                           0.8, 0.9, 1],\n",
       "                         &#x27;max_features&#x27;: [3, 4, 5],\n",
       "                         &#x27;subsample&#x27;: [0.4, 0.5, 0.6, 0.7, 0.8, 1]})</pre></div></div></div><div class=\"sk-parallel\"><div class=\"sk-parallel-item\"><div class=\"sk-item\"><div class=\"sk-label-container\"><div class=\"sk-label sk-toggleable\"><input class=\"sk-toggleable__control sk-hidden--visually\" id=\"sk-estimator-id-5\" type=\"checkbox\" ><label for=\"sk-estimator-id-5\" class=\"sk-toggleable__label sk-toggleable__label-arrow\">estimator: GradientBoostingClassifier</label><div class=\"sk-toggleable__content\"><pre>GradientBoostingClassifier(n_estimators=950, warm_start=True)</pre></div></div></div><div class=\"sk-serial\"><div class=\"sk-item\"><div class=\"sk-estimator sk-toggleable\"><input class=\"sk-toggleable__control sk-hidden--visually\" id=\"sk-estimator-id-6\" type=\"checkbox\" ><label for=\"sk-estimator-id-6\" class=\"sk-toggleable__label sk-toggleable__label-arrow\">GradientBoostingClassifier</label><div class=\"sk-toggleable__content\"><pre>GradientBoostingClassifier(n_estimators=950, warm_start=True)</pre></div></div></div></div></div></div></div></div></div></div>"
      ],
      "text/plain": [
       "GridSearchCV(cv=10,\n",
       "             estimator=GradientBoostingClassifier(n_estimators=950,\n",
       "                                                  warm_start=True),\n",
       "             n_jobs=-1,\n",
       "             param_grid={'learning_rate': [0.1, 0.2, 0.3, 0.4, 0.5, 0.6, 0.7,\n",
       "                                           0.8, 0.9, 1],\n",
       "                         'max_features': [3, 4, 5],\n",
       "                         'subsample': [0.4, 0.5, 0.6, 0.7, 0.8, 1]})"
      ]
     },
     "execution_count": 52,
     "metadata": {},
     "output_type": "execute_result"
    }
   ],
   "source": [
    "cv.fit(train_X, train_y, sample_weight=weight)"
   ]
  },
  {
   "cell_type": "code",
   "execution_count": 53,
   "id": "84e00b94-8043-42ba-b67b-3ebda0629993",
   "metadata": {},
   "outputs": [
    {
     "data": {
      "text/plain": [
       "0.8389"
      ]
     },
     "execution_count": 53,
     "metadata": {},
     "output_type": "execute_result"
    }
   ],
   "source": [
    "cv.best_score_"
   ]
  },
  {
   "cell_type": "code",
   "execution_count": 54,
   "id": "bfcfd552-1f4f-42f3-b7ac-a2d4389b0e72",
   "metadata": {},
   "outputs": [
    {
     "data": {
      "text/plain": [
       "{'learning_rate': 0.5000, 'max_features': 4, 'subsample': 0.7000}"
      ]
     },
     "execution_count": 54,
     "metadata": {},
     "output_type": "execute_result"
    }
   ],
   "source": [
    "cv.best_params_"
   ]
  },
  {
   "cell_type": "code",
   "execution_count": 55,
   "id": "2b8d8203-0ac6-4f3b-b7c9-0e0317b2c1d0",
   "metadata": {},
   "outputs": [
    {
     "data": {
      "text/plain": [
       "1.0000"
      ]
     },
     "execution_count": 55,
     "metadata": {},
     "output_type": "execute_result"
    }
   ],
   "source": [
    "cv.score(train_X, train_y)"
   ]
  },
  {
   "cell_type": "code",
   "execution_count": 56,
   "id": "34557670-c947-4651-8d5a-abbe78f1ccca",
   "metadata": {},
   "outputs": [
    {
     "data": {
      "text/plain": [
       "0.8000"
      ]
     },
     "execution_count": 56,
     "metadata": {},
     "output_type": "execute_result"
    }
   ],
   "source": [
    "cv.score(test_X, test_y)"
   ]
  },
  {
   "cell_type": "code",
   "execution_count": 57,
   "id": "7f523100-42df-4e2d-9fe7-b83210a721c4",
   "metadata": {},
   "outputs": [
    {
     "data": {
      "text/plain": [
       "(0.7778, 0.5385, 0.5410, None)"
      ]
     },
     "execution_count": 57,
     "metadata": {},
     "output_type": "execute_result"
    }
   ],
   "source": [
    "precision_recall_fscore_support(test_y, cv.predict(test_X), beta=8, average=\"binary\")"
   ]
  },
  {
   "cell_type": "code",
   "execution_count": 58,
   "id": "b2edb16a-59c8-4dec-bba5-9b6ca3a2c276",
   "metadata": {},
   "outputs": [
    {
     "data": {
      "image/png": "[encoded data removed]",
      "text/plain": [
       "<Figure size 640x480 with 2 Axes>"
      ]
     },
     "metadata": {},
     "output_type": "display_data"
    }
   ],
   "source": [
    "ConfusionMatrixDisplay.from_predictions(test_y, cv.predict(test_X), display_labels=[\"Nonrecurrent\", \"Recurrent\"])\n",
    "plt.savefig(\"confusionMatrix2.png\", dpi=300)"
   ]
  },
  {
   "cell_type": "code",
   "execution_count": 59,
   "id": "2d2eb7a2-7337-422a-99f6-23308f17c3d4",
   "metadata": {},
   "outputs": [],
   "source": [
    "featureImportances = cv.best_estimator_.feature_importances_\n",
    "sortation = np.argsort(featureImportances)[::-1]"
   ]
  },
  {
   "cell_type": "code",
   "execution_count": 60,
   "id": "56c9de2e-e0b6-4d74-972c-9b2f39ff796e",
   "metadata": {},
   "outputs": [
    {
     "data": {
      "image/png": "[encoded data removed]",
      "text/plain": [
       "<Figure size 640x480 with 1 Axes>"
      ]
     },
     "metadata": {},
     "output_type": "display_data"
    }
   ],
   "source": [
    "sns.barplot(x=featureImportances[sortation], y=wisconsinRecurrence.columns.to_numpy()[sortation], orient=\"horizontal\")\n",
    "plt.savefig(\"importances2.png\", dpi=300)"
   ]
  },
  {
   "cell_type": "markdown",
   "id": "3c11b74b-4f3c-4394-9742-ddee58b0620b",
   "metadata": {
    "tags": []
   },
   "source": [
    "# Regression on time"
   ]
  },
  {
   "cell_type": "code",
   "execution_count": 61,
   "id": "fe94070c-ef51-4144-8667-aab421acf702",
   "metadata": {},
   "outputs": [],
   "source": [
    "train_X, test_X, train_y, test_y = train_test_split(wisconsinRecurrence, time, train_size=.8)"
   ]
  },
  {
   "cell_type": "code",
   "execution_count": 62,
   "id": "eb93da96-07a2-427a-8177-240ce93700e4",
   "metadata": {},
   "outputs": [],
   "source": [
    "clf = GradientBoostingRegressor(n_estimators=450, loss=\"huber\", warm_start=True, max_depth=None)"
   ]
  },
  {
   "cell_type": "code",
   "execution_count": 63,
   "id": "99e482fd-da73-4983-beda-c3290d79ca4d",
   "metadata": {
    "tags": []
   },
   "outputs": [
    {
     "data": {
      "text/html": [
       "<style>#sk-container-id-3 {color: black;background-color: white;}#sk-container-id-3 pre{padding: 0;}#sk-container-id-3 div.sk-toggleable {background-color: white;}#sk-container-id-3 label.sk-toggleable__label {cursor: pointer;display: block;width: 100%;margin-bottom: 0;padding: 0.3em;box-sizing: border-box;text-align: center;}#sk-container-id-3 label.sk-toggleable__label-arrow:before {content: \"▸\";float: left;margin-right: 0.25em;color: #696969;}#sk-container-id-3 label.sk-toggleable__label-arrow:hover:before {color: black;}#sk-container-id-3 div.sk-estimator:hover label.sk-toggleable__label-arrow:before {color: black;}#sk-container-id-3 div.sk-toggleable__content {max-height: 0;max-width: 0;overflow: hidden;text-align: left;background-color: #f0f8ff;}#sk-container-id-3 div.sk-toggleable__content pre {margin: 0.2em;color: black;border-radius: 0.25em;background-color: #f0f8ff;}#sk-container-id-3 input.sk-toggleable__control:checked~div.sk-toggleable__content {max-height: 200px;max-width: 100%;overflow: auto;}#sk-container-id-3 input.sk-toggleable__control:checked~label.sk-toggleable__label-arrow:before {content: \"▾\";}#sk-container-id-3 div.sk-estimator input.sk-toggleable__control:checked~label.sk-toggleable__label {background-color: #d4ebff;}#sk-container-id-3 div.sk-label input.sk-toggleable__control:checked~label.sk-toggleable__label {background-color: #d4ebff;}#sk-container-id-3 input.sk-hidden--visually {border: 0;clip: rect(1px 1px 1px 1px);clip: rect(1px, 1px, 1px, 1px);height: 1px;margin: -1px;overflow: hidden;padding: 0;position: absolute;width: 1px;}#sk-container-id-3 div.sk-estimator {font-family: monospace;background-color: #f0f8ff;border: 1px dotted black;border-radius: 0.25em;box-sizing: border-box;margin-bottom: 0.5em;}#sk-container-id-3 div.sk-estimator:hover {background-color: #d4ebff;}#sk-container-id-3 div.sk-parallel-item::after {content: \"\";width: 100%;border-bottom: 1px solid gray;flex-grow: 1;}#sk-container-id-3 div.sk-label:hover label.sk-toggleable__label {background-color: #d4ebff;}#sk-container-id-3 div.sk-serial::before {content: \"\";position: absolute;border-left: 1px solid gray;box-sizing: border-box;top: 0;bottom: 0;left: 50%;z-index: 0;}#sk-container-id-3 div.sk-serial {display: flex;flex-direction: column;align-items: center;background-color: white;padding-right: 0.2em;padding-left: 0.2em;position: relative;}#sk-container-id-3 div.sk-item {position: relative;z-index: 1;}#sk-container-id-3 div.sk-parallel {display: flex;align-items: stretch;justify-content: center;background-color: white;position: relative;}#sk-container-id-3 div.sk-item::before, #sk-container-id-3 div.sk-parallel-item::before {content: \"\";position: absolute;border-left: 1px solid gray;box-sizing: border-box;top: 0;bottom: 0;left: 50%;z-index: -1;}#sk-container-id-3 div.sk-parallel-item {display: flex;flex-direction: column;z-index: 1;position: relative;background-color: white;}#sk-container-id-3 div.sk-parallel-item:first-child::after {align-self: flex-end;width: 50%;}#sk-container-id-3 div.sk-parallel-item:last-child::after {align-self: flex-start;width: 50%;}#sk-container-id-3 div.sk-parallel-item:only-child::after {width: 0;}#sk-container-id-3 div.sk-dashed-wrapped {border: 1px dashed gray;margin: 0 0.4em 0.5em 0.4em;box-sizing: border-box;padding-bottom: 0.4em;background-color: white;}#sk-container-id-3 div.sk-label label {font-family: monospace;font-weight: bold;display: inline-block;line-height: 1.2em;}#sk-container-id-3 div.sk-label-container {text-align: center;}#sk-container-id-3 div.sk-container {/* jupyter's `normalize.less` sets `[hidden] { display: none; }` but bootstrap.min.css set `[hidden] { display: none !important; }` so we also need the `!important` here to be able to override the default hidden behavior on the sphinx rendered scikit-learn.org. See: https://github.com/scikit-learn/scikit-learn/issues/21755 */display: inline-block !important;position: relative;}#sk-container-id-3 div.sk-text-repr-fallback {display: none;}</style><div id=\"sk-container-id-3\" class=\"sk-top-container\"><div class=\"sk-text-repr-fallback\"><pre>GradientBoostingRegressor(loss=&#x27;huber&#x27;, max_depth=None, n_estimators=450,\n",
       "                          warm_start=True)</pre><b>In a Jupyter environment, please rerun this cell to show the HTML representation or trust the notebook. <br />On GitHub, the HTML representation is unable to render, please try loading this page with nbviewer.org.</b></div><div class=\"sk-container\" hidden><div class=\"sk-item\"><div class=\"sk-estimator sk-toggleable\"><input class=\"sk-toggleable__control sk-hidden--visually\" id=\"sk-estimator-id-7\" type=\"checkbox\" checked><label for=\"sk-estimator-id-7\" class=\"sk-toggleable__label sk-toggleable__label-arrow\">GradientBoostingRegressor</label><div class=\"sk-toggleable__content\"><pre>GradientBoostingRegressor(loss=&#x27;huber&#x27;, max_depth=None, n_estimators=450,\n",
       "                          warm_start=True)</pre></div></div></div></div></div>"
      ],
      "text/plain": [
       "GradientBoostingRegressor(loss='huber', max_depth=None, n_estimators=450,\n",
       "                          warm_start=True)"
      ]
     },
     "execution_count": 63,
     "metadata": {},
     "output_type": "execute_result"
    }
   ],
   "source": [
    "clf.fit(train_X, train_y)"
   ]
  },
  {
   "cell_type": "code",
   "execution_count": 64,
   "id": "4da7ef74-28a6-4e49-b6cd-da0ce8c07dcc",
   "metadata": {},
   "outputs": [
    {
     "data": {
      "text/plain": [
       "-0.5143"
      ]
     },
     "execution_count": 64,
     "metadata": {},
     "output_type": "execute_result"
    }
   ],
   "source": [
    "clf.score(test_X, test_y)"
   ]
  },
  {
   "cell_type": "code",
   "execution_count": 65,
   "id": "67021215-d70a-4d35-9d47-973fb92af4e3",
   "metadata": {},
   "outputs": [],
   "source": [
    "parameters = {\n",
    "    \"max_features\":[2, 3, 5],\n",
    "    \"learning_rate\":[0.1, 0.5, 1, 1.5],\n",
    "    \"subsample\" : [.4, .5, .8, 1],\n",
    "}"
   ]
  },
  {
   "cell_type": "code",
   "execution_count": 66,
   "id": "77c690f3-de07-44c3-bbb6-02e64a818f7c",
   "metadata": {},
   "outputs": [],
   "source": [
    "cv = GridSearchCV(clf, parameters,cv=10, n_jobs=-1)"
   ]
  },
  {
   "cell_type": "code",
   "execution_count": 67,
   "id": "d6e1b316-a1c3-4fa6-9d61-c459ebbc73b0",
   "metadata": {
    "tags": []
   },
   "outputs": [
    {
     "data": {
      "text/html": [
       "<style>#sk-container-id-4 {color: black;background-color: white;}#sk-container-id-4 pre{padding: 0;}#sk-container-id-4 div.sk-toggleable {background-color: white;}#sk-container-id-4 label.sk-toggleable__label {cursor: pointer;display: block;width: 100%;margin-bottom: 0;padding: 0.3em;box-sizing: border-box;text-align: center;}#sk-container-id-4 label.sk-toggleable__label-arrow:before {content: \"▸\";float: left;margin-right: 0.25em;color: #696969;}#sk-container-id-4 label.sk-toggleable__label-arrow:hover:before {color: black;}#sk-container-id-4 div.sk-estimator:hover label.sk-toggleable__label-arrow:before {color: black;}#sk-container-id-4 div.sk-toggleable__content {max-height: 0;max-width: 0;overflow: hidden;text-align: left;background-color: #f0f8ff;}#sk-container-id-4 div.sk-toggleable__content pre {margin: 0.2em;color: black;border-radius: 0.25em;background-color: #f0f8ff;}#sk-container-id-4 input.sk-toggleable__control:checked~div.sk-toggleable__content {max-height: 200px;max-width: 100%;overflow: auto;}#sk-container-id-4 input.sk-toggleable__control:checked~label.sk-toggleable__label-arrow:before {content: \"▾\";}#sk-container-id-4 div.sk-estimator input.sk-toggleable__control:checked~label.sk-toggleable__label {background-color: #d4ebff;}#sk-container-id-4 div.sk-label input.sk-toggleable__control:checked~label.sk-toggleable__label {background-color: #d4ebff;}#sk-container-id-4 input.sk-hidden--visually {border: 0;clip: rect(1px 1px 1px 1px);clip: rect(1px, 1px, 1px, 1px);height: 1px;margin: -1px;overflow: hidden;padding: 0;position: absolute;width: 1px;}#sk-container-id-4 div.sk-estimator {font-family: monospace;background-color: #f0f8ff;border: 1px dotted black;border-radius: 0.25em;box-sizing: border-box;margin-bottom: 0.5em;}#sk-container-id-4 div.sk-estimator:hover {background-color: #d4ebff;}#sk-container-id-4 div.sk-parallel-item::after {content: \"\";width: 100%;border-bottom: 1px solid gray;flex-grow: 1;}#sk-container-id-4 div.sk-label:hover label.sk-toggleable__label {background-color: #d4ebff;}#sk-container-id-4 div.sk-serial::before {content: \"\";position: absolute;border-left: 1px solid gray;box-sizing: border-box;top: 0;bottom: 0;left: 50%;z-index: 0;}#sk-container-id-4 div.sk-serial {display: flex;flex-direction: column;align-items: center;background-color: white;padding-right: 0.2em;padding-left: 0.2em;position: relative;}#sk-container-id-4 div.sk-item {position: relative;z-index: 1;}#sk-container-id-4 div.sk-parallel {display: flex;align-items: stretch;justify-content: center;background-color: white;position: relative;}#sk-container-id-4 div.sk-item::before, #sk-container-id-4 div.sk-parallel-item::before {content: \"\";position: absolute;border-left: 1px solid gray;box-sizing: border-box;top: 0;bottom: 0;left: 50%;z-index: -1;}#sk-container-id-4 div.sk-parallel-item {display: flex;flex-direction: column;z-index: 1;position: relative;background-color: white;}#sk-container-id-4 div.sk-parallel-item:first-child::after {align-self: flex-end;width: 50%;}#sk-container-id-4 div.sk-parallel-item:last-child::after {align-self: flex-start;width: 50%;}#sk-container-id-4 div.sk-parallel-item:only-child::after {width: 0;}#sk-container-id-4 div.sk-dashed-wrapped {border: 1px dashed gray;margin: 0 0.4em 0.5em 0.4em;box-sizing: border-box;padding-bottom: 0.4em;background-color: white;}#sk-container-id-4 div.sk-label label {font-family: monospace;font-weight: bold;display: inline-block;line-height: 1.2em;}#sk-container-id-4 div.sk-label-container {text-align: center;}#sk-container-id-4 div.sk-container {/* jupyter's `normalize.less` sets `[hidden] { display: none; }` but bootstrap.min.css set `[hidden] { display: none !important; }` so we also need the `!important` here to be able to override the default hidden behavior on the sphinx rendered scikit-learn.org. See: https://github.com/scikit-learn/scikit-learn/issues/21755 */display: inline-block !important;position: relative;}#sk-container-id-4 div.sk-text-repr-fallback {display: none;}</style><div id=\"sk-container-id-4\" class=\"sk-top-container\"><div class=\"sk-text-repr-fallback\"><pre>GridSearchCV(cv=10,\n",
       "             estimator=GradientBoostingRegressor(loss=&#x27;huber&#x27;, max_depth=None,\n",
       "                                                 n_estimators=450,\n",
       "                                                 warm_start=True),\n",
       "             n_jobs=-1,\n",
       "             param_grid={&#x27;learning_rate&#x27;: [0.1, 0.5, 1, 1.5],\n",
       "                         &#x27;max_features&#x27;: [2, 3, 5],\n",
       "                         &#x27;subsample&#x27;: [0.4, 0.5, 0.8, 1]})</pre><b>In a Jupyter environment, please rerun this cell to show the HTML representation or trust the notebook. <br />On GitHub, the HTML representation is unable to render, please try loading this page with nbviewer.org.</b></div><div class=\"sk-container\" hidden><div class=\"sk-item sk-dashed-wrapped\"><div class=\"sk-label-container\"><div class=\"sk-label sk-toggleable\"><input class=\"sk-toggleable__control sk-hidden--visually\" id=\"sk-estimator-id-8\" type=\"checkbox\" ><label for=\"sk-estimator-id-8\" class=\"sk-toggleable__label sk-toggleable__label-arrow\">GridSearchCV</label><div class=\"sk-toggleable__content\"><pre>GridSearchCV(cv=10,\n",
       "             estimator=GradientBoostingRegressor(loss=&#x27;huber&#x27;, max_depth=None,\n",
       "                                                 n_estimators=450,\n",
       "                                                 warm_start=True),\n",
       "             n_jobs=-1,\n",
       "             param_grid={&#x27;learning_rate&#x27;: [0.1, 0.5, 1, 1.5],\n",
       "                         &#x27;max_features&#x27;: [2, 3, 5],\n",
       "                         &#x27;subsample&#x27;: [0.4, 0.5, 0.8, 1]})</pre></div></div></div><div class=\"sk-parallel\"><div class=\"sk-parallel-item\"><div class=\"sk-item\"><div class=\"sk-label-container\"><div class=\"sk-label sk-toggleable\"><input class=\"sk-toggleable__control sk-hidden--visually\" id=\"sk-estimator-id-9\" type=\"checkbox\" ><label for=\"sk-estimator-id-9\" class=\"sk-toggleable__label sk-toggleable__label-arrow\">estimator: GradientBoostingRegressor</label><div class=\"sk-toggleable__content\"><pre>GradientBoostingRegressor(loss=&#x27;huber&#x27;, max_depth=None, n_estimators=450,\n",
       "                          warm_start=True)</pre></div></div></div><div class=\"sk-serial\"><div class=\"sk-item\"><div class=\"sk-estimator sk-toggleable\"><input class=\"sk-toggleable__control sk-hidden--visually\" id=\"sk-estimator-id-10\" type=\"checkbox\" ><label for=\"sk-estimator-id-10\" class=\"sk-toggleable__label sk-toggleable__label-arrow\">GradientBoostingRegressor</label><div class=\"sk-toggleable__content\"><pre>GradientBoostingRegressor(loss=&#x27;huber&#x27;, max_depth=None, n_estimators=450,\n",
       "                          warm_start=True)</pre></div></div></div></div></div></div></div></div></div></div>"
      ],
      "text/plain": [
       "GridSearchCV(cv=10,\n",
       "             estimator=GradientBoostingRegressor(loss='huber', max_depth=None,\n",
       "                                                 n_estimators=450,\n",
       "                                                 warm_start=True),\n",
       "             n_jobs=-1,\n",
       "             param_grid={'learning_rate': [0.1, 0.5, 1, 1.5],\n",
       "                         'max_features': [2, 3, 5],\n",
       "                         'subsample': [0.4, 0.5, 0.8, 1]})"
      ]
     },
     "execution_count": 67,
     "metadata": {},
     "output_type": "execute_result"
    }
   ],
   "source": [
    "cv.fit(train_X, train_y)"
   ]
  },
  {
   "cell_type": "code",
   "execution_count": 68,
   "id": "7fad1471-72cc-4c51-97d6-a005b795d31d",
   "metadata": {},
   "outputs": [
    {
     "data": {
      "text/plain": [
       "-0.0894"
      ]
     },
     "execution_count": 68,
     "metadata": {},
     "output_type": "execute_result"
    }
   ],
   "source": [
    "cv.best_score_"
   ]
  },
  {
   "cell_type": "code",
   "execution_count": 69,
   "id": "8bd99d80-baa9-48db-80ae-48f6feac9a43",
   "metadata": {},
   "outputs": [
    {
     "data": {
      "text/plain": [
       "-0.0579"
      ]
     },
     "execution_count": 69,
     "metadata": {},
     "output_type": "execute_result"
    }
   ],
   "source": [
    "cv.score(test_X, test_y)"
   ]
  },
  {
   "cell_type": "code",
   "execution_count": null,
   "id": "86ee6ba6-ab3b-4703-9417-93db7c08b7ac",
   "metadata": {},
   "outputs": [],
   "source": []
  }
 ],
 "metadata": {
  "kernelspec": {
   "display_name": "Python 3 (ipykernel)",
   "language": "python",
   "name": "python3"
  },
  "language_info": {
   "codemirror_mode": {
    "name": "ipython",
    "version": 3
   },
   "file_extension": ".py",
   "mimetype": "text/x-python",
   "name": "python",
   "nbconvert_exporter": "python",
   "pygments_lexer": "ipython3",
   "version": "3.10.9"
  }
 },
 "nbformat": 4,
 "nbformat_minor": 5
}
