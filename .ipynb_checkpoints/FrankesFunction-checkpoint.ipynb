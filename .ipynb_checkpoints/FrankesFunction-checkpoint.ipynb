{
 "cells": [
  {
   "cell_type": "code",
   "execution_count": 1,
   "id": "427b3065-5ac3-4cf6-9559-03a12c74dbdf",
   "metadata": {},
   "outputs": [],
   "source": [
    "import numpy as np\n",
    "from sklearn.preprocessing import StandardScaler\n",
    "from sklearn.model_selection import train_test_split"
   ]
  },
  {
   "cell_type": "code",
   "execution_count": 2,
   "id": "b7da5394-aeb2-4ad0-a173-c4394c724fc8",
   "metadata": {},
   "outputs": [],
   "source": [
    "x = np.random.random(15)\n",
    "y = np.random.random(15)"
   ]
  },
  {
   "cell_type": "code",
   "execution_count": 3,
   "id": "fbfcf619-d9e8-4c74-8ebc-5f51167b729a",
   "metadata": {},
   "outputs": [],
   "source": [
    "def FrankeFunction(x,y):\n",
    "    term1 = 0.75*np.exp(-(0.25*(9*x-2)**2) - 0.25*((9*y-2)**2))\n",
    "    term2 = 0.75*np.exp(-((9*x+1)**2)/49.0 - 0.1*(9*y+1))\n",
    "    term3 = 0.5*np.exp(-(9*x-7)**2/4.0 - 0.25*((9*y-3)**2))\n",
    "    term4 = -0.2*np.exp(-(9*x-4)**2 - (9*y-7)**2)\n",
    "    return term1 + term2 + term3 + term4"
   ]
  },
  {
   "cell_type": "code",
   "execution_count": 4,
   "id": "2202d2fc-04ad-408a-a0b9-8579c99060e1",
   "metadata": {},
   "outputs": [],
   "source": [
    "data = [[i, j, FrankeFunction(i, j)] for i in x for j in y]"
   ]
  },
  {
   "cell_type": "code",
   "execution_count": 5,
   "id": "87c4448a-44a3-4636-9b66-f9517f88e783",
   "metadata": {},
   "outputs": [],
   "source": [
    "data = np.array(data)"
   ]
  },
  {
   "cell_type": "code",
   "execution_count": 6,
   "id": "eb09e5f3-0154-49b5-ab83-c71fec559e05",
   "metadata": {},
   "outputs": [],
   "source": [
    "data[:,2] += np.random.random(size=data[:,2].shape)"
   ]
  },
  {
   "cell_type": "code",
   "execution_count": 7,
   "id": "06819ff6-2706-4c65-8f14-2f5a65a972de",
   "metadata": {},
   "outputs": [],
   "source": [
    "X, y = np.hsplit(data, [2])"
   ]
  },
  {
   "cell_type": "code",
   "execution_count": 8,
   "id": "f50cb899-32f4-49ee-81bb-5945f8d5f799",
   "metadata": {},
   "outputs": [],
   "source": [
    "def PolyTransformer(X, degree=5):\n",
    "    transformedX = list()\n",
    "    for x,y in X:\n",
    "        transformedSample = list()\n",
    "        for p in range(1, degree+1):\n",
    "            for n in range(p+1):\n",
    "                transformedSample.append(x**(p-n) * y**n)\n",
    "        transformedX.append(transformedSample)\n",
    "    return np.array(transformedX)"
   ]
  },
  {
   "cell_type": "code",
   "execution_count": 9,
   "id": "6fec6168-220f-43f3-9231-b70f676b6f57",
   "metadata": {},
   "outputs": [],
   "source": [
    "train_X, test_X, train_y, test_y = train_test_split(X, y, train_size=.8)"
   ]
  },
  {
   "cell_type": "code",
   "execution_count": 10,
   "id": "4f040b15-5f3e-4351-93d4-4821e15956d1",
   "metadata": {},
   "outputs": [],
   "source": [
    "train_X = PolyTransformer(train_X)"
   ]
  },
  {
   "cell_type": "code",
   "execution_count": 11,
   "id": "fdd5ac81-6277-48a4-9a78-070193f1e896",
   "metadata": {},
   "outputs": [],
   "source": [
    "scaler = StandardScaler()"
   ]
  },
  {
   "cell_type": "code",
   "execution_count": 12,
   "id": "0c460964-d892-4274-952b-c34045c3ca23",
   "metadata": {},
   "outputs": [],
   "source": [
    "train_X = scaler.fit_transform(train_X)"
   ]
  },
  {
   "cell_type": "code",
   "execution_count": 13,
   "id": "19864292-e7f2-449a-80e7-dd7d75b14bee",
   "metadata": {},
   "outputs": [],
   "source": [
    "beta = train_X.T @ train_X # beta will evolve according to the algorithm"
   ]
  },
  {
   "cell_type": "code",
   "execution_count": 14,
   "id": "58206f8d-91fc-42b3-9368-afa1518cebec",
   "metadata": {},
   "outputs": [],
   "source": [
    "U,S,V = np.linalg.svd(beta, hermitian=True)"
   ]
  },
  {
   "cell_type": "markdown",
   "id": "034882ae-702a-400a-a85f-71a19d43b945",
   "metadata": {},
   "source": [
    "# SVD is successful"
   ]
  },
  {
   "cell_type": "code",
   "execution_count": 15,
   "id": "6d557ec6-4cf3-4358-89bb-195f498ec950",
   "metadata": {},
   "outputs": [
    {
     "data": {
      "text/plain": [
       "True"
      ]
     },
     "execution_count": 15,
     "metadata": {},
     "output_type": "execute_result"
    }
   ],
   "source": [
    "np.allclose(U @ np.diag(S) @ V, beta)"
   ]
  },
  {
   "cell_type": "code",
   "execution_count": 16,
   "id": "de081e0a-c7f1-4ca8-b65a-52326ada665c",
   "metadata": {},
   "outputs": [],
   "source": [
    "invBeta = V.T @ np.diag(1/S) @ U.T"
   ]
  },
  {
   "cell_type": "markdown",
   "id": "5ded68e6-7234-4e78-8ec4-c77258068c55",
   "metadata": {},
   "source": [
    "# Inversion is successful"
   ]
  },
  {
   "cell_type": "code",
   "execution_count": 17,
   "id": "d03961b9-ead2-4d22-b0c6-e7cc8c255d78",
   "metadata": {},
   "outputs": [
    {
     "data": {
      "text/plain": [
       "True"
      ]
     },
     "execution_count": 17,
     "metadata": {},
     "output_type": "execute_result"
    }
   ],
   "source": [
    "np.allclose(invBeta, np.linalg.inv(beta))"
   ]
  },
  {
   "cell_type": "code",
   "execution_count": 18,
   "id": "b63867c2-6d98-4edc-999a-94b3efd58c9d",
   "metadata": {},
   "outputs": [],
   "source": [
    "beta = invBeta"
   ]
  },
  {
   "cell_type": "code",
   "execution_count": 19,
   "id": "b7a71624-5b5c-48b0-8cf6-1fcc35bc8241",
   "metadata": {},
   "outputs": [],
   "source": [
    "beta = beta @ train_X.T"
   ]
  },
  {
   "cell_type": "code",
   "execution_count": 20,
   "id": "7be6cf2d-9341-46e5-afb8-9d4a217e0a71",
   "metadata": {},
   "outputs": [],
   "source": [
    "beta = beta @ train_y"
   ]
  },
  {
   "cell_type": "code",
   "execution_count": 21,
   "id": "43b03652-0f6a-4806-af09-6a648cbca191",
   "metadata": {},
   "outputs": [],
   "source": [
    "def ols(X,y):\n",
    "    beta = X.T @ X\n",
    "    U,S,V = np.linalg.svd(beta, hermitian=True)\n",
    "    beta = V.T @ np.diag(1/S) @ U.T\n",
    "    beta = beta @ X.T\n",
    "    return beta"
   ]
  },
  {
   "cell_type": "code",
   "execution_count": 22,
   "id": "cdd502c4-34ca-489a-86e1-6bc0f3c522f9",
   "metadata": {},
   "outputs": [],
   "source": [
    "def mse(y_true, y_pred):\n",
    "    return ((y_true - y_pred)**2).mean()"
   ]
  },
  {
   "cell_type": "code",
   "execution_count": 23,
   "id": "15c4e094-53e1-41f0-82cf-09833f145526",
   "metadata": {},
   "outputs": [],
   "source": [
    "def r_2(y_true, y_pred):\n",
    "    return 1 - ((y_true - y_pred)**2).sum() / ((y_true - y_true.mean())**2).sum()"
   ]
  },
  {
   "cell_type": "code",
   "execution_count": 24,
   "id": "15c6d19e-470f-4220-9483-21e7b25b80c1",
   "metadata": {},
   "outputs": [
    {
     "data": {
      "text/plain": [
       "0.7548420273042309"
      ]
     },
     "execution_count": 24,
     "metadata": {},
     "output_type": "execute_result"
    }
   ],
   "source": [
    "mse(train_X @ beta, train_y)"
   ]
  },
  {
   "cell_type": "code",
   "execution_count": 25,
   "id": "96d2982b-4963-4db9-a7cf-cbfd59e5a124",
   "metadata": {},
   "outputs": [
    {
     "data": {
      "text/plain": [
       "-15.68636520425214"
      ]
     },
     "execution_count": 25,
     "metadata": {},
     "output_type": "execute_result"
    }
   ],
   "source": [
    "r_2(train_X @ beta, train_y)"
   ]
  },
  {
   "cell_type": "code",
   "execution_count": 26,
   "id": "9a7ae2d4-7293-4939-b6e9-c33fd5339404",
   "metadata": {},
   "outputs": [
    {
     "data": {
      "text/plain": [
       "0.7343575776549607"
      ]
     },
     "execution_count": 26,
     "metadata": {},
     "output_type": "execute_result"
    }
   ],
   "source": [
    "mse(test_y, scaler.transform(PolyTransformer(test_X)) @ beta)"
   ]
  },
  {
   "cell_type": "code",
   "execution_count": 27,
   "id": "95d87668-c070-442f-a722-350252ab4b0e",
   "metadata": {},
   "outputs": [
    {
     "data": {
      "text/plain": [
       "-7.483553080441597"
      ]
     },
     "execution_count": 27,
     "metadata": {},
     "output_type": "execute_result"
    }
   ],
   "source": [
    "r_2(test_y, scaler.transform(PolyTransformer(test_X)) @ beta)"
   ]
  },
  {
   "cell_type": "code",
   "execution_count": null,
   "id": "d4526102-e87b-46af-af44-4b239c91c183",
   "metadata": {},
   "outputs": [],
   "source": []
  },
  {
   "cell_type": "code",
   "execution_count": 28,
   "id": "ae0b3267-8ab8-4c02-a3ff-01914ff620d2",
   "metadata": {},
   "outputs": [],
   "source": [
    "a = np.arange(12).reshape(3,4)"
   ]
  },
  {
   "cell_type": "code",
   "execution_count": 29,
   "id": "ec2321c9-5e19-4f33-8eb6-70607543e6d8",
   "metadata": {},
   "outputs": [
    {
     "data": {
      "text/plain": [
       "array([[ 0,  1,  2,  3],\n",
       "       [ 4,  5,  6,  7],\n",
       "       [ 8,  9, 10, 11]])"
      ]
     },
     "execution_count": 29,
     "metadata": {},
     "output_type": "execute_result"
    }
   ],
   "source": [
    "a"
   ]
  },
  {
   "cell_type": "code",
   "execution_count": 30,
   "id": "398e8041-fb00-4eff-a623-dc97ffbab93b",
   "metadata": {},
   "outputs": [],
   "source": [
    "b= np.hsplit(a, [1, 3])"
   ]
  },
  {
   "cell_type": "code",
   "execution_count": 31,
   "id": "662d4da9-05c9-44e6-9425-e83db49b09d0",
   "metadata": {},
   "outputs": [
    {
     "data": {
      "text/plain": [
       "[array([[0],\n",
       "        [4],\n",
       "        [8]]),\n",
       " array([[0],\n",
       "        [4],\n",
       "        [8]]),\n",
       " array([[ 1,  2],\n",
       "        [ 5,  6],\n",
       "        [ 9, 10]]),\n",
       " array([[ 3],\n",
       "        [ 7],\n",
       "        [11]])]"
      ]
     },
     "execution_count": 31,
     "metadata": {},
     "output_type": "execute_result"
    }
   ],
   "source": [
    "[ *b[0:1], *b[:]]"
   ]
  },
  {
   "cell_type": "markdown",
   "id": "fa1b96b4-fea7-4dd8-bfdd-4efe68e68742",
   "metadata": {},
   "source": [
    "# Part c"
   ]
  },
  {
   "cell_type": "code",
   "execution_count": 32,
   "id": "11d74553-f7ee-4791-98af-720e9f1dc2c2",
   "metadata": {},
   "outputs": [],
   "source": [
    "def cv(model, X, y, fold = 10):\n",
    "    foldSize = int(X.shape[0] / fold)\n",
    "    Xs = np.vsplit(X, [foldSize * i for i in range(1, fold)])\n",
    "    ys = np.vsplit(y, [foldSize * i for i in range(1, fold)])\n",
    "    scores = list()\n",
    "    for i in range(fold):\n",
    "        validationSet_X = Xs[i:i+1]\n",
    "        trainSet_X = np.concatenate([*Xs[0:i], *Xs[i+1:]], axis=0)\n",
    "        validationSet_y = y[i:i+1]\n",
    "        trainSet_y = np.concatenate([*y[0:i], *y[i+1:]], axis=0)\n",
    "        scaler = StandardScaler()\n",
    "        beta = model(scaler.fit_transform(PolyTransformer(trainSet_X)), trainSet_y)\n",
    "        score = r_2(scaler.transform(PolyTransformer(validationSet_X)) @ beta, validationSet_y)\n",
    "        scores.append(score)\n",
    "    return np.array(scores).mean()"
   ]
  },
  {
   "cell_type": "markdown",
   "id": "98030429-a62c-4e82-8c33-a925cf30ce9f",
   "metadata": {},
   "source": [
    "# Part d"
   ]
  },
  {
   "cell_type": "code",
   "execution_count": 33,
   "id": "5a6a41bd-7463-4cc4-83a9-9da4368f29c1",
   "metadata": {},
   "outputs": [],
   "source": [
    "def ridge(X,y, l):\n",
    "    beta = X.T @ X\n",
    "    beta += np.eye(beta.shape) * l\n",
    "    U,S,V = np.linalg.svd(beta, hermitian=True)\n",
    "    beta = V.T @ np.diag(1/S) @ U.T\n",
    "    beta = beta @ X.T\n",
    "    return beta"
   ]
  },
  {
   "cell_type": "code",
   "execution_count": null,
   "id": "bfcceced-3a6e-4cdd-8f07-83554d2991a6",
   "metadata": {},
   "outputs": [],
   "source": []
  },
  {
   "cell_type": "markdown",
   "id": "fdd618b4-693c-4d15-a269-3545e9b8afa2",
   "metadata": {},
   "source": [
    "# part g"
   ]
  },
  {
   "cell_type": "markdown",
   "id": "e31712c5-77dc-4d55-aa25-99b2dc3de9e0",
   "metadata": {},
   "source": [
    "## GD"
   ]
  },
  {
   "cell_type": "code",
   "execution_count": 34,
   "id": "a8077c8a-289b-4895-9019-a0762e96b623",
   "metadata": {},
   "outputs": [],
   "source": [
    "def GD(f, tol=1e-4):\n",
    "    iteration, learning_rate, descent, beta = 0, .1, 1000, *np.random.random([2, 20])\n",
    "    while np.abs(descent) < tol:\n",
    "        descent,  beta = learning_rate * gradient(beta), beta - descent\n",
    "    return beta"
   ]
  },
  {
   "cell_type": "markdown",
   "id": "2cc73057-1989-4707-a719-c22d04abb632",
   "metadata": {},
   "source": [
    "## GD with momentum"
   ]
  },
  {
   "cell_type": "code",
   "execution_count": 35,
   "id": "ecd007b4-0337-419b-9da5-82be87a2b92a",
   "metadata": {},
   "outputs": [],
   "source": [
    "def GD(f, momentum, tol=1e-4):\n",
    "    iteration, learning_rate, descent, beta = 0, .1, 1000, *np.random.random([2, 20])\n",
    "    while np.abs(descent) < tol:\n",
    "        descent,  beta = learning_rate * gradient(beta) + descent * momentum, beta - descent\n",
    "    return beta"
   ]
  },
  {
   "cell_type": "markdown",
   "id": "989b0e60-857e-4462-a888-3a7368b4f03d",
   "metadata": {},
   "source": [
    "## SGD"
   ]
  },
  {
   "cell_type": "code",
   "execution_count": 36,
   "id": "8d24fac6-a6bc-47a1-9f10-bb0b470eef5d",
   "metadata": {},
   "outputs": [],
   "source": [
    "def GD(f, momentum, batch_size, epoch= 1000, tol=1e-4):\n",
    "    iteration, learning_rate, descent, beta = 0, .1, *np.random.random([2, 20])\n",
    "    batch_size = int(batch_size)\n",
    "    if tol <= 0: raise ValueError(\"'tolerance' must be greater than zero\")\n",
    "\n",
    "    if not 0 < batch_size <= n_obs:\n",
    "        raise ValueError(\"'batch_size' must be greater than zero and less than or equal to the number of observations\")\n",
    "    while iteration < iter and np.abs(descent) < tol:\n",
    "        descent,  beta = learning_rate * gradient(beta) + descent * momentum, beta - descent\n",
    "    return beta"
   ]
  },
  {
   "cell_type": "code",
   "execution_count": null,
   "id": "a771c3c2-4acc-4eb4-aed6-ca0050959dea",
   "metadata": {},
   "outputs": [],
   "source": []
  }
 ],
 "metadata": {
  "kernelspec": {
   "display_name": "Python 3 (ipykernel)",
   "language": "python",
   "name": "python3"
  },
  "language_info": {
   "codemirror_mode": {
    "name": "ipython",
    "version": 3
   },
   "file_extension": ".py",
   "mimetype": "text/x-python",
   "name": "python",
   "nbconvert_exporter": "python",
   "pygments_lexer": "ipython3",
   "version": "3.10.9"
  }
 },
 "nbformat": 4,
 "nbformat_minor": 5
}
