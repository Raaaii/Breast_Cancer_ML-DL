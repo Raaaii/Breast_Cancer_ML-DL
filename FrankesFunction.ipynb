{
 "cells": [
  {
   "cell_type": "markdown",
   "id": "8ab82518-99e6-4b5d-819f-62175cd7c85d",
   "metadata": {},
   "source": [
    "# FRANKE FUNCTION TASK \n",
    "\n",
    "***Part a)***"
   ]
  },
  {
   "cell_type": "code",
   "execution_count": 1,
   "id": "427b3065-5ac3-4cf6-9559-03a12c74dbdf",
   "metadata": {},
   "outputs": [],
   "source": [
    "import numpy as np\n",
    "from sklearn.preprocessing import StandardScaler\n",
    "from sklearn.model_selection import train_test_split\n",
    "from scipy.stats import t\n",
    "import matplotlib.pyplot as plt"
   ]
  },
  {
   "cell_type": "code",
   "execution_count": 2,
   "id": "b7da5394-aeb2-4ad0-a173-c4394c724fc8",
   "metadata": {},
   "outputs": [],
   "source": [
    "x = np.random.random(15)\n",
    "y = np.random.random(15)"
   ]
  },
  {
   "cell_type": "code",
   "execution_count": 3,
   "id": "fbfcf619-d9e8-4c74-8ebc-5f51167b729a",
   "metadata": {},
   "outputs": [],
   "source": [
    "def FrankeFunction(x,y):\n",
    "    term1 = 0.75*np.exp(-(0.25*(9*x-2)**2) - 0.25*((9*y-2)**2))\n",
    "    term2 = 0.75*np.exp(-((9*x+1)**2)/49.0 - 0.1*(9*y+1))\n",
    "    term3 = 0.5*np.exp(-(9*x-7)**2/4.0 - 0.25*((9*y-3)**2))\n",
    "    term4 = -0.2*np.exp(-(9*x-4)**2 - (9*y-7)**2)\n",
    "    return term1 + term2 + term3 + term4"
   ]
  },
  {
   "cell_type": "code",
   "execution_count": 4,
   "id": "2202d2fc-04ad-408a-a0b9-8579c99060e1",
   "metadata": {},
   "outputs": [],
   "source": [
    "data = [[i, j, FrankeFunction(i, j)] for i in x for j in y]"
   ]
  },
  {
   "cell_type": "code",
   "execution_count": 5,
   "id": "87c4448a-44a3-4636-9b66-f9517f88e783",
   "metadata": {},
   "outputs": [],
   "source": [
    "data = np.array(data)"
   ]
  },
  {
   "cell_type": "code",
   "execution_count": 6,
   "id": "eb09e5f3-0154-49b5-ab83-c71fec559e05",
   "metadata": {},
   "outputs": [],
   "source": [
    "data[:,2] += np.random.random(size=data[:,2].shape)"
   ]
  },
  {
   "cell_type": "code",
   "execution_count": 7,
   "id": "06819ff6-2706-4c65-8f14-2f5a65a972de",
   "metadata": {},
   "outputs": [],
   "source": [
    "X, y = np.hsplit(data, [2])"
   ]
  },
  {
   "cell_type": "code",
   "execution_count": 8,
   "id": "f50cb899-32f4-49ee-81bb-5945f8d5f799",
   "metadata": {},
   "outputs": [],
   "source": [
    "def PolyTransformer(X, degree=5):\n",
    "    transformedX = list()\n",
    "    for x,y in X:\n",
    "        transformedSample = list()\n",
    "        for p in range(1, degree+1):\n",
    "            for n in range(p+1):\n",
    "                transformedSample.append(x**(p-n) * y**n)\n",
    "        transformedX.append(transformedSample)\n",
    "    return np.array(transformedX)"
   ]
  },
  {
   "cell_type": "code",
   "execution_count": 9,
   "id": "6fec6168-220f-43f3-9231-b70f676b6f57",
   "metadata": {},
   "outputs": [],
   "source": [
    "train_X, test_X, train_y, test_y = train_test_split(X, y, train_size=.8)"
   ]
  },
  {
   "cell_type": "code",
   "execution_count": 10,
   "id": "4f040b15-5f3e-4351-93d4-4821e15956d1",
   "metadata": {},
   "outputs": [],
   "source": [
    "train_X = PolyTransformer(train_X)"
   ]
  },
  {
   "cell_type": "code",
   "execution_count": 11,
   "id": "fdd5ac81-6277-48a4-9a78-070193f1e896",
   "metadata": {},
   "outputs": [],
   "source": [
    "scaler = StandardScaler()"
   ]
  },
  {
   "cell_type": "code",
   "execution_count": 12,
   "id": "0c460964-d892-4274-952b-c34045c3ca23",
   "metadata": {},
   "outputs": [],
   "source": [
    "train_X = scaler.fit_transform(train_X)"
   ]
  },
  {
   "cell_type": "code",
   "execution_count": 13,
   "id": "19864292-e7f2-449a-80e7-dd7d75b14bee",
   "metadata": {},
   "outputs": [],
   "source": [
    "beta = train_X.T @ train_X # beta will evolve according to the algorithm"
   ]
  },
  {
   "cell_type": "code",
   "execution_count": 14,
   "id": "58206f8d-91fc-42b3-9368-afa1518cebec",
   "metadata": {},
   "outputs": [],
   "source": [
    "U,S,V = np.linalg.svd(beta, hermitian=True)"
   ]
  },
  {
   "cell_type": "markdown",
   "id": "034882ae-702a-400a-a85f-71a19d43b945",
   "metadata": {},
   "source": [
    "# SVD is successful"
   ]
  },
  {
   "cell_type": "code",
   "execution_count": 15,
   "id": "6d557ec6-4cf3-4358-89bb-195f498ec950",
   "metadata": {},
   "outputs": [
    {
     "data": {
      "text/plain": [
       "True"
      ]
     },
     "execution_count": 15,
     "metadata": {},
     "output_type": "execute_result"
    }
   ],
   "source": [
    "np.allclose(U @ np.diag(S) @ V, beta)"
   ]
  },
  {
   "cell_type": "code",
   "execution_count": 16,
   "id": "de081e0a-c7f1-4ca8-b65a-52326ada665c",
   "metadata": {},
   "outputs": [],
   "source": [
    "invBeta = V.T @ np.diag(1/S) @ U.T"
   ]
  },
  {
   "cell_type": "markdown",
   "id": "5ded68e6-7234-4e78-8ec4-c77258068c55",
   "metadata": {},
   "source": [
    "# Inversion is successful"
   ]
  },
  {
   "cell_type": "code",
   "execution_count": 17,
   "id": "d03961b9-ead2-4d22-b0c6-e7cc8c255d78",
   "metadata": {},
   "outputs": [
    {
     "data": {
      "text/plain": [
       "True"
      ]
     },
     "execution_count": 17,
     "metadata": {},
     "output_type": "execute_result"
    }
   ],
   "source": [
    "np.allclose(invBeta, np.linalg.inv(beta))"
   ]
  },
  {
   "cell_type": "code",
   "execution_count": 18,
   "id": "b63867c2-6d98-4edc-999a-94b3efd58c9d",
   "metadata": {},
   "outputs": [],
   "source": [
    "beta = invBeta"
   ]
  },
  {
   "cell_type": "code",
   "execution_count": 19,
   "id": "b7a71624-5b5c-48b0-8cf6-1fcc35bc8241",
   "metadata": {},
   "outputs": [],
   "source": [
    "beta = beta @ train_X.T"
   ]
  },
  {
   "cell_type": "code",
   "execution_count": 20,
   "id": "7be6cf2d-9341-46e5-afb8-9d4a217e0a71",
   "metadata": {},
   "outputs": [],
   "source": [
    "beta = beta @ train_y"
   ]
  },
  {
   "cell_type": "code",
   "execution_count": 21,
   "id": "43b03652-0f6a-4806-af09-6a648cbca191",
   "metadata": {},
   "outputs": [],
   "source": [
    "def ols(X,y):\n",
    "    beta = X.T @ X\n",
    "    U,S,V = np.linalg.svd(beta, hermitian=True)\n",
    "    inv = V.T @ np.diag(1/S) @ U.T\n",
    "    beta = inv @ X.T\n",
    "    return beta"
   ]
  },
  {
   "cell_type": "code",
   "execution_count": 22,
   "id": "a87d1f9e-d2aa-4d49-825a-e112ef93a401",
   "metadata": {},
   "outputs": [],
   "source": [
    " def ci(train_X):\n",
    "    #define var of beta\n",
    "    var_beta = np.diag(np.linalg.inv(train_X.T @ train_X))\n",
    "    #define std of beta\n",
    "    std_beta = np.sqrt(var_beta)\n",
    "    #define standard error of beta\n",
    "    se_beta = std_beta / np.sqrt(len(train_X))\n",
    "    t_value = t.ppf(1-0.025, train_X.shape[0]-train_X.shape[1])\n",
    "    #lower and upper confidence interval\n",
    "    CI=np.array([beta-t_value*se_beta, beta+t_value*se_beta])\n",
    "    lower = beta - t_value * se_beta\n",
    "    upper = beta + t_value * se_beta\n",
    "    return (lower, upper)"
   ]
  },
  {
   "cell_type": "code",
   "execution_count": 23,
   "id": "cdd502c4-34ca-489a-86e1-6bc0f3c522f9",
   "metadata": {},
   "outputs": [],
   "source": [
    "def mse(y_true, y_pred):\n",
    "    return ((y_true - y_pred)**2).mean()"
   ]
  },
  {
   "cell_type": "code",
   "execution_count": 24,
   "id": "15c4e094-53e1-41f0-82cf-09833f145526",
   "metadata": {},
   "outputs": [],
   "source": [
    "def r_2(y_true, y_pred):\n",
    "    return 1 - ((y_true - y_pred)**2).sum() / ((y_true - y_true.mean())**2).sum()"
   ]
  },
  {
   "cell_type": "code",
   "execution_count": 25,
   "id": "15c6d19e-470f-4220-9483-21e7b25b80c1",
   "metadata": {},
   "outputs": [
    {
     "data": {
      "text/plain": [
       "1.0933255493779117"
      ]
     },
     "execution_count": 25,
     "metadata": {},
     "output_type": "execute_result"
    }
   ],
   "source": [
    "mse(train_X @ beta, train_y)"
   ]
  },
  {
   "cell_type": "code",
   "execution_count": 26,
   "id": "96d2982b-4963-4db9-a7cf-cbfd59e5a124",
   "metadata": {},
   "outputs": [
    {
     "data": {
      "text/plain": [
       "-10.071173655746884"
      ]
     },
     "execution_count": 26,
     "metadata": {},
     "output_type": "execute_result"
    }
   ],
   "source": [
    "r_2(train_X @ beta, train_y)"
   ]
  },
  {
   "cell_type": "code",
   "execution_count": 27,
   "id": "9a7ae2d4-7293-4939-b6e9-c33fd5339404",
   "metadata": {},
   "outputs": [
    {
     "data": {
      "text/plain": [
       "1.081168771331795"
      ]
     },
     "execution_count": 27,
     "metadata": {},
     "output_type": "execute_result"
    }
   ],
   "source": [
    "mse(test_y, scaler.transform(PolyTransformer(test_X)) @ beta)"
   ]
  },
  {
   "cell_type": "code",
   "execution_count": 28,
   "id": "95d87668-c070-442f-a722-350252ab4b0e",
   "metadata": {},
   "outputs": [
    {
     "data": {
      "text/plain": [
       "-5.29229024546492"
      ]
     },
     "execution_count": 28,
     "metadata": {},
     "output_type": "execute_result"
    }
   ],
   "source": [
    "r_2(test_y, scaler.transform(PolyTransformer(test_X)) @ beta)"
   ]
  },
  {
   "cell_type": "code",
   "execution_count": 29,
   "id": "92c644cd-05d4-4fd5-98e6-77c4a9074f9f",
   "metadata": {},
   "outputs": [
    {
     "data": {
      "text/plain": [
       "(array([[ 4.63271710e-01,  5.06251490e-01, -3.29538758e+00,\n",
       "         -1.04360263e+00, -2.52771896e+00, -8.91277797e+00,\n",
       "         -2.35208909e+00, -3.24814644e+00, -6.82907897e+00,\n",
       "         -9.11317459e+00, -1.64159715e+00, -1.99420507e+00,\n",
       "         -2.79820421e+00, -6.89733761e+00, -2.60397244e+00,\n",
       "          3.18755743e-01,  4.37711633e-01,  9.05525348e-02,\n",
       "         -2.10239298e-01, -1.77963705e+00],\n",
       "        [ 1.22032775e+00,  1.26330752e+00, -2.53833155e+00,\n",
       "         -2.86546596e-01, -1.77066293e+00, -8.15572194e+00,\n",
       "         -1.59503306e+00, -2.49109041e+00, -6.07202294e+00,\n",
       "         -8.35611856e+00, -8.84541117e-01, -1.23714904e+00,\n",
       "         -2.04114818e+00, -6.14028157e+00, -1.84691640e+00,\n",
       "          1.07581178e+00,  1.19476767e+00,  8.47608570e-01,\n",
       "          5.46816737e-01, -1.02258101e+00],\n",
       "        [-8.31202768e+00, -8.26904791e+00, -1.20706870e+01,\n",
       "         -9.81890203e+00, -1.13030184e+01, -1.76880774e+01,\n",
       "         -1.11273885e+01, -1.20234458e+01, -1.56043784e+01,\n",
       "         -1.78884740e+01, -1.04168965e+01, -1.07695045e+01,\n",
       "         -1.15735036e+01, -1.56726370e+01, -1.13792718e+01,\n",
       "         -8.45654365e+00, -8.33758776e+00, -8.68474686e+00,\n",
       "         -8.98553869e+00, -1.05549364e+01],\n",
       "        [-2.05861844e+00, -2.01563866e+00, -5.81727774e+00,\n",
       "         -3.56549278e+00, -5.04960911e+00, -1.14346681e+01,\n",
       "         -4.87397924e+00, -5.77003660e+00, -9.35096913e+00,\n",
       "         -1.16350647e+01, -4.16348730e+00, -4.51609522e+00,\n",
       "         -5.32009436e+00, -9.41922776e+00, -5.12586259e+00,\n",
       "         -2.20313441e+00, -2.08417852e+00, -2.43133762e+00,\n",
       "         -2.73212945e+00, -4.30152720e+00],\n",
       "        [-9.73297550e+00, -9.68999572e+00, -1.34916348e+01,\n",
       "         -1.12398498e+01, -1.27239662e+01, -1.91090252e+01,\n",
       "         -1.25483363e+01, -1.34443937e+01, -1.70253262e+01,\n",
       "         -1.93094218e+01, -1.18378444e+01, -1.21904523e+01,\n",
       "         -1.29944514e+01, -1.70935848e+01, -1.28002197e+01,\n",
       "         -9.87749147e+00, -9.75853558e+00, -1.01056947e+01,\n",
       "         -1.04064865e+01, -1.19758843e+01],\n",
       "        [ 1.24506036e+01,  1.24935834e+01,  8.69194433e+00,\n",
       "          1.09437293e+01,  9.45961295e+00,  3.07455394e+00,\n",
       "          9.63524282e+00,  8.73918547e+00,  5.15825294e+00,\n",
       "          2.87415732e+00,  1.03457348e+01,  9.99312684e+00,\n",
       "          9.18912770e+00,  5.08999430e+00,  9.38335947e+00,\n",
       "          1.23060877e+01,  1.24250435e+01,  1.20778844e+01,\n",
       "          1.17770926e+01,  1.02076949e+01],\n",
       "        [-3.15291718e+00, -3.10993740e+00, -6.91157647e+00,\n",
       "         -4.65979152e+00, -6.14390785e+00, -1.25289669e+01,\n",
       "         -5.96827798e+00, -6.86433533e+00, -1.04452679e+01,\n",
       "         -1.27293635e+01, -5.25778604e+00, -5.61039396e+00,\n",
       "         -6.41439310e+00, -1.05135265e+01, -6.22016133e+00,\n",
       "         -3.29743314e+00, -3.17847725e+00, -3.52563635e+00,\n",
       "         -3.82642819e+00, -5.39582594e+00],\n",
       "        [ 9.76350039e+00,  9.80648017e+00,  6.00484110e+00,\n",
       "          8.25662605e+00,  6.77250972e+00,  3.87450710e-01,\n",
       "          6.94813959e+00,  6.05208224e+00,  2.47114971e+00,\n",
       "          1.87054094e-01,  7.65863153e+00,  7.30602361e+00,\n",
       "          6.50202447e+00,  2.40289108e+00,  6.69625625e+00,\n",
       "          9.61898443e+00,  9.73794032e+00,  9.39078122e+00,\n",
       "          9.08998939e+00,  7.52059163e+00],\n",
       "        [ 5.10530327e+00,  5.14828305e+00,  1.34664398e+00,\n",
       "          3.59842893e+00,  2.11431260e+00, -4.27074641e+00,\n",
       "          2.28994247e+00,  1.39388512e+00, -2.18704741e+00,\n",
       "         -4.47114303e+00,  3.00043441e+00,  2.64782649e+00,\n",
       "          1.84382735e+00, -2.25530605e+00,  2.03805912e+00,\n",
       "          4.96078730e+00,  5.07974319e+00,  4.73258409e+00,\n",
       "          4.43179226e+00,  2.86239451e+00],\n",
       "        [-1.14744164e+01, -1.14314367e+01, -1.52330757e+01,\n",
       "         -1.29812908e+01, -1.44654071e+01, -2.08504661e+01,\n",
       "         -1.42897772e+01, -1.51858346e+01, -1.87667671e+01,\n",
       "         -2.10508627e+01, -1.35792853e+01, -1.39318932e+01,\n",
       "         -1.47358924e+01, -1.88350258e+01, -1.45416606e+01,\n",
       "         -1.16189324e+01, -1.14999765e+01, -1.18471356e+01,\n",
       "         -1.21479274e+01, -1.37173252e+01],\n",
       "        [ 6.95218777e-01,  7.38198556e-01, -3.06344052e+00,\n",
       "         -8.11655565e-01, -2.29577189e+00, -8.68083091e+00,\n",
       "         -2.12014203e+00, -3.01619938e+00, -6.59713191e+00,\n",
       "         -8.88122752e+00, -1.40965009e+00, -1.76225800e+00,\n",
       "         -2.56625715e+00, -6.66539054e+00, -2.37202537e+00,\n",
       "          5.50702809e-01,  6.69658699e-01,  3.22499601e-01,\n",
       "          2.17077680e-02, -1.54768998e+00],\n",
       "        [-3.35791477e-01, -2.92811697e-01, -4.09445077e+00,\n",
       "         -1.84266582e+00, -3.32678215e+00, -9.71184116e+00,\n",
       "         -3.15115228e+00, -4.04720963e+00, -7.62814216e+00,\n",
       "         -9.91223778e+00, -2.44066034e+00, -2.79326826e+00,\n",
       "         -3.59726740e+00, -7.69640079e+00, -3.40303563e+00,\n",
       "         -4.80307444e-01, -3.61351554e-01, -7.08510652e-01,\n",
       "         -1.00930249e+00, -2.57870024e+00],\n",
       "        [-1.82583324e+01, -1.82153526e+01, -2.20169917e+01,\n",
       "         -1.97652068e+01, -2.12493231e+01, -2.76343821e+01,\n",
       "         -2.10736932e+01, -2.19697506e+01, -2.55506831e+01,\n",
       "         -2.78347787e+01, -2.03632013e+01, -2.07158092e+01,\n",
       "         -2.15198083e+01, -2.56189417e+01, -2.13255766e+01,\n",
       "         -1.84028484e+01, -1.82838925e+01, -1.86310516e+01,\n",
       "         -1.89318434e+01, -2.05012412e+01],\n",
       "        [ 4.72922970e+00,  4.77220948e+00,  9.70570404e-01,\n",
       "          3.22235536e+00,  1.73823903e+00, -4.64681999e+00,\n",
       "          1.91386890e+00,  1.01781155e+00, -2.56312098e+00,\n",
       "         -4.84721660e+00,  2.62436084e+00,  2.27175292e+00,\n",
       "          1.46775378e+00, -2.63137962e+00,  1.66198555e+00,\n",
       "          4.58471373e+00,  4.70366962e+00,  4.35651052e+00,\n",
       "          4.05571869e+00,  2.48632094e+00],\n",
       "        [ 2.02541200e+00,  2.06839178e+00, -1.73324729e+00,\n",
       "          5.18537660e-01, -9.65578670e-01, -7.35063768e+00,\n",
       "         -7.89948802e-01, -1.68600615e+00, -5.26693868e+00,\n",
       "         -7.55103430e+00, -7.94568616e-02, -4.32064780e-01,\n",
       "         -1.23606392e+00, -5.33519732e+00, -1.04183215e+00,\n",
       "          1.88089603e+00,  1.99985192e+00,  1.65269283e+00,\n",
       "          1.35190099e+00, -2.17496759e-01],\n",
       "        [-1.06325044e+00, -1.02027066e+00, -4.82190973e+00,\n",
       "         -2.57012478e+00, -4.05424111e+00, -1.04393001e+01,\n",
       "         -3.87861124e+00, -4.77466859e+00, -8.35560112e+00,\n",
       "         -1.06396967e+01, -3.16811930e+00, -3.52072722e+00,\n",
       "         -4.32472636e+00, -8.42385975e+00, -4.13049459e+00,\n",
       "         -1.20776640e+00, -1.08881051e+00, -1.43596961e+00,\n",
       "         -1.73676144e+00, -3.30615920e+00],\n",
       "        [-2.11506921e+00, -2.07208943e+00, -5.87372850e+00,\n",
       "         -3.62194355e+00, -5.10605988e+00, -1.14911189e+01,\n",
       "         -4.93043001e+00, -5.82648736e+00, -9.40741989e+00,\n",
       "         -1.16915155e+01, -4.21993807e+00, -4.57254599e+00,\n",
       "         -5.37654513e+00, -9.47567852e+00, -5.18231336e+00,\n",
       "         -2.25958517e+00, -2.14062928e+00, -2.48778838e+00,\n",
       "         -2.78858022e+00, -4.35797797e+00],\n",
       "        [ 6.14288457e-01,  6.57268236e-01, -3.14437084e+00,\n",
       "         -8.92585885e-01, -2.37670221e+00, -8.76176123e+00,\n",
       "         -2.20107235e+00, -3.09712970e+00, -6.67806223e+00,\n",
       "         -8.96215784e+00, -1.49058041e+00, -1.84318832e+00,\n",
       "         -2.64718747e+00, -6.74632086e+00, -2.45295569e+00,\n",
       "          4.69772489e-01,  5.88728379e-01,  2.41569281e-01,\n",
       "         -5.92225518e-02, -1.62862030e+00],\n",
       "        [ 6.38688939e+00,  6.42986917e+00,  2.62823010e+00,\n",
       "          4.88001505e+00,  3.39589872e+00, -2.98916029e+00,\n",
       "          3.57152859e+00,  2.67547124e+00, -9.05461292e-01,\n",
       "         -3.18955691e+00,  4.28202053e+00,  3.92941261e+00,\n",
       "          3.12541347e+00, -9.73719924e-01,  3.31964524e+00,\n",
       "          6.24237342e+00,  6.36132931e+00,  6.01417022e+00,\n",
       "          5.71337838e+00,  4.14398063e+00],\n",
       "        [-6.10655646e+00, -6.06357668e+00, -9.86521575e+00,\n",
       "         -7.61343080e+00, -9.09754713e+00, -1.54826061e+01,\n",
       "         -8.92191726e+00, -9.81797461e+00, -1.33989071e+01,\n",
       "         -1.56830028e+01, -8.21142532e+00, -8.56403324e+00,\n",
       "         -9.36803238e+00, -1.34671658e+01, -9.17380061e+00,\n",
       "         -6.25107243e+00, -6.13211654e+00, -6.47927563e+00,\n",
       "         -6.78006747e+00, -8.34946522e+00]]),\n",
       " array([[ 2.34503542e+00,  2.30205564e+00,  6.10369471e+00,\n",
       "          3.85190976e+00,  5.33602609e+00,  1.17210851e+01,\n",
       "          5.16039622e+00,  6.05645357e+00,  9.63738610e+00,\n",
       "          1.19214817e+01,  4.44990428e+00,  4.80251220e+00,\n",
       "          5.60651134e+00,  9.70564473e+00,  5.41227957e+00,\n",
       "          2.48955138e+00,  2.37059549e+00,  2.71775459e+00,\n",
       "          3.01854643e+00,  4.58794418e+00],\n",
       "        [ 3.10209145e+00,  3.05911167e+00,  6.86075075e+00,\n",
       "          4.60896579e+00,  6.09308212e+00,  1.24781411e+01,\n",
       "          5.91745225e+00,  6.81350961e+00,  1.03944421e+01,\n",
       "          1.26785378e+01,  5.20696031e+00,  5.55956823e+00,\n",
       "          6.36356737e+00,  1.04627008e+01,  6.16933560e+00,\n",
       "          3.24660742e+00,  3.12765153e+00,  3.47481063e+00,\n",
       "          3.77560246e+00,  5.34500021e+00],\n",
       "        [-6.43026398e+00, -6.47324376e+00, -2.67160468e+00,\n",
       "         -4.92338964e+00, -3.43927331e+00,  2.94578571e+00,\n",
       "         -3.61490318e+00, -2.71884582e+00,  8.62086706e-01,\n",
       "          3.14618232e+00, -4.32539512e+00, -3.97278720e+00,\n",
       "         -3.16878806e+00,  9.30345338e-01, -3.36301983e+00,\n",
       "         -6.28574801e+00, -6.40470390e+00, -6.05754480e+00,\n",
       "         -5.75675297e+00, -4.18735522e+00],\n",
       "        [-1.76854735e-01, -2.19834515e-01,  3.58180456e+00,\n",
       "          1.33001961e+00,  2.81413594e+00,  9.19919495e+00,\n",
       "          2.63850607e+00,  3.53456342e+00,  7.11549595e+00,\n",
       "          9.39959157e+00,  1.92801413e+00,  2.28062205e+00,\n",
       "          3.08462119e+00,  7.18375458e+00,  2.89038941e+00,\n",
       "         -3.23387674e-02, -1.51294657e-01,  1.95864441e-01,\n",
       "          4.96656274e-01,  2.06605402e+00],\n",
       "        [-7.85121179e+00, -7.89419157e+00, -4.09255250e+00,\n",
       "         -6.34433745e+00, -4.86022112e+00,  1.52483789e+00,\n",
       "         -5.03585099e+00, -4.13979364e+00, -5.58861111e-01,\n",
       "          1.72523451e+00, -5.74634293e+00, -5.39373501e+00,\n",
       "         -4.58973587e+00, -4.90602478e-01, -4.78396765e+00,\n",
       "         -7.70669583e+00, -7.82565172e+00, -7.47849262e+00,\n",
       "         -7.17770079e+00, -5.60830303e+00],\n",
       "        [ 1.43323673e+01,  1.42893875e+01,  1.80910266e+01,\n",
       "          1.58392417e+01,  1.73233580e+01,  2.37084170e+01,\n",
       "          1.71477281e+01,  1.80437855e+01,  2.16247180e+01,\n",
       "          2.39088136e+01,  1.64372362e+01,  1.67898441e+01,\n",
       "          1.75938432e+01,  2.16929766e+01,  1.73996115e+01,\n",
       "          1.44768833e+01,  1.43579274e+01,  1.47050865e+01,\n",
       "          1.50058783e+01,  1.65752761e+01],\n",
       "        [-1.27115347e+00, -1.31413325e+00,  2.48750582e+00,\n",
       "          2.35720871e-01,  1.71983720e+00,  8.10489621e+00,\n",
       "          1.54420733e+00,  2.44026468e+00,  6.02119721e+00,\n",
       "          8.30529283e+00,  8.33715392e-01,  1.18632331e+00,\n",
       "          1.99032245e+00,  6.08945585e+00,  1.79609068e+00,\n",
       "         -1.12663750e+00, -1.24559339e+00, -8.98434295e-01,\n",
       "         -5.97642462e-01,  9.71755290e-01],\n",
       "        [ 1.16452641e+01,  1.16022843e+01,  1.54039234e+01,\n",
       "          1.31521384e+01,  1.46362548e+01,  2.10213138e+01,\n",
       "          1.44606249e+01,  1.53566823e+01,  1.89376148e+01,\n",
       "          2.12217104e+01,  1.37501330e+01,  1.41027409e+01,\n",
       "          1.49067400e+01,  1.90058734e+01,  1.47125083e+01,\n",
       "          1.17897801e+01,  1.16708242e+01,  1.20179833e+01,\n",
       "          1.23187751e+01,  1.38881729e+01],\n",
       "        [ 6.98706698e+00,  6.94408720e+00,  1.07457263e+01,\n",
       "          8.49394132e+00,  9.97805765e+00,  1.63631167e+01,\n",
       "          9.80242778e+00,  1.06984851e+01,  1.42794177e+01,\n",
       "          1.65635133e+01,  9.09193584e+00,  9.44454376e+00,\n",
       "          1.02485429e+01,  1.43476763e+01,  1.00543111e+01,\n",
       "          7.13158294e+00,  7.01262705e+00,  7.35978615e+00,\n",
       "          7.66057799e+00,  9.22997574e+00],\n",
       "        [-9.59265273e+00, -9.63563251e+00, -5.83399343e+00,\n",
       "         -8.08577839e+00, -6.60166206e+00, -2.16603043e-01,\n",
       "         -6.77729192e+00, -5.88123457e+00, -2.30030204e+00,\n",
       "         -1.62064273e-02, -7.48778387e+00, -7.13517595e+00,\n",
       "         -6.33117681e+00, -2.23204341e+00, -6.52540858e+00,\n",
       "         -9.44813676e+00, -9.56709265e+00, -9.21993355e+00,\n",
       "         -8.91914172e+00, -7.34974397e+00],\n",
       "        [ 2.57698248e+00,  2.53400270e+00,  6.33564178e+00,\n",
       "          4.08385682e+00,  5.56797315e+00,  1.19530322e+01,\n",
       "          5.39234329e+00,  6.28840064e+00,  9.86933317e+00,\n",
       "          1.21534288e+01,  4.68185135e+00,  5.03445926e+00,\n",
       "          5.83845841e+00,  9.93759180e+00,  5.64422663e+00,\n",
       "          2.72149845e+00,  2.60254256e+00,  2.94970166e+00,\n",
       "          3.25049349e+00,  4.81989124e+00],\n",
       "        [ 1.54597223e+00,  1.50299245e+00,  5.30463152e+00,\n",
       "          3.05284657e+00,  4.53696290e+00,  1.09220219e+01,\n",
       "          4.36133303e+00,  5.25739038e+00,  8.83832291e+00,\n",
       "          1.11224185e+01,  3.65084109e+00,  4.00344901e+00,\n",
       "          4.80744815e+00,  8.90658155e+00,  4.61321638e+00,\n",
       "          1.69048820e+00,  1.57153231e+00,  1.91869141e+00,\n",
       "          2.21948324e+00,  3.78888099e+00],\n",
       "        [-1.63765687e+01, -1.64195485e+01, -1.26179094e+01,\n",
       "         -1.48696944e+01, -1.33855780e+01, -7.00051903e+00,\n",
       "         -1.35612079e+01, -1.26651506e+01, -9.08421803e+00,\n",
       "         -6.80012241e+00, -1.42716999e+01, -1.39190919e+01,\n",
       "         -1.31150928e+01, -9.01595940e+00, -1.33093246e+01,\n",
       "         -1.62320527e+01, -1.63510086e+01, -1.60038495e+01,\n",
       "         -1.57030577e+01, -1.41336600e+01],\n",
       "        [ 6.61099341e+00,  6.56801363e+00,  1.03696527e+01,\n",
       "          8.11786775e+00,  9.60198408e+00,  1.59870431e+01,\n",
       "          9.42635421e+00,  1.03224116e+01,  1.39033441e+01,\n",
       "          1.61874397e+01,  8.71586227e+00,  9.06847019e+00,\n",
       "          9.87246933e+00,  1.39716027e+01,  9.67823755e+00,\n",
       "          6.75550937e+00,  6.63655348e+00,  6.98371258e+00,\n",
       "          7.28450441e+00,  8.85390217e+00],\n",
       "        [ 3.90717571e+00,  3.86419593e+00,  7.66583500e+00,\n",
       "          5.41405005e+00,  6.89816638e+00,  1.32832254e+01,\n",
       "          6.72253651e+00,  7.61859386e+00,  1.11995264e+01,\n",
       "          1.34836220e+01,  6.01204457e+00,  6.36465249e+00,\n",
       "          7.16865163e+00,  1.12677850e+01,  6.97441986e+00,\n",
       "          4.05169168e+00,  3.93273579e+00,  4.27989488e+00,\n",
       "          4.58068672e+00,  6.15008447e+00],\n",
       "        [ 8.18513271e-01,  7.75533491e-01,  4.57717257e+00,\n",
       "          2.32538761e+00,  3.80950394e+00,  1.01945630e+01,\n",
       "          3.63387407e+00,  4.52993142e+00,  8.11086395e+00,\n",
       "          1.03949596e+01,  2.92338213e+00,  3.27599005e+00,\n",
       "          4.07998919e+00,  8.17912259e+00,  3.88575742e+00,\n",
       "          9.63029238e-01,  8.44073348e-01,  1.19123245e+00,\n",
       "          1.49202428e+00,  3.06142203e+00],\n",
       "        [-2.33305501e-01, -2.76285280e-01,  3.52535379e+00,\n",
       "          1.27356884e+00,  2.75768517e+00,  9.14274418e+00,\n",
       "          2.58205530e+00,  3.47811265e+00,  7.05904518e+00,\n",
       "          9.34314080e+00,  1.87156336e+00,  2.22417128e+00,\n",
       "          3.02817042e+00,  7.12730382e+00,  2.83393865e+00,\n",
       "         -8.87895332e-02, -2.07745423e-01,  1.39413675e-01,\n",
       "          4.40205508e-01,  2.00960326e+00],\n",
       "        [ 2.49605216e+00,  2.45307238e+00,  6.25471146e+00,\n",
       "          4.00292650e+00,  5.48704283e+00,  1.18721018e+01,\n",
       "          5.31141297e+00,  6.20747032e+00,  9.78840285e+00,\n",
       "          1.20724985e+01,  4.60092103e+00,  4.95352894e+00,\n",
       "          5.75752809e+00,  9.85666148e+00,  5.56329631e+00,\n",
       "          2.64056813e+00,  2.52161224e+00,  2.86877134e+00,\n",
       "          3.16956317e+00,  4.73896092e+00],\n",
       "        [ 8.26865310e+00,  8.22567332e+00,  1.20273124e+01,\n",
       "          9.77552744e+00,  1.12596438e+01,  1.76447028e+01,\n",
       "          1.10840139e+01,  1.19800713e+01,  1.55610038e+01,\n",
       "          1.78450994e+01,  1.03735220e+01,  1.07261299e+01,\n",
       "          1.15301290e+01,  1.56292624e+01,  1.13358972e+01,\n",
       "          8.41316907e+00,  8.29421318e+00,  8.64137227e+00,\n",
       "          8.94216411e+00,  1.05115619e+01],\n",
       "        [-4.22479275e+00, -4.26777253e+00, -4.66133457e-01,\n",
       "         -2.71791841e+00, -1.23380208e+00,  5.15125693e+00,\n",
       "         -1.40943195e+00, -5.13374598e-01,  3.06755793e+00,\n",
       "          5.35165355e+00, -2.11992389e+00, -1.76731597e+00,\n",
       "         -9.63316829e-01,  3.13581656e+00, -1.15754860e+00,\n",
       "         -4.08027678e+00, -4.19923267e+00, -3.85207358e+00,\n",
       "         -3.55128174e+00, -1.98188399e+00]]))"
      ]
     },
     "execution_count": 29,
     "metadata": {},
     "output_type": "execute_result"
    }
   ],
   "source": [
    "ci(train_X)"
   ]
  },
  {
   "cell_type": "markdown",
   "id": "797e2273-a208-4870-ab42-6ff173583056",
   "metadata": {},
   "source": [
    "# BIAS VARIANCE TRADEOFF \n",
    "\n",
    "***Part b***"
   ]
  },
  {
   "cell_type": "code",
   "execution_count": 102,
   "id": "7c37f5c1-5a75-4ff0-b0ef-5b063956f9fe",
   "metadata": {},
   "outputs": [],
   "source": [
    "train_X, test_X, train_y, test_y = train_test_split(X, y, train_size=.8)"
   ]
  },
  {
   "cell_type": "code",
   "execution_count": 156,
   "id": "cb1ce809-96e8-4a8b-bc8c-aaf857d3ea9a",
   "metadata": {},
   "outputs": [],
   "source": [
    "from sklearn.utils import resample"
   ]
  },
  {
   "cell_type": "code",
   "execution_count": 103,
   "id": "491a947a-35f4-45f0-b81c-24890300b31b",
   "metadata": {},
   "outputs": [],
   "source": [
    "k = 10 # bootstrap\n",
    "\n",
    "def bootstrap(model, X, y, div = .5, **model_args): # div: proportion of the bootstrap\n",
    "    test_errors, train_errors = [], []\n",
    "    if \"degree\" in model_args: ii = model_args[\"degree\"] \n",
    "    for jj in range(k):\n",
    "        resampled_X , resampled_y = resample(X, y, n_samples=int(train_X.shape[0]/div))\n",
    "        Train_X, Test_X, Train_y, Test_y = train_test_split(X, y, train_size=.8)\n",
    "        resampled_X = scaler.fit_transform(Train_X)\n",
    "        resampled_X = PolyTransformer(resampled_X, degree=ii)\n",
    "        beta = model(resampled_X, Train_y, **model_args)\n",
    "\n",
    "        test_X0 = Test_X\n",
    "        test_X0 = scaler.transform(test_X0)\n",
    "        test_X0 = PolyTransformer(test_X0, degree=ii)\n",
    "    \n",
    "        pred_y = test_X0 @ beta\n",
    "        test_errors.append(mse(Test_y, pred_y))\n",
    "        train_errors.append(mse(Train_y, resampled_X @ beta))\n",
    "    return np.array(train_errors).mean(), np.array(test_errors).mean() # Return train and test error"
   ]
  },
  {
   "cell_type": "code",
   "execution_count": 104,
   "id": "5e59499e-37c4-429b-8666-73baf51f5692",
   "metadata": {},
   "outputs": [],
   "source": [
    "complexity = 11\n",
    "\n",
    "complexity_deg = np.zeros(complexity)\n",
    "test_error = np.zeros(complexity)\n",
    "train_error = np.zeros(complexity)\n",
    "\n",
    "for ii in range(1, complexity):\n",
    "    complexity_deg[ii] = ii\n",
    "    train_error[ii], test_error[ii] = bootstrap(ols, train_X, train_y, degree=ii)"
   ]
  },
  {
   "cell_type": "code",
   "execution_count": 105,
   "id": "188d526c-8ff5-42c3-bf2d-e9f5a1109829",
   "metadata": {},
   "outputs": [
    {
     "data": {
      "image/png": "[encoded data removed]",
      "text/plain": [
       "<Figure size 640x480 with 1 Axes>"
      ]
     },
     "metadata": {},
     "output_type": "display_data"
    }
   ],
   "source": [
    "import matplotlib.pyplot as plt\n",
    "fig, ax = plt.subplots()\n",
    "ax.plot(complexity_deg[1:], test_error[1:], label='Validation data')\n",
    "ax.plot(complexity_deg[1:], train_error[1:], label='Train data')\n",
    "plt.legend()\n",
    "ax.set_xlabel(\"Model Complexity\")\n",
    "ax.set_ylabel(\"Prediction Error\")\n",
    "ax.set_title(\"Espected test error vs model complexity\")\n",
    "ax.set_yscale('log')\n",
    "bbox_inches='tight'\n"
   ]
  },
  {
   "cell_type": "markdown",
   "id": "ec793e37-4673-416b-b378-9dcd5bb3dc36",
   "metadata": {},
   "source": [
    "# Theory behind bias variance tradeoff\n",
    "\n",
    "\n",
    "The bias-variance trade-off refers to the fact that decreasing the bias of a model will increase its variance, and vice versa. The goal in machine learning is to find a model that strikes a balance between bias and variance to achieve low total error. This balance can be achieved by selecting the appropriate model complexity, using regularization techniques, or by collecting more data.\n",
    "\n",
    "Understanding bias - variance trade-off is critical for understanding the behavior of prediction models. We will highlight that we care about overall error, not the specific decomposition. The important characteristic for any model is the level of complexity at which the increase in bias is equivalent to the reduction in variance. Mathematically:"
   ]
  },
  {
   "cell_type": "markdown",
   "id": "9a57a812-e679-416b-8e5d-c11f6a4c24e9",
   "metadata": {},
   "source": [
    "$$\n",
    "\\frac{\\mathrm{d(Bias)}}{\\mathrm{d (Complexity)}} = \\frac{\\mathrm{d (Variance)}}{d (Complexity)}\n",
    "$$"
   ]
  },
  {
   "cell_type": "markdown",
   "id": "fde78683-ad46-4028-b1c4-769dccc5722d",
   "metadata": {},
   "source": [
    "**In our report, section number 3.1, derivation of expected test derror due to three main factors can be found. Anyway, we will show here final expression we have obtained.**"
   ]
  },
  {
   "cell_type": "markdown",
   "id": "ded66370-b977-40c4-a163-3246e68bb062",
   "metadata": {},
   "source": [
    "\n",
    "$$ \\underbrace{E_{\\mathbf{x}, y, D}\\left[\\left(h_{D}(\\mathbf{x})-y\\right)^{2}\\right]}_{\\text {Expected Test Error }}=\\underbrace{E_{\\mathbf{x}, D}\\left[\\left(h_{D}(\\mathbf{x})-\\bar{h}(\\mathbf{x})\\right)^{2}\\right]}_{\\text {Variance }}+\\underbrace{E_{\\mathbf{x}, y}\\left[(\\bar{y}(\\mathbf{x})-y)^{2}\\right]}_{\\text {Noise }}+\\underbrace{E_{\\mathbf{x}}\\left[(\\bar{h}(\\mathbf{x})-\\bar{y}(\\mathbf{x}))^{2}\\right]}_{\\text {Bias }^{2}} $$"
   ]
  },
  {
   "cell_type": "markdown",
   "id": "2aa5c33c-9b9b-446a-b894-2a26c49c4a16",
   "metadata": {},
   "source": [
    "This equation is analogue with equation provided in part b question of first project: "
   ]
  },
  {
   "cell_type": "markdown",
   "id": "75c7bf64-2390-4f05-8971-7b0243a50af9",
   "metadata": {},
   "source": [
    "\n",
    "$$ \\underbrace{E \\left[\\left(\\mathbf{y} -\\tilde{\\boldsymbol{y}}\\right)^{2}\\right]}_{\\text {Expected Test Error }} =\n",
    "\n",
    "\\underbrace{ \\frac{1}{n} \\sum_i( f_i - E \\left[\\tilde{y}\\right] )^2 }_{\\text {Variance }}\n",
    "+\n",
    "\\underbrace{\\frac{1}{n} \\sum_i \\left( \\tilde{y_i} - E \\left[ \\tilde{y}\\right]\\right)^2}_{\\text {Bias}^{2}} + \n",
    "\n",
    "\\underbrace{\\sigma^2}_{\\text {Noise}}\n"
   ]
  },
  {
   "cell_type": "markdown",
   "id": "ddb9b8ca-d74f-4e0d-af16-074a2ae06a4c",
   "metadata": {},
   "source": [
    "**As highlighted, epected error is sum of variance, bias and noise, meaning of these parameters will be explained as part of this file**\n",
    "\n",
    "Namely, \n",
    "\n",
    "**Variance** refers to the random error or the spread of the model's predictions for different training sets. A high variance model is overly complex and fits the training data too closely, leading to high variance and poor generalization to new data. Variance is a measure of the variability of the model's predictions for different training sets. A high variance model is said to be too flexible and has a tendency to fit the noise in the data.\n",
    "\n",
    "**Bias** refers to the systematic error or the deviation of the model's predictions from the true values. A high bias model is oversimplified and has a strong assumption about the relationship between the inputs and outputs. It is likely to underfit the data, leading to high training error and poor generalization to new data. Bias is a measure of how far the average prediction of the model is from the true values. A high bias model is said to be too rigid and has a tendency to ignore the underlying complexity of the data.\n",
    "\n",
    "**Noise** refers to the random error or the inherent noise in the target variable. Noise is a measure of the inherent variability in the target variable. This term is an irreducible error. Given the true model and infinite data to calibrate it, we should be able to reduce both the bias and variance terms to 0. However, in a world with imperfect models and finite data, there is a tradeoff between minimizing the bias and minimizing the variance.\n",
    "\n",
    "\n"
   ]
  },
  {
   "cell_type": "markdown",
   "id": "fa1b96b4-fea7-4dd8-bfdd-4efe68e68742",
   "metadata": {},
   "source": [
    "# Part c"
   ]
  },
  {
   "cell_type": "code",
   "execution_count": 150,
   "id": "11d74553-f7ee-4791-98af-720e9f1dc2c2",
   "metadata": {},
   "outputs": [],
   "source": [
    "def cv(model, X, y, fold = 10, **model_args):\n",
    "    foldSize = int(X.shape[0] / fold)\n",
    "    Xs = np.vsplit(X, [foldSize * i for i in range(1, fold)])\n",
    "    ys = np.vsplit(y, [foldSize * i for i in range(1, fold)])\n",
    "    scores = list()\n",
    "    if \"degree\" in model_args: ii = model_args[\"degree\"]\n",
    "    for i in range(fold):\n",
    "        validationSet_X = Xs[i:i+1][0]\n",
    "        trainSet_X = np.concatenate([*Xs[0:i], *Xs[i+1:]], axis=0)\n",
    "        validationSet_y = y[i:i+1][0]\n",
    "        trainSet_y = np.concatenate([*y[0:i], *y[i+1:]], axis=0)\n",
    "        scaler = StandardScaler()\n",
    "        beta = model(PolyTransformer(scaler.fit_transform(trainSet_X), degree=ii), trainSet_y)\n",
    "        score = mse(PolyTransformer(scaler.transform(validationSet_X), degree=ii) @ beta, validationSet_y)\n",
    "        scores.append(score)\n",
    "    return np.array(scores).mean()"
   ]
  },
  {
   "cell_type": "code",
   "execution_count": 151,
   "id": "3594ddf5-c5eb-4771-854b-299714d76ce6",
   "metadata": {},
   "outputs": [
    {
     "name": "stdout",
     "output_type": "stream",
     "text": [
      "1.4721956336571056\n",
      "1.461913421145709\n",
      "1.4618284399997385\n",
      "1.4601759298184933\n",
      "1.4606501767636755\n",
      "1.4611358030423083\n",
      "1.4641261901494287\n",
      "1.4797718956434331\n",
      "1.5862203635261958\n",
      "2.413232705577726\n"
     ]
    }
   ],
   "source": [
    "test_error = np.zeros(complexity)\n",
    "for ii in range(1, complexity):\n",
    "    complexity_deg[ii] = ii\n",
    "    test_error[ii] = cv(ols, train_X, train_y, degree=ii)\n",
    "    print(test_error[ii])"
   ]
  },
  {
   "cell_type": "code",
   "execution_count": 152,
   "id": "e3bd6fbe-50c8-4355-ac88-00d25ffd5dbc",
   "metadata": {},
   "outputs": [
    {
     "data": {
      "text/plain": [
       "Text(0.5, 1.0, 'Test error vs model complexity')"
      ]
     },
     "execution_count": 152,
     "metadata": {},
     "output_type": "execute_result"
    },
    {
     "data": {
      "image/png": "[encoded data removed]",
      "text/plain": [
       "<Figure size 640x480 with 1 Axes>"
      ]
     },
     "metadata": {},
     "output_type": "display_data"
    }
   ],
   "source": [
    "fig, ax = plt.subplots()\n",
    "ax.plot(complexity_deg[1:], test_error[1:], label='Validation data')\n",
    "plt.legend()\n",
    "ax.set_xlabel(\"Model Complexity\")\n",
    "ax.set_ylabel(\"Prediction Error\")\n",
    "ax.set_title(\"Test error vs model complexity\")"
   ]
  },
  {
   "cell_type": "markdown",
   "id": "98030429-a62c-4e82-8c33-a925cf30ce9f",
   "metadata": {},
   "source": [
    "# Part d"
   ]
  },
  {
   "cell_type": "code",
   "execution_count": 171,
   "id": "5a6a41bd-7463-4cc4-83a9-9da4368f29c1",
   "metadata": {},
   "outputs": [],
   "source": [
    "def ridge(X, y, l=.1):\n",
    "    beta = X.T @ X\n",
    "    beta += np.eye(beta.shape[0]) * l\n",
    "    U,S,V = np.linalg.svd(beta, hermitian=True)\n",
    "    beta = inv = V.T @ np.diag(1/S) @ U.T\n",
    "    beta = beta @ X.T\n",
    "    return beta"
   ]
  },
  {
   "cell_type": "code",
   "execution_count": 172,
   "id": "6db0e12e-878f-42b0-8567-3c59c50ef9a6",
   "metadata": {},
   "outputs": [],
   "source": [
    " def ci(train_X, l):\n",
    "    #define var of beta\n",
    "    var_beta = np.diag(np.linalg.inv(train_X.T @ train_X + np.eye([train_X.shape[1]] * 2)))\n",
    "    #define std of beta\n",
    "    std_beta = np.sqrt(var_beta)\n",
    "    #define standard error of beta\n",
    "    se_beta = std_beta / np.sqrt(len(train_X))\n",
    "    t_value = t.ppf(1-0.025, train_X.shape[0]-train_X.shape[1])\n",
    "    #lower and upper confidence interval\n",
    "    CI=np.array([beta-t_value*se_beta, beta+t_value*se_beta])\n",
    "    lower = beta - t_value * se_beta\n",
    "    upper = beta + t_value * se_beta\n",
    "    return (lower, upper)"
   ]
  },
  {
   "cell_type": "code",
   "execution_count": 176,
   "id": "affa1c0c-ea03-4294-863b-78d7ff08ded2",
   "metadata": {},
   "outputs": [],
   "source": [
    "k = 10 # bootstrap\n",
    "\n",
    "def bootstrap(model, X, y, div = .5, **model_args): # div: proportion of the bootstrap\n",
    "    test_errors, train_errors = [], []\n",
    "    for jj in range(k):\n",
    "        resampled_X , resampled_y = resample(X, y, n_samples=int(train_X.shape[0]/div))\n",
    "        Train_X, Test_X, Train_y, Test_y = train_test_split(X, y, train_size=.8)\n",
    "        resampled_X = scaler.fit_transform(Train_X)\n",
    "        resampled_X = PolyTransformer(resampled_X)\n",
    "        beta = model(resampled_X, Train_y, **model_args)\n",
    "\n",
    "        test_X0 = Test_X\n",
    "        test_X0 = scaler.transform(test_X0)\n",
    "        test_X0 = PolyTransformer(test_X0)\n",
    "    \n",
    "        pred_y = test_X0 @ beta\n",
    "        test_errors.append(mse(Test_y, pred_y))\n",
    "        train_errors.append(mse(Train_y, resampled_X @ beta))\n",
    "    return np.array(train_errors).mean(), np.array(test_errors).mean() # Return train and test error"
   ]
  },
  {
   "cell_type": "code",
   "execution_count": 181,
   "id": "722d8b9a-d1eb-48df-a110-cf199febd9b3",
   "metadata": {},
   "outputs": [
    {
     "name": "stderr",
     "output_type": "stream",
     "text": [
      "/tmp/ipykernel_131224/1162128081.py:6: RuntimeWarning: overflow encountered in scalar power\n",
      "  lambdas.append(10**ii)\n",
      "/tmp/ipykernel_131224/1162128081.py:6: RuntimeWarning: overflow encountered in scalar power\n",
      "  lambdas.append(10**ii)\n",
      "/tmp/ipykernel_131224/1162128081.py:6: RuntimeWarning: overflow encountered in scalar power\n",
      "  lambdas.append(10**ii)\n"
     ]
    }
   ],
   "source": [
    "lambdas = []\n",
    "test_error = []\n",
    "train_error = []\n",
    "\n",
    "for ii in np.logspace(-5, 5, 10):\n",
    "    lambdas.append(10**ii)\n",
    "    train, test = bootstrap(ridge, train_X, train_y, l=ii)\n",
    "    train_error.append(train)\n",
    "    test_error.append(test)"
   ]
  },
  {
   "cell_type": "code",
   "execution_count": 182,
   "id": "a3e6e219-b45a-48b5-ba6f-5980e6482d77",
   "metadata": {},
   "outputs": [
    {
     "data": {
      "text/plain": [
       "[1.284864756119595,\n",
       " 1.2342194528541108,\n",
       " 1.3049360652410704,\n",
       " 1.2208738144600342,\n",
       " 1.2171897397154183,\n",
       " 1.2844323385029828,\n",
       " 1.287546226231479,\n",
       " 1.2503464346418476,\n",
       " 1.2546834043435635,\n",
       " 1.1972951297970083]"
      ]
     },
     "execution_count": 182,
     "metadata": {},
     "output_type": "execute_result"
    }
   ],
   "source": [
    "test_error"
   ]
  },
  {
   "cell_type": "code",
   "execution_count": 183,
   "id": "9c3ee2ad-d487-453a-935f-3926fdb2a4b8",
   "metadata": {},
   "outputs": [
    {
     "ename": "ValueError",
     "evalue": "x and y must have same first dimension, but have shapes (10,) and (9,)",
     "output_type": "error",
     "traceback": [
      "\u001b[0;31m---------------------------------------------------------------------------\u001b[0m",
      "\u001b[0;31mValueError\u001b[0m                                Traceback (most recent call last)",
      "Cell \u001b[0;32mIn[183], line 3\u001b[0m\n\u001b[1;32m      1\u001b[0m \u001b[38;5;28;01mimport\u001b[39;00m \u001b[38;5;21;01mmatplotlib\u001b[39;00m\u001b[38;5;21;01m.\u001b[39;00m\u001b[38;5;21;01mpyplot\u001b[39;00m \u001b[38;5;28;01mas\u001b[39;00m \u001b[38;5;21;01mplt\u001b[39;00m\n\u001b[1;32m      2\u001b[0m fig, ax \u001b[38;5;241m=\u001b[39m plt\u001b[38;5;241m.\u001b[39msubplots()\n\u001b[0;32m----> 3\u001b[0m \u001b[43max\u001b[49m\u001b[38;5;241;43m.\u001b[39;49m\u001b[43mplot\u001b[49m\u001b[43m(\u001b[49m\u001b[43mcomplexity_deg\u001b[49m\u001b[43m[\u001b[49m\u001b[38;5;241;43m1\u001b[39;49m\u001b[43m:\u001b[49m\u001b[43m]\u001b[49m\u001b[43m,\u001b[49m\u001b[43m \u001b[49m\u001b[43mtest_error\u001b[49m\u001b[43m[\u001b[49m\u001b[38;5;241;43m1\u001b[39;49m\u001b[43m:\u001b[49m\u001b[43m]\u001b[49m\u001b[43m,\u001b[49m\u001b[43m \u001b[49m\u001b[43mlabel\u001b[49m\u001b[38;5;241;43m=\u001b[39;49m\u001b[38;5;124;43m'\u001b[39;49m\u001b[38;5;124;43mValidation data\u001b[39;49m\u001b[38;5;124;43m'\u001b[39;49m\u001b[43m)\u001b[49m\n\u001b[1;32m      4\u001b[0m ax\u001b[38;5;241m.\u001b[39mplot(complexity_deg[\u001b[38;5;241m1\u001b[39m:], train_error[\u001b[38;5;241m1\u001b[39m:], label\u001b[38;5;241m=\u001b[39m\u001b[38;5;124m'\u001b[39m\u001b[38;5;124mTrain data\u001b[39m\u001b[38;5;124m'\u001b[39m)\n\u001b[1;32m      5\u001b[0m plt\u001b[38;5;241m.\u001b[39mlegend()\n",
      "File \u001b[0;32m/usr/lib/python3.10/site-packages/matplotlib/axes/_axes.py:1662\u001b[0m, in \u001b[0;36mAxes.plot\u001b[0;34m(self, scalex, scaley, data, *args, **kwargs)\u001b[0m\n\u001b[1;32m   1419\u001b[0m \u001b[38;5;250m\u001b[39m\u001b[38;5;124;03m\"\"\"\u001b[39;00m\n\u001b[1;32m   1420\u001b[0m \u001b[38;5;124;03mPlot y versus x as lines and/or markers.\u001b[39;00m\n\u001b[1;32m   1421\u001b[0m \n\u001b[0;32m   (...)\u001b[0m\n\u001b[1;32m   1659\u001b[0m \u001b[38;5;124;03m(``'green'``) or hex strings (``'#008000'``).\u001b[39;00m\n\u001b[1;32m   1660\u001b[0m \u001b[38;5;124;03m\"\"\"\u001b[39;00m\n\u001b[1;32m   1661\u001b[0m kwargs \u001b[38;5;241m=\u001b[39m cbook\u001b[38;5;241m.\u001b[39mnormalize_kwargs(kwargs, mlines\u001b[38;5;241m.\u001b[39mLine2D)\n\u001b[0;32m-> 1662\u001b[0m lines \u001b[38;5;241m=\u001b[39m [\u001b[38;5;241m*\u001b[39m\u001b[38;5;28mself\u001b[39m\u001b[38;5;241m.\u001b[39m_get_lines(\u001b[38;5;241m*\u001b[39margs, data\u001b[38;5;241m=\u001b[39mdata, \u001b[38;5;241m*\u001b[39m\u001b[38;5;241m*\u001b[39mkwargs)]\n\u001b[1;32m   1663\u001b[0m \u001b[38;5;28;01mfor\u001b[39;00m line \u001b[38;5;129;01min\u001b[39;00m lines:\n\u001b[1;32m   1664\u001b[0m     \u001b[38;5;28mself\u001b[39m\u001b[38;5;241m.\u001b[39madd_line(line)\n",
      "File \u001b[0;32m/usr/lib/python3.10/site-packages/matplotlib/axes/_base.py:311\u001b[0m, in \u001b[0;36m_process_plot_var_args.__call__\u001b[0;34m(self, data, *args, **kwargs)\u001b[0m\n\u001b[1;32m    309\u001b[0m     this \u001b[38;5;241m+\u001b[39m\u001b[38;5;241m=\u001b[39m args[\u001b[38;5;241m0\u001b[39m],\n\u001b[1;32m    310\u001b[0m     args \u001b[38;5;241m=\u001b[39m args[\u001b[38;5;241m1\u001b[39m:]\n\u001b[0;32m--> 311\u001b[0m \u001b[38;5;28;01myield from\u001b[39;00m \u001b[38;5;28;43mself\u001b[39;49m\u001b[38;5;241;43m.\u001b[39;49m\u001b[43m_plot_args\u001b[49m\u001b[43m(\u001b[49m\n\u001b[1;32m    312\u001b[0m \u001b[43m    \u001b[49m\u001b[43mthis\u001b[49m\u001b[43m,\u001b[49m\u001b[43m \u001b[49m\u001b[43mkwargs\u001b[49m\u001b[43m,\u001b[49m\u001b[43m \u001b[49m\u001b[43mambiguous_fmt_datakey\u001b[49m\u001b[38;5;241;43m=\u001b[39;49m\u001b[43mambiguous_fmt_datakey\u001b[49m\u001b[43m)\u001b[49m\n",
      "File \u001b[0;32m/usr/lib/python3.10/site-packages/matplotlib/axes/_base.py:504\u001b[0m, in \u001b[0;36m_process_plot_var_args._plot_args\u001b[0;34m(self, tup, kwargs, return_kwargs, ambiguous_fmt_datakey)\u001b[0m\n\u001b[1;32m    501\u001b[0m     \u001b[38;5;28mself\u001b[39m\u001b[38;5;241m.\u001b[39maxes\u001b[38;5;241m.\u001b[39myaxis\u001b[38;5;241m.\u001b[39mupdate_units(y)\n\u001b[1;32m    503\u001b[0m \u001b[38;5;28;01mif\u001b[39;00m x\u001b[38;5;241m.\u001b[39mshape[\u001b[38;5;241m0\u001b[39m] \u001b[38;5;241m!=\u001b[39m y\u001b[38;5;241m.\u001b[39mshape[\u001b[38;5;241m0\u001b[39m]:\n\u001b[0;32m--> 504\u001b[0m     \u001b[38;5;28;01mraise\u001b[39;00m \u001b[38;5;167;01mValueError\u001b[39;00m(\u001b[38;5;124mf\u001b[39m\u001b[38;5;124m\"\u001b[39m\u001b[38;5;124mx and y must have same first dimension, but \u001b[39m\u001b[38;5;124m\"\u001b[39m\n\u001b[1;32m    505\u001b[0m                      \u001b[38;5;124mf\u001b[39m\u001b[38;5;124m\"\u001b[39m\u001b[38;5;124mhave shapes \u001b[39m\u001b[38;5;132;01m{\u001b[39;00mx\u001b[38;5;241m.\u001b[39mshape\u001b[38;5;132;01m}\u001b[39;00m\u001b[38;5;124m and \u001b[39m\u001b[38;5;132;01m{\u001b[39;00my\u001b[38;5;241m.\u001b[39mshape\u001b[38;5;132;01m}\u001b[39;00m\u001b[38;5;124m\"\u001b[39m)\n\u001b[1;32m    506\u001b[0m \u001b[38;5;28;01mif\u001b[39;00m x\u001b[38;5;241m.\u001b[39mndim \u001b[38;5;241m>\u001b[39m \u001b[38;5;241m2\u001b[39m \u001b[38;5;129;01mor\u001b[39;00m y\u001b[38;5;241m.\u001b[39mndim \u001b[38;5;241m>\u001b[39m \u001b[38;5;241m2\u001b[39m:\n\u001b[1;32m    507\u001b[0m     \u001b[38;5;28;01mraise\u001b[39;00m \u001b[38;5;167;01mValueError\u001b[39;00m(\u001b[38;5;124mf\u001b[39m\u001b[38;5;124m\"\u001b[39m\u001b[38;5;124mx and y can be no greater than 2D, but have \u001b[39m\u001b[38;5;124m\"\u001b[39m\n\u001b[1;32m    508\u001b[0m                      \u001b[38;5;124mf\u001b[39m\u001b[38;5;124m\"\u001b[39m\u001b[38;5;124mshapes \u001b[39m\u001b[38;5;132;01m{\u001b[39;00mx\u001b[38;5;241m.\u001b[39mshape\u001b[38;5;132;01m}\u001b[39;00m\u001b[38;5;124m and \u001b[39m\u001b[38;5;132;01m{\u001b[39;00my\u001b[38;5;241m.\u001b[39mshape\u001b[38;5;132;01m}\u001b[39;00m\u001b[38;5;124m\"\u001b[39m)\n",
      "\u001b[0;31mValueError\u001b[0m: x and y must have same first dimension, but have shapes (10,) and (9,)"
     ]
    },
    {
     "data": {
      "image/png": "[encoded data removed]",
      "text/plain": [
       "<Figure size 640x480 with 1 Axes>"
      ]
     },
     "metadata": {},
     "output_type": "display_data"
    }
   ],
   "source": [
    "import matplotlib.pyplot as plt\n",
    "fig, ax = plt.subplots()\n",
    "ax.plot(complexity_deg[1:], test_error[1:], label='Validation data')\n",
    "ax.plot(complexity_deg[1:], train_error[1:], label='Train data')\n",
    "plt.legend()\n",
    "ax.set_xlabel(\"Model Complexity\")\n",
    "ax.set_ylabel(\"Prediction Error\")\n",
    "ax.set_title(\"Espected test error vs model complexity\")\n",
    "ax.set_yscale('log')\n",
    "bbox_inches='tight'\n"
   ]
  },
  {
   "cell_type": "code",
   "execution_count": null,
   "id": "4758e35b",
   "metadata": {},
   "outputs": [],
   "source": [
    "train_X = Ridge(train_X, train_y, 0.1)"
   ]
  },
  {
   "cell_type": "code",
   "execution_count": null,
   "id": "5384df84",
   "metadata": {},
   "outputs": [],
   "source": [
    "from sklearn.utils import resample\n",
    "k = 100 # bootstrap\n",
    "complexity = 25\n",
    "\n",
    "complexity_degR = np.zeros(complexity)\n",
    "test_bias_squareR = np.zeros(complexity)\n",
    "test_errorR = np.zeros(complexity)\n",
    "test_varianceR = np.zeros(complexity)\n",
    "\n",
    "train_bias_squareR = np.zeros(complexity)\n",
    "train_errorR = np.zeros(complexity)\n",
    "train_varianceR = np.zeros(complexity)\n",
    "\n",
    "lambda_vals = [0.1, 1, 10, 100]\n",
    "\n",
    "for l in lambda_vals:\n",
    "    for ii in range(1, complexity):\n",
    "        complexity_degR[ii] = ii\n",
    "        resampled_XR= resample(train_X)\n",
    "        resampled_yR = resample(train_y)\n",
    "\n",
    "        resampled_XR = Ridge(resampled_XR, resampled_yR, l)\n",
    "\n",
    "        \n",
    "        resampled_XR = scaler.fit_transform(resampled_X)\n",
    "\n",
    "        betaR = resampled_XR.T @ resampled_XR\n",
    "        U,S,V = np.linalg.svd(betaR, hermitian=True)\n",
    "        invBetaR = V.T @ np.diag(1/S) @ U.T\n",
    "        betaR = invBetaR @ resampled_XR.T\n",
    "        betaR = betaR @ resampled_yR\n",
    "\n",
    "        pred_y = np.zeros((test_y.shape[0],k))\n",
    "\n",
    "        #test_X0 = test_X\n",
    "        #test_X = Ridge(test_X, test_y, l)\n",
    "        #test_X0 = scaler.fit_transform(test_X0)\n",
    "\n",
    "        for jj in range(k):\n",
    "            pred_valueR = test_X @ beta \n",
    "            pred_y[:, jj] = pred_value.ravel()\n",
    "            test_errorR[ii] = mse(test_y, pred_y).mean()\n",
    "            #bias_square[ii] = mse(pred_y, np.mean(pred_y,axis=1,keepdims=True))\n",
    "            #variance[ii] = np.var(pred_y,axis=1,keepdims=True).mean()\n",
    "            train_errorR[ii] = mse(train_y, scaler.fit_transform(Ridge(train_X, train_y, l)) @ beta)\n"
   ]
  },
  {
   "cell_type": "code",
   "execution_count": null,
   "id": "c24386e5",
   "metadata": {},
   "outputs": [],
   "source": [
    "import matplotlib.pyplot as plt\n",
    "fig, ax = plt.subplots()\n",
    "l=100 \n",
    "ax.plot(complexity_degR[1:], test_errorR[1:], label='Test data')\n",
    "ax.plot(complexity_degR[1:], train_errorR[1:], label='Train data')\n",
    "plt.legend()\n",
    "ax.set_xlabel(\"Model Complexity\")\n",
    "ax.set_ylabel(\"Prediction Error\")\n",
    "ax.set_title(\"Expected error vs model complexity\")\n",
    "ax.set_yscale('log')"
   ]
  },
  {
   "cell_type": "code",
   "execution_count": null,
   "id": "f08c63db",
   "metadata": {},
   "outputs": [],
   "source": [
    "#do the cross validation as before\n",
    "\n",
    "def cv_ridge(model, X, y, fold = 10):\n",
    "    foldSize = int(X.shape[0] / fold)\n",
    "    Xs = np.vsplit(X, [foldSize * i for i in range(1, fold)])\n",
    "    ys = np.vsplit(y, [foldSize * i for i in range(1, fold)])\n",
    "    scores = list()\n",
    "    for i in range(fold):\n",
    "        validationSet_X = Xs[i:i+1]\n",
    "        trainSet_X = np.concatenate([*Xs[0:i], *Xs[i+1:]], axis=0)\n",
    "        validationSet_y = y[i:i+1]\n",
    "        trainSet_y = np.concatenate([*y[0:i], *y[i+1:]], axis=0)\n",
    "        scaler = StandardScaler()\n",
    "        beta = model(scaler.fit_transform(Ridge(trainSet_X)), trainSet_y)\n",
    "        score = r_2(scaler.transform(Ridge(validationSet_X)) @ beta, validationSet_y)\n",
    "        scores.append(score)\n",
    "    return np.array(scores).mean()"
   ]
  },
  {
   "cell_type": "code",
   "execution_count": null,
   "id": "bfcceced-3a6e-4cdd-8f07-83554d2991a6",
   "metadata": {},
   "outputs": [],
   "source": []
  },
  {
   "cell_type": "markdown",
   "id": "fdd618b4-693c-4d15-a269-3545e9b8afa2",
   "metadata": {},
   "source": [
    "# part g"
   ]
  },
  {
   "cell_type": "markdown",
   "id": "e31712c5-77dc-4d55-aa25-99b2dc3de9e0",
   "metadata": {},
   "source": [
    "## GD"
   ]
  },
  {
   "cell_type": "code",
   "execution_count": null,
   "id": "a8077c8a-289b-4895-9019-a0762e96b623",
   "metadata": {},
   "outputs": [],
   "source": [
    "def GD(gradient, X, y, tol=1e-4):\n",
    "    iteration, learning_rate, descent, beta = 0, .1, 1000, *np.random.random([2, 20])\n",
    "    while np.abs(descent) < tol:\n",
    "        descent,  beta = learning_rate * gradient(X, y, beta), beta - descent\n",
    "    return beta"
   ]
  },
  {
   "cell_type": "markdown",
   "id": "2cc73057-1989-4707-a719-c22d04abb632",
   "metadata": {},
   "source": [
    "## GD with momentum"
   ]
  },
  {
   "cell_type": "code",
   "execution_count": null,
   "id": "ecd007b4-0337-419b-9da5-82be87a2b92a",
   "metadata": {},
   "outputs": [],
   "source": [
    "def GD(gradient, X, y, momentum, tol=1e-4):\n",
    "    iteration, learning_rate, descent, beta = 0, .1, 1000, *np.random.random([2, X.shape[1]])\n",
    "    while np.abs(descent) < tol:\n",
    "        descent,  beta = learning_rate * gradient(X, y, beta) + descent * momentum, beta - descent\n",
    "    return beta"
   ]
  },
  {
   "cell_type": "markdown",
   "id": "989b0e60-857e-4462-a888-3a7368b4f03d",
   "metadata": {},
   "source": [
    "## SGD with mini batch"
   ]
  },
  {
   "cell_type": "code",
   "execution_count": null,
   "id": "8d24fac6-a6bc-47a1-9f10-bb0b470eef5d",
   "metadata": {},
   "outputs": [],
   "source": [
    "def GD(gradient,  X, y, momentum, batch_size, learning_rate=.1, epoch= 1000, tol=1e-4):\n",
    "    iteration, descent, beta = 0, *np.random.random([2, X.shape[1]])\n",
    "    batch_size = int(batch_size)\n",
    "    if tol <= 0: raise ValueError(\"'tolerance' must be greater than zero\")\n",
    "    if not 0 < batch_size <= n_obs: \n",
    "        raise ValueError(\"'batch_size' must be greater than zero and less than or equal to the number of observations\")\n",
    "    while epoch < iter:\n",
    "        for i in range(0, X.shape[0], batch_size):\n",
    "            batch_X, batch_y = X[i:i + batchSize], y[i:i + batchSize]\n",
    "            descent,  beta = learning_rate * gradient(batch_X, batch_y, beta) + descent * momentum, beta - descent\n",
    "    else: raise RuntimeError(\"Failed to converge to a minimum\")\n",
    "    return beta"
   ]
  },
  {
   "cell_type": "markdown",
   "id": "e42deb75-4059-4052-afc0-3d958b28b013",
   "metadata": {},
   "source": [
    "## SGD with adagrad"
   ]
  },
  {
   "cell_type": "code",
   "execution_count": null,
   "id": "c35f2bf9-7aca-4a07-b551-1e80dc69cd47",
   "metadata": {},
   "outputs": [],
   "source": [
    "def GD(gradient,  X, y, batch_size, learning_rate=.1, epsilon=1e-8, epoch= 1000, tol=1e-4):\n",
    "    iteration, descent, beta = 0, *np.random.random([2, X.shape[1]])\n",
    "    batch_size = int(batch_size)\n",
    "    if tol <= 0: raise ValueError(\"'tolerance' must be greater than zero\")\n",
    "    if not 0 < batch_size <= n_obs: \n",
    "        raise ValueError(\"'batch_size' must be greater than zero and less than or equal to the number of observations\")\n",
    "    while epoch < iter:\n",
    "        for i in range(0, X.shape[0], batch_size):\n",
    "            batch_X, batch_y = X[i:i + batchSize], y[i:i + batchSize]\n",
    "            grad = gradient(batch_X, batch_y, beta)\n",
    "            rate = learning_rate / np.sqrt((grad**2).sum() + eepsilon)\n",
    "            descent,  beta = rate  * grad, beta - descent\n",
    "            if np.abs(descent) < tol: break\n",
    "    else: raise RuntimeError(\"Failed to converge to a minimum\")\n",
    "    return beta"
   ]
  },
  {
   "cell_type": "markdown",
   "id": "24ad5331-d40c-4829-8dda-bfe8662cb7ec",
   "metadata": {},
   "source": [
    "## SGD with adam"
   ]
  },
  {
   "cell_type": "code",
   "execution_count": null,
   "id": "bbead0a5-00d4-4b6e-9da0-02df277a9bf3",
   "metadata": {},
   "outputs": [],
   "source": [
    "def GD(gradient,  X, y, batch_size, learning_rate=0.001, beta1=0.9, beta2=0.999, epsilon=1e-8, epoch= 1000, tol=1e-4):\n",
    "    iteration, descent, beta = 0, *np.random.random([2, X.shape[1]])\n",
    "    X, y = np.split(np.random.shuffle(np.concatenate([X,y], axis=1)), [X.shape])\n",
    "    batch_size = int(batch_size)\n",
    "    if tol <= 0: raise ValueError(\"'tolerance' must be greater than zero\")\n",
    "    if not 0 < batch_size <= n_obs: \n",
    "        raise ValueError(\"'batch_size' must be greater than zero and less than or equal to the number of observations\")\n",
    "    m_t, v_t, t = 0, 0, 0\n",
    "    while epoch < iter:\n",
    "        for i in range(0, X.shape[0], batch_size):\n",
    "            batch_X, batch_y = X[i:i + batchSize], y[i:i + batchSize]\n",
    "            grad = gradient(batch_X, batch_y, beta)\n",
    "            t = t + 1    \n",
    "            m_t = beta1 * m_t + (1 - beta1) * grad\n",
    "            v_t = beta1 * v_t + (1 - beta2) * grad**2    \n",
    "            m_cap_t = m_t / (1 - beta1**t)\n",
    "            v_cap_t = v_t / (1 - beta2**t)\n",
    "            descent,  beta = (learning_rate * m_cap_t) / (np.sqrt(v_cap_t) + epsilon), beta - descent\n",
    "            if np.abs(descent) < tol: break\n",
    "    else: raise RuntimeError(\"Failed to converge to a minimum\")\n",
    "    return beta"
   ]
  },
  {
   "cell_type": "code",
   "execution_count": null,
   "id": "a771c3c2-4acc-4eb4-aed6-ca0050959dea",
   "metadata": {},
   "outputs": [],
   "source": []
  },
  {
   "cell_type": "code",
   "execution_count": null,
   "id": "d99381cf-6d77-4682-8caf-8fe4117d40f3",
   "metadata": {},
   "outputs": [],
   "source": []
  }
 ],
 "metadata": {
  "kernelspec": {
   "display_name": "Python 3 (ipykernel)",
   "language": "python",
   "name": "python3"
  },
  "language_info": {
   "codemirror_mode": {
    "name": "ipython",
    "version": 3
   },
   "file_extension": ".py",
   "mimetype": "text/x-python",
   "name": "python",
   "nbconvert_exporter": "python",
   "pygments_lexer": "ipython3",
   "version": "3.10.9"
  }
 },
 "nbformat": 4,
 "nbformat_minor": 5
}
