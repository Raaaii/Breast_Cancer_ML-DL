{
 "cells": [
  {
   "cell_type": "markdown",
   "id": "8ab82518-99e6-4b5d-819f-62175cd7c85d",
   "metadata": {},
   "source": [
    "# FRANCE FUNCTION TASK \n",
    "\n",
    "***Part a)***"
   ]
  },
  {
   "cell_type": "code",
   "execution_count": 1,
   "id": "427b3065-5ac3-4cf6-9559-03a12c74dbdf",
   "metadata": {},
   "outputs": [],
   "source": [
    "import numpy as np\n",
    "from sklearn.preprocessing import StandardScaler\n",
    "from sklearn.model_selection import train_test_split"
   ]
  },
  {
   "cell_type": "code",
   "execution_count": 2,
   "id": "b7da5394-aeb2-4ad0-a173-c4394c724fc8",
   "metadata": {},
   "outputs": [],
   "source": [
    "x = np.random.random(15)\n",
    "y = np.random.random(15)"
   ]
  },
  {
   "cell_type": "code",
   "execution_count": 3,
   "id": "fbfcf619-d9e8-4c74-8ebc-5f51167b729a",
   "metadata": {},
   "outputs": [],
   "source": [
    "def FrankeFunction(x,y):\n",
    "    term1 = 0.75*np.exp(-(0.25*(9*x-2)**2) - 0.25*((9*y-2)**2))\n",
    "    term2 = 0.75*np.exp(-((9*x+1)**2)/49.0 - 0.1*(9*y+1))\n",
    "    term3 = 0.5*np.exp(-(9*x-7)**2/4.0 - 0.25*((9*y-3)**2))\n",
    "    term4 = -0.2*np.exp(-(9*x-4)**2 - (9*y-7)**2)\n",
    "    return term1 + term2 + term3 + term4"
   ]
  },
  {
   "cell_type": "code",
   "execution_count": 4,
   "id": "2202d2fc-04ad-408a-a0b9-8579c99060e1",
   "metadata": {},
   "outputs": [],
   "source": [
    "data = [[i, j, FrankeFunction(i, j)] for i in x for j in y]"
   ]
  },
  {
   "cell_type": "code",
   "execution_count": 5,
   "id": "87c4448a-44a3-4636-9b66-f9517f88e783",
   "metadata": {},
   "outputs": [],
   "source": [
    "data = np.array(data)"
   ]
  },
  {
   "cell_type": "code",
   "execution_count": 6,
   "id": "eb09e5f3-0154-49b5-ab83-c71fec559e05",
   "metadata": {},
   "outputs": [],
   "source": [
    "data[:,2] += np.random.random(size=data[:,2].shape)"
   ]
  },
  {
   "cell_type": "code",
   "execution_count": 7,
   "id": "06819ff6-2706-4c65-8f14-2f5a65a972de",
   "metadata": {},
   "outputs": [],
   "source": [
    "X, y = np.hsplit(data, [2])"
   ]
  },
  {
   "cell_type": "code",
   "execution_count": 8,
   "id": "f50cb899-32f4-49ee-81bb-5945f8d5f799",
   "metadata": {},
   "outputs": [],
   "source": [
    "def PolyTransformer(X, degree=5):\n",
    "    transformedX = list()\n",
    "    for x,y in X:\n",
    "        transformedSample = list()\n",
    "        for p in range(1, degree+1):\n",
    "            for n in range(p+1):\n",
    "                transformedSample.append(x**(p-n) * y**n)\n",
    "        transformedX.append(transformedSample)\n",
    "    return np.array(transformedX)"
   ]
  },
  {
   "cell_type": "code",
   "execution_count": 9,
   "id": "6fec6168-220f-43f3-9231-b70f676b6f57",
   "metadata": {},
   "outputs": [],
   "source": [
    "train_X, test_X, train_y, test_y = train_test_split(X, y, train_size=.8)"
   ]
  },
  {
   "cell_type": "code",
   "execution_count": 10,
   "id": "4f040b15-5f3e-4351-93d4-4821e15956d1",
   "metadata": {},
   "outputs": [],
   "source": [
    "train_X = PolyTransformer(train_X)"
   ]
  },
  {
   "cell_type": "code",
   "execution_count": 11,
   "id": "fdd5ac81-6277-48a4-9a78-070193f1e896",
   "metadata": {},
   "outputs": [],
   "source": [
    "scaler = StandardScaler()"
   ]
  },
  {
   "cell_type": "code",
   "execution_count": 12,
   "id": "0c460964-d892-4274-952b-c34045c3ca23",
   "metadata": {},
   "outputs": [],
   "source": [
    "train_X = scaler.fit_transform(train_X)"
   ]
  },
  {
   "cell_type": "code",
   "execution_count": 13,
   "id": "19864292-e7f2-449a-80e7-dd7d75b14bee",
   "metadata": {},
   "outputs": [],
   "source": [
    "beta = train_X.T @ train_X # beta will evolve according to the algorithm"
   ]
  },
  {
   "cell_type": "code",
   "execution_count": 14,
   "id": "58206f8d-91fc-42b3-9368-afa1518cebec",
   "metadata": {},
   "outputs": [],
   "source": [
    "U,S,V = np.linalg.svd(beta, hermitian=True)"
   ]
  },
  {
   "cell_type": "markdown",
   "id": "034882ae-702a-400a-a85f-71a19d43b945",
   "metadata": {},
   "source": [
    "# SVD is successful"
   ]
  },
  {
   "cell_type": "code",
   "execution_count": 15,
   "id": "6d557ec6-4cf3-4358-89bb-195f498ec950",
   "metadata": {},
   "outputs": [
    {
     "data": {
      "text/plain": [
       "True"
      ]
     },
     "execution_count": 15,
     "metadata": {},
     "output_type": "execute_result"
    }
   ],
   "source": [
    "np.allclose(U @ np.diag(S) @ V, beta)"
   ]
  },
  {
   "cell_type": "code",
   "execution_count": 16,
   "id": "de081e0a-c7f1-4ca8-b65a-52326ada665c",
   "metadata": {},
   "outputs": [],
   "source": [
    "invBeta = V.T @ np.diag(1/S) @ U.T"
   ]
  },
  {
   "cell_type": "markdown",
   "id": "5ded68e6-7234-4e78-8ec4-c77258068c55",
   "metadata": {},
   "source": [
    "# Inversion is successful"
   ]
  },
  {
   "cell_type": "code",
   "execution_count": 17,
   "id": "d03961b9-ead2-4d22-b0c6-e7cc8c255d78",
   "metadata": {},
   "outputs": [
    {
     "data": {
      "text/plain": [
       "True"
      ]
     },
     "execution_count": 17,
     "metadata": {},
     "output_type": "execute_result"
    }
   ],
   "source": [
    "np.allclose(invBeta, np.linalg.inv(beta))"
   ]
  },
  {
   "cell_type": "code",
   "execution_count": 18,
   "id": "b63867c2-6d98-4edc-999a-94b3efd58c9d",
   "metadata": {},
   "outputs": [],
   "source": [
    "beta = invBeta"
   ]
  },
  {
   "cell_type": "code",
   "execution_count": 19,
   "id": "b7a71624-5b5c-48b0-8cf6-1fcc35bc8241",
   "metadata": {},
   "outputs": [],
   "source": [
    "beta = beta @ train_X.T"
   ]
  },
  {
   "cell_type": "code",
   "execution_count": 20,
   "id": "7be6cf2d-9341-46e5-afb8-9d4a217e0a71",
   "metadata": {},
   "outputs": [],
   "source": [
    "beta = beta @ train_y"
   ]
  },
  {
   "cell_type": "code",
   "execution_count": 21,
   "id": "43b03652-0f6a-4806-af09-6a648cbca191",
   "metadata": {},
   "outputs": [],
   "source": [
    "def ols(X,y):\n",
    "    beta = X.T @ X\n",
    "    U,S,V = np.linalg.svd(beta, hermitian=True)\n",
    "    beta = V.T @ np.diag(1/S) @ U.T\n",
    "    beta = beta @ X.T\n",
    "    return beta"
   ]
  },
  {
   "cell_type": "code",
   "execution_count": 22,
   "id": "cdd502c4-34ca-489a-86e1-6bc0f3c522f9",
   "metadata": {},
   "outputs": [],
   "source": [
    "def mse(y_true, y_pred):\n",
    "    return ((y_true - y_pred)**2).mean()"
   ]
  },
  {
   "cell_type": "code",
   "execution_count": 23,
   "id": "15c4e094-53e1-41f0-82cf-09833f145526",
   "metadata": {},
   "outputs": [],
   "source": [
    "def r_2(y_true, y_pred):\n",
    "    return 1 - ((y_true - y_pred)**2).sum() / ((y_true - y_true.mean())**2).sum()"
   ]
  },
  {
   "cell_type": "code",
   "execution_count": 24,
   "id": "15c6d19e-470f-4220-9483-21e7b25b80c1",
   "metadata": {},
   "outputs": [
    {
     "data": {
      "text/plain": [
       "0.7548420273042309"
      ]
     },
     "execution_count": 24,
     "metadata": {},
     "output_type": "execute_result"
    }
   ],
   "source": [
    "mse(train_X @ beta, train_y)"
   ]
  },
  {
   "cell_type": "code",
   "execution_count": 25,
   "id": "96d2982b-4963-4db9-a7cf-cbfd59e5a124",
   "metadata": {},
   "outputs": [
    {
     "data": {
      "text/plain": [
       "-15.68636520425214"
      ]
     },
     "execution_count": 25,
     "metadata": {},
     "output_type": "execute_result"
    }
   ],
   "source": [
    "r_2(train_X @ beta, train_y)"
   ]
  },
  {
   "cell_type": "code",
   "execution_count": 26,
   "id": "9a7ae2d4-7293-4939-b6e9-c33fd5339404",
   "metadata": {},
   "outputs": [
    {
     "data": {
      "text/plain": [
       "0.7343575776549607"
      ]
     },
     "execution_count": 26,
     "metadata": {},
     "output_type": "execute_result"
    }
   ],
   "source": [
    "mse(test_y, scaler.transform(PolyTransformer(test_X)) @ beta)"
   ]
  },
  {
   "cell_type": "code",
   "execution_count": 27,
   "id": "95d87668-c070-442f-a722-350252ab4b0e",
   "metadata": {},
   "outputs": [
    {
     "data": {
      "text/plain": [
       "-7.483553080441597"
      ]
     },
     "execution_count": 27,
     "metadata": {},
     "output_type": "execute_result"
    }
   ],
   "source": [
    "r_2(test_y, scaler.transform(PolyTransformer(test_X)) @ beta)"
   ]
  },
  {
   "cell_type": "markdown",
   "id": "3fede041-d834-4722-8fc2-1837ecea01de",
   "metadata": {},
   "source": [
    "## Find confidence interval of beta parameter"
   ]
  },
  {
   "cell_type": "code",
   "execution_count": 87,
   "id": "bb61f557",
   "metadata": {},
   "outputs": [],
   "source": [
    "#define var of beta\n",
    "var_beta = np.diag(np.linalg.inv(train_X.T @ train_X))"
   ]
  },
  {
   "cell_type": "code",
   "execution_count": 85,
   "id": "7decbb7f",
   "metadata": {},
   "outputs": [],
   "source": [
    "#define std of beta\n",
    "std_beta = np.sqrt(var_beta)"
   ]
  },
  {
   "cell_type": "code",
   "execution_count": 91,
   "id": "6605dbf0",
   "metadata": {},
   "outputs": [],
   "source": [
    "#define standard error of beta\n",
    "se_beta = std_beta / np.sqrt(len(train_X))"
   ]
  },
  {
   "cell_type": "code",
   "execution_count": 92,
   "id": "04efa8bf",
   "metadata": {},
   "outputs": [],
   "source": [
    "t_value = t.ppf(1-0.025, train_X.shape[0]-train_X.shape[1])"
   ]
  },
  {
   "cell_type": "code",
   "execution_count": 97,
   "id": "d90f815c",
   "metadata": {},
   "outputs": [],
   "source": [
    "#lower and upper confidence interval\n",
    "CI=np.array([beta-t_value*se_beta, beta+t_value*se_beta])\n",
    "\n",
    "lower = beta - t_value * se_beta\n",
    "upper = beta + t_value * se_beta\n"
   ]
  },
  {
   "cell_type": "code",
   "execution_count": 2,
   "id": "5aa49309-90ea-4648-9c09-616e0fed5747",
   "metadata": {},
   "outputs": [],
   "source": [
    "def ci(train_X):\n",
    "    #define var of beta\n",
    "    var_beta = np.diag(np.linalg.inv(train_X.T @ train_X))\n",
    "    #define std of beta\n",
    "    std_beta = np.sqrt(var_beta)\n",
    "    #define standard error of beta\n",
    "    se_beta = std_beta / np.sqrt(len(train_X))\n",
    "    t_value = t.ppf(1-0.025, train_X.shape[0]-train_X.shape[1])\n",
    "    #lower and upper confidence interval\n",
    "    CI=np.array([beta-t_value*se_beta, beta+t_value*se_beta])\n",
    "    lower = beta - t_value * se_beta\n",
    "    upper = beta + t_value * se_beta\n",
    "    return (lower, upper)"
   ]
  },
  {
   "cell_type": "markdown",
   "id": "f7abcdf0-5862-44ee-8c5a-010dea39a3ac",
   "metadata": {},
   "source": [
    "# BIAS VARIANCE TRADEOFF \n",
    "\n",
    "***Part b***"
   ]
  },
  {
   "cell_type": "code",
   "execution_count": 98,
   "id": "7e6f384f",
   "metadata": {},
   "outputs": [],
   "source": [
    "train_X, test_X, train_y, test_y = train_test_split(X, y, train_size=.8)\n",
    "\n",
    "from sklearn.utils import resample\n",
    "k = 100 # bootstrap\n",
    "complexity = 25\n",
    "\n",
    "complexity_deg = np.zeros(complexity)\n",
    "test_bias_square = np.zeros(complexity)\n",
    "test_error = np.zeros(complexity)\n",
    "test_variance = np.zeros(complexity)\n",
    "\n",
    "train_bias_square = np.zeros(complexity)\n",
    "train_error = np.zeros(complexity)\n",
    "train_variance = np.zeros(complexity)\n",
    "\n",
    "\n",
    "for ii in range(1, complexity):\n",
    "    complexity_deg[ii] = ii\n",
    "    resampled_X , resampled_y = resample(train_X, train_y)\n",
    "    resampled_X = PolyTransformer(resampled_X, degree=ii)\n",
    "    resampled_X = scaler.fit_transform(resampled_X)\n",
    "    beta = resampled_X.T @ resampled_X\n",
    "    U,S,V = np.linalg.svd(beta, hermitian=True)\n",
    "    invBeta = V.T @ np.diag(1/S) @ U.T\n",
    "    beta = invBeta\n",
    "    beta = beta @ resampled_X.T\n",
    "    beta = beta @ resampled_y\n",
    "    pred_y = np.zeros((test_y.shape[0],k))\n",
    "    test_X0 = test_X\n",
    "    test_X0 = PolyTransformer(test_X, degree=ii)\n",
    "    test_X0 = scaler.fit_transform(test_X0)\n",
    "    \n",
    "    for jj in range(k):\n",
    "        pred_value = test_X0 @ beta \n",
    "        pred_y[:, jj] = pred_value.ravel()\n",
    "        test_error[ii] = mse(test_y, pred_y).mean()\n",
    "        #bias_square[ii] = mse(pred_y, np.mean(pred_y,axis=1,keepdims=True))\n",
    "        #variance[ii] = np.var(pred_y,axis=1,keepdims=True).mean()\n",
    "        train_error[ii] = mse(train_y, scaler.fit_transform(PolyTransformer(train_X, degree=ii)) @ beta)"
   ]
  },
  {
   "cell_type": "code",
   "execution_count": 100,
   "id": "78b26712",
   "metadata": {},
   "outputs": [
    {
     "data": {
      "image/png": "[encoded data removed]",
      "text/plain": [
       "<Figure size 640x480 with 1 Axes>"
      ]
     },
     "metadata": {},
     "output_type": "display_data"
    }
   ],
   "source": [
    "import matplotlib.pyplot as plt\n",
    "fig, ax = plt.subplots()\n",
    "ax.plot(complexity_deg[1:], test_error[1:], label='Test data')\n",
    "ax.plot(complexity_deg[1:], train_error[1:], label='Train data')\n",
    "plt.legend()\n",
    "ax.set_xlabel(\"Model Complexity\")\n",
    "ax.set_ylabel(\"Prediction Error\")\n",
    "ax.set_title(\"Bias-Variance Trade-off\")\n",
    "ax.set_yscale('log')"
   ]
  },
  {
   "cell_type": "markdown",
   "id": "2608be4e-bc06-4f7a-a87e-297d9a6795f8",
   "metadata": {},
   "source": [
    "# Theory behind bias variance tradeoff\n",
    "\n",
    "\n",
    "The bias-variance trade-off refers to the fact that decreasing the bias of a model will increase its variance, and vice versa. The goal in machine learning is to find a model that strikes a balance between bias and variance to achieve low total error. This balance can be achieved by selecting the appropriate model complexity, using regularization techniques, or by collecting more data.\n",
    "\n",
    "Understanding bias - variance trade-off is critical for understanding the behavior of prediction models. We will highlight that we care about overall error, not the specific decomposition. The important characteristic for any model is the level of complexity at which the increase in bias is equivalent to the reduction in variance. Mathematically:"
   ]
  },
  {
   "cell_type": "markdown",
   "id": "d7e741c8-e19f-4910-b730-70c87e9bf105",
   "metadata": {},
   "source": [
    "$$\n",
    "\\frac{\\mathrm{d(Bias)}}{\\mathrm{d (Complexity)}} = \\frac{\\mathrm{d (Variance)}}{d (Complexity)}\n",
    "$$"
   ]
  },
  {
   "cell_type": "markdown",
   "id": "e8215310-bb3b-4224-b626-4040d84f2c4f",
   "metadata": {},
   "source": [
    "**In our report, section number 3.1, derivation of expected test derror due to three main factors can be found. Anyway, we will show here final expression we have obtained.**"
   ]
  },
  {
   "cell_type": "markdown",
   "id": "3bb2ecc8-60f1-408d-a87d-79d68e52b36b",
   "metadata": {},
   "source": [
    "\n",
    "$$ \\underbrace{E_{\\mathbf{x}, y, D}\\left[\\left(h_{D}(\\mathbf{x})-y\\right)^{2}\\right]}_{\\text {Expected Test Error }}=\\underbrace{E_{\\mathbf{x}, D}\\left[\\left(h_{D}(\\mathbf{x})-\\bar{h}(\\mathbf{x})\\right)^{2}\\right]}_{\\text {Variance }}+\\underbrace{E_{\\mathbf{x}, y}\\left[(\\bar{y}(\\mathbf{x})-y)^{2}\\right]}_{\\text {Noise }}+\\underbrace{E_{\\mathbf{x}}\\left[(\\bar{h}(\\mathbf{x})-\\bar{y}(\\mathbf{x}))^{2}\\right]}_{\\text {Bias }^{2}} $$"
   ]
  },
  {
   "cell_type": "markdown",
   "id": "d16fdd81-66da-49b2-9663-ef719b83d240",
   "metadata": {},
   "source": [
    "This equation is analogue with equation provided in part b question of first project: "
   ]
  },
  {
   "cell_type": "markdown",
   "id": "24481217-e2fc-4604-9c75-6109b64b4a41",
   "metadata": {},
   "source": [
    "\n",
    "$$ \\underbrace{E \\left[\\left(\\mathbf{y} -\\tilde{\\boldsymbol{y}}\\right)^{2}\\right]}_{\\text {Expected Test Error }} =\n",
    "\n",
    "\\underbrace{ \\frac{1}{n} \\sum_i( f_i - E \\left[\\tilde{y}\\right] )^2 }_{\\text {Variance }}\n",
    "+\n",
    "\\underbrace{\\frac{1}{n} \\sum_i \\left( \\tilde{y_i} - E \\left[ \\tilde{y}\\right]\\right)^2}_{\\text {Bias}^{2}} + \n",
    "\n",
    "\\underbrace{\\sigma^2}_{\\text {Noise}}\n"
   ]
  },
  {
   "cell_type": "markdown",
   "id": "827b2e98-34c7-4149-a332-58eb4d19a55d",
   "metadata": {},
   "source": [
    "**As highlighted, epected error is sum of variance, bias and noise, meaning of these parameters will be explained as part of this file**\n",
    "\n",
    "Namely, \n",
    "\n",
    "**Variance** refers to the random error or the spread of the model's predictions for different training sets. A high variance model is overly complex and fits the training data too closely, leading to high variance and poor generalization to new data. Variance is a measure of the variability of the model's predictions for different training sets. A high variance model is said to be too flexible and has a tendency to fit the noise in the data.\n",
    "\n",
    "**Bias** refers to the systematic error or the deviation of the model's predictions from the true values. A high bias model is oversimplified and has a strong assumption about the relationship between the inputs and outputs. It is likely to underfit the data, leading to high training error and poor generalization to new data. Bias is a measure of how far the average prediction of the model is from the true values. A high bias model is said to be too rigid and has a tendency to ignore the underlying complexity of the data.\n",
    "\n",
    "**Noise** refers to the random error or the inherent noise in the target variable. Noise is a measure of the inherent variability in the target variable. This term is an irreducible error. Given the true model and infinite data to calibrate it, we should be able to reduce both the bias and variance terms to 0. However, in a world with imperfect models and finite data, there is a tradeoff between minimizing the bias and minimizing the variance.\n",
    "\n",
    "\n"
   ]
  },
  {
   "cell_type": "markdown",
   "id": "fa1b96b4-fea7-4dd8-bfdd-4efe68e68742",
   "metadata": {},
   "source": [
    "# Part c"
   ]
  },
  {
   "cell_type": "code",
   "execution_count": 32,
   "id": "11d74553-f7ee-4791-98af-720e9f1dc2c2",
   "metadata": {},
   "outputs": [],
   "source": [
    "def cv(model, X, y, fold = 10):\n",
    "    foldSize = int(X.shape[0] / fold)\n",
    "    Xs = np.vsplit(X, [foldSize * i for i in range(1, fold)])\n",
    "    ys = np.vsplit(y, [foldSize * i for i in range(1, fold)])\n",
    "    scores = list()\n",
    "    for i in range(fold):\n",
    "        validationSet_X = Xs[i:i+1]\n",
    "        trainSet_X = np.concatenate([*Xs[0:i], *Xs[i+1:]], axis=0)\n",
    "        validationSet_y = y[i:i+1]\n",
    "        trainSet_y = np.concatenate([*y[0:i], *y[i+1:]], axis=0)\n",
    "        scaler = StandardScaler()\n",
    "        beta = model(scaler.fit_transform(PolyTransformer(trainSet_X)), trainSet_y)\n",
    "        score = r_2(scaler.transform(PolyTransformer(validationSet_X)) @ beta, validationSet_y)\n",
    "        scores.append(score)\n",
    "    return np.array(scores).mean()"
   ]
  },
  {
   "cell_type": "markdown",
   "id": "98030429-a62c-4e82-8c33-a925cf30ce9f",
   "metadata": {},
   "source": [
    "# Part d"
   ]
  },
  {
   "cell_type": "code",
   "execution_count": 33,
   "id": "5a6a41bd-7463-4cc4-83a9-9da4368f29c1",
   "metadata": {},
   "outputs": [],
   "source": [
    "def ridge(X,y, l):\n",
    "    beta = X.T @ X\n",
    "    beta += np.eye(beta.shape) * l\n",
    "    U,S,V = np.linalg.svd(beta, hermitian=True)\n",
    "    beta = V.T @ np.diag(1/S) @ U.T\n",
    "    beta = beta @ X.T\n",
    "    return beta"
   ]
  },
  {
   "cell_type": "code",
   "execution_count": null,
   "id": "bfcceced-3a6e-4cdd-8f07-83554d2991a6",
   "metadata": {},
   "outputs": [],
   "source": []
  },
  {
   "cell_type": "markdown",
   "id": "fdd618b4-693c-4d15-a269-3545e9b8afa2",
   "metadata": {},
   "source": [
    "# part g"
   ]
  },
  {
   "cell_type": "markdown",
   "id": "e31712c5-77dc-4d55-aa25-99b2dc3de9e0",
   "metadata": {},
   "source": [
    "## GD"
   ]
  },
  {
   "cell_type": "code",
   "execution_count": 34,
   "id": "a8077c8a-289b-4895-9019-a0762e96b623",
   "metadata": {},
   "outputs": [],
   "source": [
    "def GD(f, tol=1e-4):\n",
    "    iteration, learning_rate, descent, beta = 0, .1, 1000, *np.random.random([2, 20])\n",
    "    while np.abs(descent) < tol:\n",
    "        descent,  beta = learning_rate * gradient(beta), beta - descent\n",
    "    return beta"
   ]
  },
  {
   "cell_type": "markdown",
   "id": "2cc73057-1989-4707-a719-c22d04abb632",
   "metadata": {},
   "source": [
    "## GD with momentum"
   ]
  },
  {
   "cell_type": "code",
   "execution_count": 35,
   "id": "ecd007b4-0337-419b-9da5-82be87a2b92a",
   "metadata": {},
   "outputs": [],
   "source": [
    "def GD(f, momentum, tol=1e-4):\n",
    "    iteration, learning_rate, descent, beta = 0, .1, 1000, *np.random.random([2, 20])\n",
    "    while np.abs(descent) < tol:\n",
    "        descent,  beta = learning_rate * gradient(beta) + descent * momentum, beta - descent\n",
    "    return beta"
   ]
  },
  {
   "cell_type": "markdown",
   "id": "989b0e60-857e-4462-a888-3a7368b4f03d",
   "metadata": {},
   "source": [
    "## SGD"
   ]
  },
  {
   "cell_type": "code",
   "execution_count": 36,
   "id": "8d24fac6-a6bc-47a1-9f10-bb0b470eef5d",
   "metadata": {},
   "outputs": [],
   "source": [
    "def GD(f, momentum, batch_size, epoch= 1000, tol=1e-4):\n",
    "    iteration, learning_rate, descent, beta = 0, .1, *np.random.random([2, 20])\n",
    "    batch_size = int(batch_size)\n",
    "    if tol <= 0: raise ValueError(\"'tolerance' must be greater than zero\")\n",
    "\n",
    "    if not 0 < batch_size <= n_obs:\n",
    "        raise ValueError(\"'batch_size' must be greater than zero and less than or equal to the number of observations\")\n",
    "    while iteration < iter and np.abs(descent) < tol:\n",
    "        descent,  beta = learning_rate * gradient(beta) + descent * momentum, beta - descent\n",
    "    return beta"
   ]
  },
  {
   "cell_type": "code",
   "execution_count": null,
   "id": "a771c3c2-4acc-4eb4-aed6-ca0050959dea",
   "metadata": {},
   "outputs": [],
   "source": []
  }
 ],
 "metadata": {
  "kernelspec": {
   "display_name": "Python 3 (ipykernel)",
   "language": "python",
   "name": "python3"
  },
  "language_info": {
   "codemirror_mode": {
    "name": "ipython",
    "version": 3
   },
   "file_extension": ".py",
   "mimetype": "text/x-python",
   "name": "python",
   "nbconvert_exporter": "python",
   "pygments_lexer": "ipython3",
   "version": "3.10.9"
  }
 },
 "nbformat": 4,
 "nbformat_minor": 5
}
