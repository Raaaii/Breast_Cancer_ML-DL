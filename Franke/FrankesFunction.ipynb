{
 "cells": [
  {
   "cell_type": "markdown",
   "id": "8ab82518-99e6-4b5d-819f-62175cd7c85d",
   "metadata": {},
   "source": [
    "# FRANKE FUNCTION TASK \n",
    "\n",
    "***Part a)***"
   ]
  },
  {
   "cell_type": "code",
   "execution_count": 1,
   "id": "427b3065-5ac3-4cf6-9559-03a12c74dbdf",
   "metadata": {},
   "outputs": [],
   "source": [
    "import numpy as np\n",
    "from sklearn.preprocessing import StandardScaler\n",
    "from sklearn.model_selection import train_test_split\n",
    "from scipy.stats import t\n",
    "import matplotlib.pyplot as plt"
   ]
  },
  {
   "cell_type": "code",
   "execution_count": 2,
   "id": "b7da5394-aeb2-4ad0-a173-c4394c724fc8",
   "metadata": {},
   "outputs": [],
   "source": [
    "x = np.random.random(15)\n",
    "y = np.random.random(15)"
   ]
  },
  {
   "cell_type": "code",
   "execution_count": 3,
   "id": "fbfcf619-d9e8-4c74-8ebc-5f51167b729a",
   "metadata": {},
   "outputs": [],
   "source": [
    "def FrankeFunction(x,y):\n",
    "    term1 = 0.75*np.exp(-(0.25*(9*x-2)**2) - 0.25*((9*y-2)**2))\n",
    "    term2 = 0.75*np.exp(-((9*x+1)**2)/49.0 - 0.1*(9*y+1))\n",
    "    term3 = 0.5*np.exp(-(9*x-7)**2/4.0 - 0.25*((9*y-3)**2))\n",
    "    term4 = -0.2*np.exp(-(9*x-4)**2 - (9*y-7)**2)\n",
    "    return term1 + term2 + term3 + term4"
   ]
  },
  {
   "cell_type": "code",
   "execution_count": 4,
   "id": "2202d2fc-04ad-408a-a0b9-8579c99060e1",
   "metadata": {},
   "outputs": [],
   "source": [
    "data = [[i, j, FrankeFunction(i, j)] for i in x for j in y]"
   ]
  },
  {
   "cell_type": "code",
   "execution_count": 5,
   "id": "87c4448a-44a3-4636-9b66-f9517f88e783",
   "metadata": {},
   "outputs": [],
   "source": [
    "data = np.array(data)"
   ]
  },
  {
   "cell_type": "code",
   "execution_count": 6,
   "id": "eb09e5f3-0154-49b5-ab83-c71fec559e05",
   "metadata": {},
   "outputs": [],
   "source": [
    "data[:,2] += np.random.random(size=data[:,2].shape)"
   ]
  },
  {
   "cell_type": "code",
   "execution_count": 7,
   "id": "06819ff6-2706-4c65-8f14-2f5a65a972de",
   "metadata": {},
   "outputs": [],
   "source": [
    "X, y = np.hsplit(data, [2])"
   ]
  },
  {
   "cell_type": "code",
   "execution_count": 8,
   "id": "f50cb899-32f4-49ee-81bb-5945f8d5f799",
   "metadata": {},
   "outputs": [],
   "source": [
    "def PolyTransformer(X, degree=5):\n",
    "    transformedX = list()\n",
    "    for x,y in X:\n",
    "        transformedSample = list()\n",
    "        for p in range(1, degree+1):\n",
    "            for n in range(p+1):\n",
    "                transformedSample.append(x**(p-n) * y**n)\n",
    "        transformedX.append(transformedSample)\n",
    "    return np.array(transformedX)"
   ]
  },
  {
   "cell_type": "code",
   "execution_count": 9,
   "id": "6fec6168-220f-43f3-9231-b70f676b6f57",
   "metadata": {},
   "outputs": [],
   "source": [
    "train_X, test_X, train_y, test_y = train_test_split(X, y, train_size=.8)"
   ]
  },
  {
   "cell_type": "code",
   "execution_count": 10,
   "id": "4f040b15-5f3e-4351-93d4-4821e15956d1",
   "metadata": {},
   "outputs": [],
   "source": [
    "train_X = PolyTransformer(train_X)"
   ]
  },
  {
   "cell_type": "code",
   "execution_count": 11,
   "id": "fdd5ac81-6277-48a4-9a78-070193f1e896",
   "metadata": {},
   "outputs": [],
   "source": [
    "scaler = StandardScaler()"
   ]
  },
  {
   "cell_type": "code",
   "execution_count": 12,
   "id": "0c460964-d892-4274-952b-c34045c3ca23",
   "metadata": {},
   "outputs": [],
   "source": [
    "train_X = scaler.fit_transform(train_X)"
   ]
  },
  {
   "cell_type": "code",
   "execution_count": 13,
   "id": "19864292-e7f2-449a-80e7-dd7d75b14bee",
   "metadata": {},
   "outputs": [],
   "source": [
    "beta = train_X.T @ train_X # beta will evolve according to the algorithm"
   ]
  },
  {
   "cell_type": "code",
   "execution_count": 14,
   "id": "58206f8d-91fc-42b3-9368-afa1518cebec",
   "metadata": {},
   "outputs": [],
   "source": [
    "U,S,V = np.linalg.svd(beta, hermitian=True)"
   ]
  },
  {
   "cell_type": "markdown",
   "id": "034882ae-702a-400a-a85f-71a19d43b945",
   "metadata": {},
   "source": [
    "# SVD is successful"
   ]
  },
  {
   "cell_type": "code",
   "execution_count": 15,
   "id": "6d557ec6-4cf3-4358-89bb-195f498ec950",
   "metadata": {},
   "outputs": [
    {
     "data": {
      "text/plain": [
       "True"
      ]
     },
     "execution_count": 15,
     "metadata": {},
     "output_type": "execute_result"
    }
   ],
   "source": [
    "np.allclose(U @ np.diag(S) @ V, beta)"
   ]
  },
  {
   "cell_type": "code",
   "execution_count": 16,
   "id": "de081e0a-c7f1-4ca8-b65a-52326ada665c",
   "metadata": {},
   "outputs": [],
   "source": [
    "invBeta = V.T @ np.diag(1/S) @ U.T"
   ]
  },
  {
   "cell_type": "markdown",
   "id": "5ded68e6-7234-4e78-8ec4-c77258068c55",
   "metadata": {},
   "source": [
    "# Inversion is successful"
   ]
  },
  {
   "cell_type": "code",
   "execution_count": 17,
   "id": "d03961b9-ead2-4d22-b0c6-e7cc8c255d78",
   "metadata": {},
   "outputs": [
    {
     "data": {
      "text/plain": [
       "True"
      ]
     },
     "execution_count": 17,
     "metadata": {},
     "output_type": "execute_result"
    }
   ],
   "source": [
    "np.allclose(invBeta, np.linalg.inv(beta))"
   ]
  },
  {
   "cell_type": "code",
   "execution_count": 18,
   "id": "b63867c2-6d98-4edc-999a-94b3efd58c9d",
   "metadata": {},
   "outputs": [],
   "source": [
    "beta = invBeta"
   ]
  },
  {
   "cell_type": "code",
   "execution_count": 19,
   "id": "b7a71624-5b5c-48b0-8cf6-1fcc35bc8241",
   "metadata": {},
   "outputs": [],
   "source": [
    "beta = beta @ train_X.T"
   ]
  },
  {
   "cell_type": "code",
   "execution_count": 20,
   "id": "7be6cf2d-9341-46e5-afb8-9d4a217e0a71",
   "metadata": {},
   "outputs": [],
   "source": [
    "beta = beta @ train_y"
   ]
  },
  {
   "cell_type": "code",
   "execution_count": 21,
   "id": "43b03652-0f6a-4806-af09-6a648cbca191",
   "metadata": {},
   "outputs": [],
   "source": [
    "def ols(X,y):\n",
    "    beta = X.T @ X\n",
    "    U,S,V = np.linalg.svd(beta, hermitian=True)\n",
    "    inv = V.T @ np.diag(1/S) @ U.T\n",
    "    beta = inv @ X.T\n",
    "    return beta"
   ]
  },
  {
   "cell_type": "code",
   "execution_count": 22,
   "id": "a87d1f9e-d2aa-4d49-825a-e112ef93a401",
   "metadata": {},
   "outputs": [],
   "source": [
    "# Calculate confidence interval\n",
    "def ci(train_X):\n",
    "    #define var of beta\n",
    "    var_beta = np.diag(np.linalg.inv(train_X.T @ train_X))\n",
    "    #define std of beta\n",
    "    std_beta = np.sqrt(var_beta)\n",
    "    #define standard error of beta\n",
    "    se_beta = std_beta / np.sqrt(len(train_X))\n",
    "    t_value = t.ppf(1-0.025, train_X.shape[0]-train_X.shape[1])\n",
    "    #lower and upper confidence interval\n",
    "    CI=np.array([beta-t_value*se_beta, beta+t_value*se_beta])\n",
    "    lower = beta - t_value * se_beta\n",
    "    upper = beta + t_value * se_beta\n",
    "    return (lower, upper)"
   ]
  },
  {
   "cell_type": "code",
   "execution_count": 23,
   "id": "cdd502c4-34ca-489a-86e1-6bc0f3c522f9",
   "metadata": {},
   "outputs": [],
   "source": [
    "def mse(y_true, y_pred):\n",
    "    return ((y_true - y_pred)**2).mean()"
   ]
  },
  {
   "cell_type": "code",
   "execution_count": 24,
   "id": "15c4e094-53e1-41f0-82cf-09833f145526",
   "metadata": {},
   "outputs": [],
   "source": [
    "def r_2(y_true, y_pred):\n",
    "    return 1 - ((y_true - y_pred)**2).sum() / ((y_true - y_true.mean())**2).sum()"
   ]
  },
  {
   "cell_type": "code",
   "execution_count": 25,
   "id": "f7e834df-7c91-4543-a2ff-ac860e806da0",
   "metadata": {
    "tags": []
   },
   "outputs": [
    {
     "data": {
      "text/plain": [
       "array([[ 1.        ,  1.56153341, -1.32776358, ..., -0.48876416,\n",
       "        -0.55206301, -0.64303257],\n",
       "       [ 1.        ,  0.04956787, -1.13261784, ..., -0.48749602,\n",
       "        -0.55171352, -0.64297965],\n",
       "       [ 1.        , -0.02091252,  0.72375797, ..., -0.04415345,\n",
       "         0.07645876, -0.02984277],\n",
       "       ...,\n",
       "       [ 1.        , -0.11130379,  0.59169294, ..., -0.16281394,\n",
       "        -0.09114451, -0.19340113],\n",
       "       [ 1.        ,  0.95234298, -0.92206856, ..., -0.47037703,\n",
       "        -0.54802871, -0.64243173],\n",
       "       [ 1.        , -1.39159228,  1.35078263, ..., -0.48175178,\n",
       "        -0.39880682,  1.51075495]])"
      ]
     },
     "execution_count": 25,
     "metadata": {},
     "output_type": "execute_result"
    }
   ],
   "source": [
    "np.hstack([np.ones(shape=[train_X.shape[0], 1]), train_X])"
   ]
  },
  {
   "cell_type": "code",
   "execution_count": 26,
   "id": "b052cd25-5939-4466-88e2-d33ae4bd4fcc",
   "metadata": {
    "tags": []
   },
   "outputs": [],
   "source": [
    "X_train = np.hstack([np.ones(shape=[train_X.shape[0], 1]), train_X])"
   ]
  },
  {
   "cell_type": "code",
   "execution_count": 27,
   "id": "61ed2952-58e1-4db4-bce1-d19c69c28ecc",
   "metadata": {
    "tags": []
   },
   "outputs": [],
   "source": [
    "beta = ols(X_train, train_y)"
   ]
  },
  {
   "cell_type": "code",
   "execution_count": 28,
   "id": "15c6d19e-470f-4220-9483-21e7b25b80c1",
   "metadata": {},
   "outputs": [
    {
     "data": {
      "text/plain": [
       "1.0311292432430537"
      ]
     },
     "execution_count": 28,
     "metadata": {},
     "output_type": "execute_result"
    }
   ],
   "source": [
    "mse(X_train @ beta, train_y)"
   ]
  },
  {
   "cell_type": "code",
   "execution_count": 29,
   "id": "96d2982b-4963-4db9-a7cf-cbfd59e5a124",
   "metadata": {},
   "outputs": [
    {
     "data": {
      "text/plain": [
       "-1669.429373673124"
      ]
     },
     "execution_count": 29,
     "metadata": {},
     "output_type": "execute_result"
    }
   ],
   "source": [
    "r_2(X_train @ beta, train_y)"
   ]
  },
  {
   "cell_type": "code",
   "execution_count": 30,
   "id": "9133123a-2852-4e6a-a78f-bcdcd2cd665a",
   "metadata": {
    "tags": []
   },
   "outputs": [],
   "source": [
    "X_test = scaler.transform(PolyTransformer(test_X))\n",
    "X_test = np.hstack([np.ones(shape=[X_test.shape[0], 1]), X_test]) "
   ]
  },
  {
   "cell_type": "code",
   "execution_count": 31,
   "id": "9a7ae2d4-7293-4939-b6e9-c33fd5339404",
   "metadata": {},
   "outputs": [
    {
     "data": {
      "text/plain": [
       "0.9251482866132257"
      ]
     },
     "execution_count": 31,
     "metadata": {},
     "output_type": "execute_result"
    }
   ],
   "source": [
    "mse(test_y, X_test @ beta)"
   ]
  },
  {
   "cell_type": "code",
   "execution_count": 32,
   "id": "95d87668-c070-442f-a722-350252ab4b0e",
   "metadata": {},
   "outputs": [
    {
     "data": {
      "text/plain": [
       "-1116.6808881729175"
      ]
     },
     "execution_count": 32,
     "metadata": {},
     "output_type": "execute_result"
    }
   ],
   "source": [
    "r_2(test_y, X_test @ beta)"
   ]
  },
  {
   "cell_type": "markdown",
   "id": "797e2273-a208-4870-ab42-6ff173583056",
   "metadata": {},
   "source": [
    "# BIAS VARIANCE TRADEOFF \n",
    "\n",
    "***Part b***"
   ]
  },
  {
   "cell_type": "code",
   "execution_count": 33,
   "id": "7c37f5c1-5a75-4ff0-b0ef-5b063956f9fe",
   "metadata": {},
   "outputs": [],
   "source": [
    "train_X, test_X, train_y, test_y = train_test_split(X, y, train_size=.8)"
   ]
  },
  {
   "cell_type": "code",
   "execution_count": 34,
   "id": "cb1ce809-96e8-4a8b-bc8c-aaf857d3ea9a",
   "metadata": {},
   "outputs": [],
   "source": [
    "from sklearn.utils import resample"
   ]
  },
  {
   "cell_type": "code",
   "execution_count": 35,
   "id": "491a947a-35f4-45f0-b81c-24890300b31b",
   "metadata": {},
   "outputs": [],
   "source": [
    "k = 10 # bootstrap\n",
    "\n",
    "def bootstrap(model, X, y, div = .5, **model_args): # div: proportion of the bootstrap\n",
    "    test_errors, train_errors = [], []\n",
    "    if \"degree\" in model_args: ii = model_args[\"degree\"] \n",
    "    for jj in range(k):\n",
    "        resampled_X , resampled_y = resample(X, y, n_samples=int(train_X.shape[0]/div))\n",
    "        Train_X, Test_X, Train_y, Test_y = train_test_split(X, y, train_size=.8)\n",
    "        resampled_X = scaler.fit_transform(Train_X)\n",
    "        resampled_X = PolyTransformer(resampled_X, degree=ii)\n",
    "        beta = model(resampled_X, Train_y)\n",
    "\n",
    "        test_X0 = Test_X\n",
    "        test_X0 = scaler.transform(test_X0)\n",
    "        test_X0 = PolyTransformer(test_X0, degree=ii)\n",
    "    \n",
    "        pred_y = test_X0 @ beta\n",
    "        test_errors.append(mse(Test_y, pred_y))\n",
    "        train_errors.append(mse(Train_y, resampled_X @ beta))\n",
    "    return np.array(train_errors).mean(), np.array(test_errors).mean() # Return train and test error"
   ]
  },
  {
   "cell_type": "code",
   "execution_count": 36,
   "id": "5e59499e-37c4-429b-8666-73baf51f5692",
   "metadata": {},
   "outputs": [],
   "source": [
    "complexity = 11\n",
    "\n",
    "complexity_deg = np.zeros(complexity)\n",
    "test_error = np.zeros(complexity)\n",
    "train_error = np.zeros(complexity)\n",
    "\n",
    "for ii in range(1, complexity):\n",
    "    complexity_deg[ii] = ii\n",
    "    train_error[ii], test_error[ii] = bootstrap(ols, train_X, train_y, degree=ii)"
   ]
  },
  {
   "cell_type": "code",
   "execution_count": 37,
   "id": "188d526c-8ff5-42c3-bf2d-e9f5a1109829",
   "metadata": {},
   "outputs": [
    {
     "data": {
      "image/png": "[encoded data removed]",
      "text/plain": [
       "<Figure size 640x480 with 1 Axes>"
      ]
     },
     "metadata": {},
     "output_type": "display_data"
    }
   ],
   "source": [
    "import matplotlib.pyplot as plt\n",
    "fig, ax = plt.subplots()\n",
    "ax.plot(complexity_deg[1:], test_error[1:], label='Validation data')\n",
    "ax.plot(complexity_deg[1:], train_error[1:], label='Train data')\n",
    "plt.legend()\n",
    "ax.set_xlabel(\"Model Complexity\")\n",
    "ax.set_ylabel(\"Prediction Error\")\n",
    "ax.set_title(\"Espected test error vs model complexity\")\n",
    "ax.set_yscale('log')\n",
    "plt.savefig(\"bias-variance.png\", dpi=300, bbox_inches='tight')\n"
   ]
  },
  {
   "cell_type": "markdown",
   "id": "fa1b96b4-fea7-4dd8-bfdd-4efe68e68742",
   "metadata": {},
   "source": [
    "# Part c"
   ]
  },
  {
   "cell_type": "code",
   "execution_count": 38,
   "id": "46d0e52d-c3f7-4d7e-8bd9-e06a4ca20c28",
   "metadata": {},
   "outputs": [],
   "source": [
    "def cv(model, X, y, fold = 10, **model_args):\n",
    "    foldSize = int(X.shape[0] / fold)\n",
    "    Xs = np.vsplit(X, [foldSize * i for i in range(1, fold)])\n",
    "    ys = np.vsplit(y, [foldSize * i for i in range(1, fold)])\n",
    "    scores = list()\n",
    "    if \"degree\" in model_args: ii = model_args[\"degree\"]\n",
    "    for i in range(fold):\n",
    "        validationSet_X = Xs[i:i+1][0]\n",
    "        trainSet_X = np.concatenate([*Xs[0:i], *Xs[i+1:]], axis=0)\n",
    "        validationSet_y = y[i:i+1][0]\n",
    "        trainSet_y = np.concatenate([*ys[0:i], *ys[i+1:]], axis=0)\n",
    "        scaler = StandardScaler()\n",
    "        beta = model(PolyTransformer(scaler.fit_transform(trainSet_X), degree=ii), trainSet_y)\n",
    "        score = mse(PolyTransformer(scaler.transform(validationSet_X), degree=ii) @ beta, validationSet_y)\n",
    "        scores.append(score)\n",
    "    return np.array(scores).mean()"
   ]
  },
  {
   "cell_type": "code",
   "execution_count": 39,
   "id": "3594ddf5-c5eb-4771-854b-299714d76ce6",
   "metadata": {},
   "outputs": [],
   "source": [
    "test_error = np.zeros(complexity)\n",
    "for ii in range(1, complexity):\n",
    "    complexity_deg[ii] = ii\n",
    "    test_error[ii] = cv(ols, train_X, train_y, degree=ii)"
   ]
  },
  {
   "cell_type": "code",
   "execution_count": 40,
   "id": "e3bd6fbe-50c8-4355-ac88-00d25ffd5dbc",
   "metadata": {},
   "outputs": [
    {
     "data": {
      "image/png": "[encoded data removed]",
      "text/plain": [
       "<Figure size 640x480 with 1 Axes>"
      ]
     },
     "metadata": {},
     "output_type": "display_data"
    }
   ],
   "source": [
    "fig, ax = plt.subplots()\n",
    "ax.plot(complexity_deg[1:], test_error[1:], label='Validation data')\n",
    "plt.legend()\n",
    "ax.set_xlabel(\"Model Complexity\")\n",
    "ax.set_ylabel(\"Prediction Error\")\n",
    "ax.set_title(\"Test error vs model complexity\")\n",
    "plt.savefig(\"cv.png\", dpi=300, bbox_inches='tight')"
   ]
  },
  {
   "cell_type": "markdown",
   "id": "98030429-a62c-4e82-8c33-a925cf30ce9f",
   "metadata": {},
   "source": [
    "# Part d"
   ]
  },
  {
   "cell_type": "code",
   "execution_count": 41,
   "id": "5a6a41bd-7463-4cc4-83a9-9da4368f29c1",
   "metadata": {},
   "outputs": [],
   "source": [
    "def ridge(X, y, l=.1):\n",
    "    beta = X.T @ X\n",
    "    beta += np.eye(beta.shape[0]) * l\n",
    "    U,S,V = np.linalg.svd(beta, hermitian=True)\n",
    "    beta = inv = V.T @ np.diag(1/S) @ U.T\n",
    "    beta = beta @ X.T\n",
    "    return beta"
   ]
  },
  {
   "cell_type": "code",
   "execution_count": 42,
   "id": "6db0e12e-878f-42b0-8567-3c59c50ef9a6",
   "metadata": {},
   "outputs": [],
   "source": [
    " def ci(train_X, l):\n",
    "    #define var of beta\n",
    "    var_beta = np.diag(np.linalg.inv(train_X.T @ train_X + np.eye([train_X.shape[1]] * 2)))\n",
    "    #define std of beta\n",
    "    std_beta = np.sqrt(var_beta)\n",
    "    #define standard error of beta\n",
    "    se_beta = std_beta / np.sqrt(len(train_X))\n",
    "    t_value = t.ppf(1-0.025, train_X.shape[0]-train_X.shape[1])\n",
    "    #lower and upper confidence interval\n",
    "    CI=np.array([beta-t_value*se_beta, beta+t_value*se_beta])\n",
    "    lower = beta - t_value * se_beta\n",
    "    upper = beta + t_value * se_beta\n",
    "    return (lower, upper)"
   ]
  },
  {
   "cell_type": "code",
   "execution_count": 43,
   "id": "affa1c0c-ea03-4294-863b-78d7ff08ded2",
   "metadata": {},
   "outputs": [],
   "source": [
    "k = 10 # bootstrap\n",
    "\n",
    "def bootstrap(model, X, y, div = .5, **model_args): # div: proportion of the bootstrap\n",
    "    test_errors, train_errors = [], []\n",
    "    for jj in range(k):\n",
    "        resampled_X , resampled_y = resample(X, y, n_samples=int(train_X.shape[0]/div))\n",
    "        Train_X, Test_X, Train_y, Test_y = train_test_split(X, y, train_size=.8)\n",
    "        resampled_X = scaler.fit_transform(Train_X)\n",
    "        resampled_X = PolyTransformer(resampled_X)\n",
    "        beta = model(resampled_X, Train_y, **model_args)\n",
    "\n",
    "        test_X0 = Test_X\n",
    "        test_X0 = scaler.transform(test_X0)\n",
    "        test_X0 = PolyTransformer(test_X0)\n",
    "    \n",
    "        pred_y = test_X0 @ beta\n",
    "        test_errors.append(mse(Test_y, pred_y))\n",
    "        train_errors.append(mse(Train_y, resampled_X @ beta))\n",
    "    return np.array(train_errors).mean(), np.array(test_errors).mean() # Return train and test error"
   ]
  },
  {
   "cell_type": "code",
   "execution_count": 44,
   "id": "722d8b9a-d1eb-48df-a110-cf199febd9b3",
   "metadata": {},
   "outputs": [],
   "source": [
    "lambdas = []\n",
    "test_error = []\n",
    "train_error = []\n",
    "\n",
    "for ii in np.logspace(-3, 2.5, 6):\n",
    "    lambdas.append(ii)\n",
    "    train, test = bootstrap(ridge, train_X, train_y, l=ii)\n",
    "    train_error.append(train)\n",
    "    test_error.append(test)"
   ]
  },
  {
   "cell_type": "code",
   "execution_count": 45,
   "id": "9c3ee2ad-d487-453a-935f-3926fdb2a4b8",
   "metadata": {},
   "outputs": [
    {
     "data": {
      "image/png": "[encoded data removed]",
      "text/plain": [
       "<Figure size 640x480 with 1 Axes>"
      ]
     },
     "metadata": {},
     "output_type": "display_data"
    }
   ],
   "source": [
    "import matplotlib.pyplot as plt\n",
    "fig, ax = plt.subplots()\n",
    "ax.plot(lambdas, test_error, label='Validation data')\n",
    "ax.plot(lambdas, train_error, label='Train data')\n",
    "plt.legend()\n",
    "ax.set_xlabel(\"Model Complexity\")\n",
    "ax.set_ylabel(\"Prediction Error\")\n",
    "ax.set_title(\"Espected test error vs model complexity\")\n",
    "ax.set_xscale(\"log\")\n",
    "plt.savefig(\"ridgeBias.png\", dpi=300, bbox_inches='tight')"
   ]
  },
  {
   "cell_type": "code",
   "execution_count": 46,
   "id": "c99c0a8c-9f48-494c-b6c6-5314c5285188",
   "metadata": {},
   "outputs": [],
   "source": [
    "def cv(model, X, y, fold = 10, **model_args):\n",
    "    foldSize = int(X.shape[0] / fold)\n",
    "    Xs = np.vsplit(X, [foldSize * i for i in range(1, fold)])\n",
    "    ys = np.vsplit(y, [foldSize * i for i in range(1, fold)])\n",
    "    scores = list()\n",
    "    for i in range(fold):\n",
    "        validationSet_X = Xs[i:i+1][0]\n",
    "        trainSet_X = np.concatenate([*Xs[0:i], *Xs[i+1:]], axis=0)\n",
    "        validationSet_y = y[i:i+1][0]\n",
    "        trainSet_y = np.concatenate([*ys[0:i], *ys[i+1:]], axis=0)\n",
    "        scaler = StandardScaler()\n",
    "        beta = model(PolyTransformer(scaler.fit_transform(trainSet_X)), trainSet_y, **model_args)\n",
    "        score = mse(PolyTransformer(scaler.transform(validationSet_X)) @ beta, validationSet_y)\n",
    "        scores.append(score)\n",
    "    return np.array(scores).mean()"
   ]
  },
  {
   "cell_type": "code",
   "execution_count": 47,
   "id": "5e3089e2-7d1f-4340-9757-07586933b10f",
   "metadata": {},
   "outputs": [],
   "source": [
    "def cv(model, X, y, fold = 10, **model_args):\n",
    "    foldSize = int(X.shape[0] / fold)\n",
    "    Xs = np.vsplit(X, [foldSize * i for i in range(1, fold)])\n",
    "    ys = np.vsplit(y, [foldSize * i for i in range(1, fold)])\n",
    "    scores = list()\n",
    "    for i in range(fold):\n",
    "        validationSet_X = Xs[i:i+1][0]\n",
    "        trainSet_X = np.concatenate([*Xs[0:i], *Xs[i+1:]], axis=0)\n",
    "        validationSet_y = y[i:i+1][0]\n",
    "        trainSet_y = np.concatenate([*ys[0:i], *ys[i+1:]], axis=0)\n",
    "        scaler = StandardScaler()\n",
    "        beta = model(PolyTransformer(scaler.fit_transform(trainSet_X)), trainSet_y, **model_args)\n",
    "        score = mse(PolyTransformer(scaler.transform(validationSet_X)) @ beta, validationSet_y)\n",
    "        scores.append(score)\n",
    "    return np.array(scores).mean()"
   ]
  },
  {
   "cell_type": "code",
   "execution_count": 48,
   "id": "705ed9d8-5a24-4bc5-b260-a76eede8a96a",
   "metadata": {},
   "outputs": [],
   "source": [
    "lambdas = []\n",
    "test_error = []\n",
    "train_error = []\n",
    "\n",
    "for ii in np.logspace(-3, 2, 6):\n",
    "    lambdas.append(ii)\n",
    "    test = cv(ridge, train_X, train_y, l=ii)\n",
    "    test_error.append(test)"
   ]
  },
  {
   "cell_type": "code",
   "execution_count": 49,
   "id": "00f32b72-8547-41c6-b559-8fc96613f8ff",
   "metadata": {},
   "outputs": [
    {
     "data": {
      "image/png": "[encoded data removed]",
      "text/plain": [
       "<Figure size 640x480 with 1 Axes>"
      ]
     },
     "metadata": {},
     "output_type": "display_data"
    }
   ],
   "source": [
    "fig, ax = plt.subplots()\n",
    "ax.plot(lambdas, test_error, label='Validation data')\n",
    "plt.legend()\n",
    "ax.set_xlabel(\"Model Complexity\")\n",
    "ax.set_ylabel(\"Prediction Error\")\n",
    "ax.set_title(\"Test error vs model complexity\")\n",
    "ax.set_xscale(\"log\")\n",
    "plt.savefig(\"cvRidge.png\", dpi=300, bbox_inches='tight')"
   ]
  },
  {
   "cell_type": "markdown",
   "id": "fdd618b4-693c-4d15-a269-3545e9b8afa2",
   "metadata": {},
   "source": [
    "# part g"
   ]
  },
  {
   "cell_type": "markdown",
   "id": "e31712c5-77dc-4d55-aa25-99b2dc3de9e0",
   "metadata": {
    "tags": []
   },
   "source": [
    "## GD"
   ]
  },
  {
   "cell_type": "code",
   "execution_count": 50,
   "id": "82a1fcb4-0566-46b3-8a66-7832959b1370",
   "metadata": {},
   "outputs": [],
   "source": [
    "train_X = PolyTransformer(train_X)"
   ]
  },
  {
   "cell_type": "code",
   "execution_count": 51,
   "id": "c5a0475a-6154-4d1b-bc4f-be44084ae860",
   "metadata": {},
   "outputs": [],
   "source": [
    "scaler = StandardScaler()"
   ]
  },
  {
   "cell_type": "code",
   "execution_count": 52,
   "id": "c588dd8b-a320-4dc3-9686-96f39282bffd",
   "metadata": {},
   "outputs": [],
   "source": [
    "train_X = scaler.fit_transform(train_X)"
   ]
  },
  {
   "cell_type": "code",
   "execution_count": 53,
   "id": "dd64bb8d-56a1-4b00-93c8-953d859a94f5",
   "metadata": {},
   "outputs": [],
   "source": [
    "def ridgeOPT(X, y, GD, l=.1 , **opt_args):\n",
    "    def gradient(X_, y_, beta_):\n",
    "        return  (- 2 * X_.T @ (y_.reshape(-1, 1) - X_ @ beta_) + 2 * l * beta_) / X_.shape[0]\n",
    "    beta = GD(gradient, X, y, **opt_args)\n",
    "    return beta"
   ]
  },
  {
   "cell_type": "code",
   "execution_count": 54,
   "id": "a8077c8a-289b-4895-9019-a0762e96b623",
   "metadata": {},
   "outputs": [],
   "source": [
    "def GD(gradient, X, y, tol=1e-4):\n",
    "    learning_rate, descent, beta = 0.01, np.random.random([X.shape[1], 1]), np.random.random([X.shape[1], 1])\n",
    "    while np.linalg.norm(descent) > tol:\n",
    "        descent = gradient(X, y, beta)\n",
    "        beta = beta - learning_rate * descent\n",
    "    return beta"
   ]
  },
  {
   "cell_type": "code",
   "execution_count": 55,
   "id": "80132d78-33fd-4606-a012-e36aede4084d",
   "metadata": {
    "tags": []
   },
   "outputs": [],
   "source": [
    "X_train = np.hstack([np.ones(shape=[train_X.shape[0], 1]), train_X])"
   ]
  },
  {
   "cell_type": "code",
   "execution_count": 56,
   "id": "6492b2dc-3900-4581-9f06-55dc14a7edaf",
   "metadata": {},
   "outputs": [],
   "source": [
    "beta = ridgeOPT(X_train, train_y, GD)"
   ]
  },
  {
   "cell_type": "code",
   "execution_count": 57,
   "id": "ef0aa940-2a2d-4a2a-9394-a41ea161de5b",
   "metadata": {},
   "outputs": [
    {
     "data": {
      "text/plain": [
       "0.07563873606000054"
      ]
     },
     "execution_count": 57,
     "metadata": {},
     "output_type": "execute_result"
    }
   ],
   "source": [
    "mse(X_train @ beta, train_y)"
   ]
  },
  {
   "cell_type": "code",
   "execution_count": 58,
   "id": "e97a2991-afae-4a24-8a96-47003202e4fe",
   "metadata": {
    "tags": []
   },
   "outputs": [
    {
     "data": {
      "text/plain": [
       "-0.014093884873245699"
      ]
     },
     "execution_count": 58,
     "metadata": {},
     "output_type": "execute_result"
    }
   ],
   "source": [
    "r_2(X_train @ beta, train_y)"
   ]
  },
  {
   "cell_type": "markdown",
   "id": "2cc73057-1989-4707-a719-c22d04abb632",
   "metadata": {},
   "source": [
    "## GD with momentum"
   ]
  },
  {
   "cell_type": "code",
   "execution_count": 59,
   "id": "0f6641d8-b995-48a6-9d75-d45a29eb978f",
   "metadata": {
    "tags": []
   },
   "outputs": [],
   "source": [
    "def GD_m(gradient, X, y, momentum, tol=1e-4):\n",
    "    learning_rate, descent, beta = 0.01, np.random.random([X.shape[1], 1]), np.random.random([X.shape[1], 1])\n",
    "    while np.linalg.norm(descent) > tol:\n",
    "        descent = gradient(X, y, beta) + descent * momentum\n",
    "        beta = beta - learning_rate * descent\n",
    "    return beta"
   ]
  },
  {
   "cell_type": "code",
   "execution_count": 60,
   "id": "fe40f361-ac5a-4ae4-9f33-d0e0461c1573",
   "metadata": {},
   "outputs": [],
   "source": [
    "beta = ridgeOPT(X_train, train_y, GD_m, momentum=.1)"
   ]
  },
  {
   "cell_type": "code",
   "execution_count": 61,
   "id": "499d1249-51cd-44ca-ba02-a821b00f9921",
   "metadata": {},
   "outputs": [
    {
     "data": {
      "text/plain": [
       "0.07564164822696733"
      ]
     },
     "execution_count": 61,
     "metadata": {},
     "output_type": "execute_result"
    }
   ],
   "source": [
    "mse(X_train @ beta, train_y)"
   ]
  },
  {
   "cell_type": "code",
   "execution_count": 62,
   "id": "7c3f0ba0-b13d-4050-adf6-fbbc2f3e4658",
   "metadata": {
    "tags": []
   },
   "outputs": [
    {
     "data": {
      "text/plain": [
       "-0.0141161457015484"
      ]
     },
     "execution_count": 62,
     "metadata": {},
     "output_type": "execute_result"
    }
   ],
   "source": [
    "r_2(X_train @ beta, train_y)"
   ]
  },
  {
   "cell_type": "markdown",
   "id": "989b0e60-857e-4462-a888-3a7368b4f03d",
   "metadata": {},
   "source": [
    "## SGD with mini batch"
   ]
  },
  {
   "cell_type": "code",
   "execution_count": 63,
   "id": "8d24fac6-a6bc-47a1-9f10-bb0b470eef5d",
   "metadata": {},
   "outputs": [],
   "source": [
    "def GD_mb(gradient,  X, y, momentum, batch_size, learning_rate=.01, epoch=10000, tol=1e-4):\n",
    "    iteration, descent, beta = 0, np.random.random([X.shape[1], 1]), np.random.random([X.shape[1], 1])\n",
    "    batch_size = int(batch_size)\n",
    "    if tol <= 0: raise ValueError(\"'tolerance' must be greater than zero\")\n",
    "    if not 0 < batch_size <= X.shape[0]: \n",
    "        raise ValueError(\"'batch_size' must be greater than zero and less than or equal to the number of observations\")\n",
    "    while epoch > iteration:\n",
    "        for i in range(0, X.shape[0] - batch_size, batch_size):\n",
    "            batch_X, batch_y = X[i:i + batch_size], y[i:i + batch_size]\n",
    "            grad = gradient(batch_X, batch_y, beta)\n",
    "            descent = grad + descent * momentum\n",
    "            beta = beta - learning_rate * descent\n",
    "            if np.linalg.norm(grad) < tol: return beta\n",
    "            iteration +=1\n",
    "    else: \n",
    "        print(np.linalg.norm(grad))\n",
    "        raise RuntimeError(\"Failed to converge to a minimum\")"
   ]
  },
  {
   "cell_type": "code",
   "execution_count": 64,
   "id": "23641480-2784-4cdd-8921-9f3351f60499",
   "metadata": {},
   "outputs": [],
   "source": [
    "beta = ridgeOPT(X_train, train_y, GD_mb, momentum=.5, batch_size=90, learning_rate=0.01, tol=1e-2)"
   ]
  },
  {
   "cell_type": "code",
   "execution_count": 65,
   "id": "4bd7e3a6-8867-4cf7-aefc-07f565b0c0ec",
   "metadata": {},
   "outputs": [
    {
     "data": {
      "text/plain": [
       "0.08152235436383273"
      ]
     },
     "execution_count": 65,
     "metadata": {},
     "output_type": "execute_result"
    }
   ],
   "source": [
    "mse(X_train @ beta, train_y)"
   ]
  },
  {
   "cell_type": "code",
   "execution_count": 66,
   "id": "622cec30-408f-4ef6-8896-06effda68e82",
   "metadata": {
    "tags": []
   },
   "outputs": [
    {
     "data": {
      "text/plain": [
       "-0.22278435832387844"
      ]
     },
     "execution_count": 66,
     "metadata": {},
     "output_type": "execute_result"
    }
   ],
   "source": [
    "r_2(X_train @ beta, train_y)"
   ]
  },
  {
   "cell_type": "markdown",
   "id": "e42deb75-4059-4052-afc0-3d958b28b013",
   "metadata": {},
   "source": [
    "## SGD with adagrad"
   ]
  },
  {
   "cell_type": "code",
   "execution_count": 67,
   "id": "fc045686-f58d-4eb1-83bc-f6525609c508",
   "metadata": {},
   "outputs": [],
   "source": [
    "def GD_ag(gradient, X, y, batch_size, learning_rate=.01, epoch=1000, tol=1e-4, epsilon=1e-4):\n",
    "    iteration, descent, beta = 0, np.random.random([X.shape[1], 1]), np.random.random([X.shape[1], 1])\n",
    "    batch_size = int(batch_size)\n",
    "    if tol <= 0: raise ValueError(\"'tolerance' must be greater than zero\")\n",
    "    if not 0 < batch_size <= X.shape[0]: \n",
    "        raise ValueError(\"'batch_size' must be greater than zero and less than or equal to the number of observations\")\n",
    "    while epoch > iteration:\n",
    "        for i in range(0, X.shape[0] - batch_size, batch_size):\n",
    "            batch_X, batch_y = X[i:i + batch_size], y[i:i + batch_size]\n",
    "            grad = gradient(batch_X, batch_y, beta)\n",
    "            descent = descent + grad**2\n",
    "            beta = beta - learning_rate / np.sqrt(descent + epsilon) * grad\n",
    "            if np.linalg.norm(grad) < tol: return beta\n",
    "            iteration +=1\n",
    "    else: \n",
    "        raise RuntimeError(\"Failed to converge to a minimum\")"
   ]
  },
  {
   "cell_type": "code",
   "execution_count": 68,
   "id": "3d0a702f-9ee3-48ef-93d9-fd14740bb812",
   "metadata": {
    "tags": []
   },
   "outputs": [],
   "source": [
    "beta = ridgeOPT(X_train, train_y, GD_ag, batch_size=90, learning_rate=1, tol=1e-2)"
   ]
  },
  {
   "cell_type": "code",
   "execution_count": 69,
   "id": "38b50495-1a6a-40b2-b097-3a2557e9678b",
   "metadata": {},
   "outputs": [
    {
     "data": {
      "text/plain": [
       "0.08218096630096139"
      ]
     },
     "execution_count": 69,
     "metadata": {},
     "output_type": "execute_result"
    }
   ],
   "source": [
    "mse(X_train @ beta, train_y)"
   ]
  },
  {
   "cell_type": "code",
   "execution_count": 70,
   "id": "821afe2b-63ce-4bce-83d1-2c5b7f3ddfb2",
   "metadata": {
    "tags": []
   },
   "outputs": [
    {
     "data": {
      "text/plain": [
       "-0.18419482832542067"
      ]
     },
     "execution_count": 70,
     "metadata": {},
     "output_type": "execute_result"
    }
   ],
   "source": [
    "r_2(X_train @ beta, train_y)"
   ]
  },
  {
   "cell_type": "markdown",
   "id": "24ad5331-d40c-4829-8dda-bfe8662cb7ec",
   "metadata": {},
   "source": [
    "## SGD with adam"
   ]
  },
  {
   "cell_type": "code",
   "execution_count": 71,
   "id": "22678d23-6c6b-40e0-9d3a-55c3f306b511",
   "metadata": {},
   "outputs": [],
   "source": [
    "def GD_ad(gradient, X, y, batch_size, learning_rate=.01, epoch=1000, tol=1e-4, epsilon=1e-4, beta1=0.9, beta2=0.999):\n",
    "    iteration, beta = 0, np.random.random([X.shape[1], 1])\n",
    "    batch_size = int(batch_size)\n",
    "    if tol <= 0: raise ValueError(\"'tolerance' must be greater than zero\")\n",
    "    if not 0 < batch_size <= X.shape[0]: \n",
    "        raise ValueError(\"'batch_size' must be greater than zero and less than or equal to the number of observations\")\n",
    "    s_t, v_t, t = 0, 0, 0\n",
    "    while epoch > iteration:\n",
    "        for i in range(0, X.shape[0] - batch_size, batch_size):\n",
    "            batch_X, batch_y = X[i:i + batch_size], y[i:i + batch_size]\n",
    "            grad = gradient(batch_X, batch_y, beta)\n",
    "            t = t + 1\n",
    "            s_t = beta2 * s_t + (1 - beta2) * grad**2\n",
    "            v_t = beta1 * v_t + (1 - beta1) * grad\n",
    "            s_cap_t = s_t / (1 - beta2**t)\n",
    "            v_cap_t = v_t / (1 - beta1**t)\n",
    "            descent = (learning_rate * v_cap_t) / (np.sqrt(s_cap_t) + epsilon)\n",
    "            beta = beta - descent\n",
    "            if np.linalg.norm(grad) < tol: return beta\n",
    "            iteration +=1\n",
    "    else: \n",
    "        raise RuntimeError(\"Failed to converge to a minimum\")"
   ]
  },
  {
   "cell_type": "code",
   "execution_count": 72,
   "id": "d6ffcd69-e6c9-4395-aa4c-11f69becc79f",
   "metadata": {
    "tags": []
   },
   "outputs": [],
   "source": [
    "beta = ridgeOPT(X_train, train_y, GD_ad, batch_size=90, learning_rate=1, tol=1e-2)"
   ]
  },
  {
   "cell_type": "code",
   "execution_count": 73,
   "id": "b2b3743f-d9fb-4243-969d-64d69dbce497",
   "metadata": {},
   "outputs": [
    {
     "data": {
      "text/plain": [
       "0.0802985313832389"
      ]
     },
     "execution_count": 73,
     "metadata": {},
     "output_type": "execute_result"
    }
   ],
   "source": [
    "mse(X_train @ beta, train_y)"
   ]
  },
  {
   "cell_type": "code",
   "execution_count": 74,
   "id": "9e23340b-7aae-4f3b-8315-ec0b6332b890",
   "metadata": {
    "tags": []
   },
   "outputs": [
    {
     "data": {
      "text/plain": [
       "-0.1844551169934554"
      ]
     },
     "execution_count": 74,
     "metadata": {},
     "output_type": "execute_result"
    }
   ],
   "source": [
    "r_2(X_train @ beta, train_y)"
   ]
  },
  {
   "cell_type": "code",
   "execution_count": null,
   "id": "d99381cf-6d77-4682-8caf-8fe4117d40f3",
   "metadata": {},
   "outputs": [],
   "source": []
  }
 ],
 "metadata": {
  "kernelspec": {
   "display_name": "Python 3 (ipykernel)",
   "language": "python",
   "name": "python3"
  },
  "language_info": {
   "codemirror_mode": {
    "name": "ipython",
    "version": 3
   },
   "file_extension": ".py",
   "mimetype": "text/x-python",
   "name": "python",
   "nbconvert_exporter": "python",
   "pygments_lexer": "ipython3",
   "version": "3.10.9"
  }
 },
 "nbformat": 4,
 "nbformat_minor": 5
}
