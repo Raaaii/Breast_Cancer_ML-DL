{
 "cells": [
  {
   "cell_type": "markdown",
   "id": "8ab82518-99e6-4b5d-819f-62175cd7c85d",
   "metadata": {},
   "source": [
    "# FRANKE FUNCTION TASK \n",
    "\n",
    "***Part a)***"
   ]
  },
  {
   "cell_type": "code",
   "execution_count": 1,
   "id": "427b3065-5ac3-4cf6-9559-03a12c74dbdf",
   "metadata": {},
   "outputs": [],
   "source": [
    "import numpy as np\n",
    "from sklearn.preprocessing import StandardScaler\n",
    "from sklearn.model_selection import train_test_split\n",
    "from scipy.stats import t\n",
    "import matplotlib.pyplot as plt"
   ]
  },
  {
   "cell_type": "code",
   "execution_count": 2,
   "id": "b7da5394-aeb2-4ad0-a173-c4394c724fc8",
   "metadata": {},
   "outputs": [],
   "source": [
    "x = np.random.random(15)\n",
    "y = np.random.random(15)"
   ]
  },
  {
   "cell_type": "code",
   "execution_count": 3,
   "id": "fbfcf619-d9e8-4c74-8ebc-5f51167b729a",
   "metadata": {},
   "outputs": [],
   "source": [
    "def FrankeFunction(x,y):\n",
    "    term1 = 0.75*np.exp(-(0.25*(9*x-2)**2) - 0.25*((9*y-2)**2))\n",
    "    term2 = 0.75*np.exp(-((9*x+1)**2)/49.0 - 0.1*(9*y+1))\n",
    "    term3 = 0.5*np.exp(-(9*x-7)**2/4.0 - 0.25*((9*y-3)**2))\n",
    "    term4 = -0.2*np.exp(-(9*x-4)**2 - (9*y-7)**2)\n",
    "    return term1 + term2 + term3 + term4"
   ]
  },
  {
   "cell_type": "code",
   "execution_count": 4,
   "id": "2202d2fc-04ad-408a-a0b9-8579c99060e1",
   "metadata": {},
   "outputs": [],
   "source": [
    "data = [[i, j, FrankeFunction(i, j)] for i in x for j in y]"
   ]
  },
  {
   "cell_type": "code",
   "execution_count": 5,
   "id": "87c4448a-44a3-4636-9b66-f9517f88e783",
   "metadata": {},
   "outputs": [],
   "source": [
    "data = np.array(data)"
   ]
  },
  {
   "cell_type": "code",
   "execution_count": 6,
   "id": "eb09e5f3-0154-49b5-ab83-c71fec559e05",
   "metadata": {},
   "outputs": [],
   "source": [
    "data[:,2] += np.random.random(size=data[:,2].shape)"
   ]
  },
  {
   "cell_type": "code",
   "execution_count": 7,
   "id": "06819ff6-2706-4c65-8f14-2f5a65a972de",
   "metadata": {},
   "outputs": [],
   "source": [
    "X, y = np.hsplit(data, [2])"
   ]
  },
  {
   "cell_type": "code",
   "execution_count": 8,
   "id": "f50cb899-32f4-49ee-81bb-5945f8d5f799",
   "metadata": {},
   "outputs": [],
   "source": [
    "def PolyTransformer(X, degree=5):\n",
    "    transformedX = list()\n",
    "    for x,y in X:\n",
    "        transformedSample = list()\n",
    "        for p in range(1, degree+1):\n",
    "            for n in range(p+1):\n",
    "                transformedSample.append(x**(p-n) * y**n)\n",
    "        transformedX.append(transformedSample)\n",
    "    return np.array(transformedX)"
   ]
  },
  {
   "cell_type": "code",
   "execution_count": 9,
   "id": "6fec6168-220f-43f3-9231-b70f676b6f57",
   "metadata": {},
   "outputs": [],
   "source": [
    "train_X, test_X, train_y, test_y = train_test_split(X, y, train_size=.8)"
   ]
  },
  {
   "cell_type": "code",
   "execution_count": 10,
   "id": "4f040b15-5f3e-4351-93d4-4821e15956d1",
   "metadata": {},
   "outputs": [],
   "source": [
    "train_X = PolyTransformer(train_X)"
   ]
  },
  {
   "cell_type": "code",
   "execution_count": 11,
   "id": "fdd5ac81-6277-48a4-9a78-070193f1e896",
   "metadata": {},
   "outputs": [],
   "source": [
    "scaler = StandardScaler()"
   ]
  },
  {
   "cell_type": "code",
   "execution_count": 12,
   "id": "0c460964-d892-4274-952b-c34045c3ca23",
   "metadata": {},
   "outputs": [],
   "source": [
    "train_X = scaler.fit_transform(train_X)"
   ]
  },
  {
   "cell_type": "code",
   "execution_count": 13,
   "id": "19864292-e7f2-449a-80e7-dd7d75b14bee",
   "metadata": {},
   "outputs": [],
   "source": [
    "beta = train_X.T @ train_X # beta will evolve according to the algorithm"
   ]
  },
  {
   "cell_type": "code",
   "execution_count": 14,
   "id": "58206f8d-91fc-42b3-9368-afa1518cebec",
   "metadata": {},
   "outputs": [],
   "source": [
    "U,S,V = np.linalg.svd(beta, hermitian=True)"
   ]
  },
  {
   "cell_type": "markdown",
   "id": "034882ae-702a-400a-a85f-71a19d43b945",
   "metadata": {},
   "source": [
    "# SVD is successful"
   ]
  },
  {
   "cell_type": "code",
   "execution_count": 15,
   "id": "6d557ec6-4cf3-4358-89bb-195f498ec950",
   "metadata": {},
   "outputs": [
    {
     "data": {
      "text/plain": [
       "True"
      ]
     },
     "execution_count": 15,
     "metadata": {},
     "output_type": "execute_result"
    }
   ],
   "source": [
    "np.allclose(U @ np.diag(S) @ V, beta)"
   ]
  },
  {
   "cell_type": "code",
   "execution_count": 16,
   "id": "de081e0a-c7f1-4ca8-b65a-52326ada665c",
   "metadata": {},
   "outputs": [],
   "source": [
    "invBeta = V.T @ np.diag(1/S) @ U.T"
   ]
  },
  {
   "cell_type": "markdown",
   "id": "5ded68e6-7234-4e78-8ec4-c77258068c55",
   "metadata": {},
   "source": [
    "# Inversion is successful"
   ]
  },
  {
   "cell_type": "code",
   "execution_count": 17,
   "id": "d03961b9-ead2-4d22-b0c6-e7cc8c255d78",
   "metadata": {},
   "outputs": [
    {
     "data": {
      "text/plain": [
       "True"
      ]
     },
     "execution_count": 17,
     "metadata": {},
     "output_type": "execute_result"
    }
   ],
   "source": [
    "np.allclose(invBeta, np.linalg.inv(beta))"
   ]
  },
  {
   "cell_type": "code",
   "execution_count": 18,
   "id": "b63867c2-6d98-4edc-999a-94b3efd58c9d",
   "metadata": {},
   "outputs": [],
   "source": [
    "beta = invBeta"
   ]
  },
  {
   "cell_type": "code",
   "execution_count": 19,
   "id": "b7a71624-5b5c-48b0-8cf6-1fcc35bc8241",
   "metadata": {},
   "outputs": [],
   "source": [
    "beta = beta @ train_X.T"
   ]
  },
  {
   "cell_type": "code",
   "execution_count": 20,
   "id": "7be6cf2d-9341-46e5-afb8-9d4a217e0a71",
   "metadata": {},
   "outputs": [],
   "source": [
    "beta = beta @ train_y"
   ]
  },
  {
   "cell_type": "code",
   "execution_count": 21,
   "id": "43b03652-0f6a-4806-af09-6a648cbca191",
   "metadata": {},
   "outputs": [],
   "source": [
    "def ols(X,y):\n",
    "    beta = X.T @ X\n",
    "    U,S,V = np.linalg.svd(beta, hermitian=True)\n",
    "    inv = V.T @ np.diag(1/S) @ U.T\n",
    "    beta = inv @ X.T\n",
    "    return beta"
   ]
  },
  {
   "cell_type": "code",
   "execution_count": 22,
   "id": "a87d1f9e-d2aa-4d49-825a-e112ef93a401",
   "metadata": {},
   "outputs": [],
   "source": [
    "# Calculate confidence interval\n",
    "def ci(train_X):\n",
    "    #define var of beta\n",
    "    var_beta = np.diag(np.linalg.inv(train_X.T @ train_X))\n",
    "    #define std of beta\n",
    "    std_beta = np.sqrt(var_beta)\n",
    "    #define standard error of beta\n",
    "    se_beta = std_beta / np.sqrt(len(train_X))\n",
    "    t_value = t.ppf(1-0.025, train_X.shape[0]-train_X.shape[1])\n",
    "    #lower and upper confidence interval\n",
    "    CI=np.array([beta-t_value*se_beta, beta+t_value*se_beta])\n",
    "    lower = beta - t_value * se_beta\n",
    "    upper = beta + t_value * se_beta\n",
    "    return (lower, upper)"
   ]
  },
  {
   "cell_type": "code",
   "execution_count": 23,
   "id": "cdd502c4-34ca-489a-86e1-6bc0f3c522f9",
   "metadata": {},
   "outputs": [],
   "source": [
    "def mse(y_true, y_pred):\n",
    "    return ((y_true - y_pred)**2).mean()"
   ]
  },
  {
   "cell_type": "code",
   "execution_count": 24,
   "id": "15c4e094-53e1-41f0-82cf-09833f145526",
   "metadata": {},
   "outputs": [],
   "source": [
    "def r_2(y_true, y_pred):\n",
    "    return 1 - ((y_true - y_pred)**2).sum() / ((y_true - y_true.mean())**2).sum()"
   ]
  },
  {
   "cell_type": "code",
   "execution_count": 25,
   "id": "15c6d19e-470f-4220-9483-21e7b25b80c1",
   "metadata": {},
   "outputs": [
    {
     "data": {
      "text/plain": [
       "0.8085739261621175"
      ]
     },
     "execution_count": 25,
     "metadata": {},
     "output_type": "execute_result"
    }
   ],
   "source": [
    "mse(train_X @ beta, train_y)"
   ]
  },
  {
   "cell_type": "code",
   "execution_count": 26,
   "id": "96d2982b-4963-4db9-a7cf-cbfd59e5a124",
   "metadata": {},
   "outputs": [
    {
     "data": {
      "text/plain": [
       "-12.705743861853334"
      ]
     },
     "execution_count": 26,
     "metadata": {},
     "output_type": "execute_result"
    }
   ],
   "source": [
    "r_2(train_X @ beta, train_y)"
   ]
  },
  {
   "cell_type": "code",
   "execution_count": 27,
   "id": "9a7ae2d4-7293-4939-b6e9-c33fd5339404",
   "metadata": {},
   "outputs": [
    {
     "data": {
      "text/plain": [
       "0.6684858849385804"
      ]
     },
     "execution_count": 27,
     "metadata": {},
     "output_type": "execute_result"
    }
   ],
   "source": [
    "mse(test_y, scaler.transform(PolyTransformer(test_X)) @ beta)"
   ]
  },
  {
   "cell_type": "code",
   "execution_count": 28,
   "id": "95d87668-c070-442f-a722-350252ab4b0e",
   "metadata": {},
   "outputs": [
    {
     "data": {
      "text/plain": [
       "-2.615416871158091"
      ]
     },
     "execution_count": 28,
     "metadata": {},
     "output_type": "execute_result"
    }
   ],
   "source": [
    "r_2(test_y, scaler.transform(PolyTransformer(test_X)) @ beta)"
   ]
  },
  {
   "cell_type": "markdown",
   "id": "797e2273-a208-4870-ab42-6ff173583056",
   "metadata": {},
   "source": [
    "# BIAS VARIANCE TRADEOFF \n",
    "\n",
    "***Part b***"
   ]
  },
  {
   "cell_type": "code",
   "execution_count": 29,
   "id": "7c37f5c1-5a75-4ff0-b0ef-5b063956f9fe",
   "metadata": {},
   "outputs": [],
   "source": [
    "train_X, test_X, train_y, test_y = train_test_split(X, y, train_size=.8)"
   ]
  },
  {
   "cell_type": "code",
   "execution_count": 30,
   "id": "cb1ce809-96e8-4a8b-bc8c-aaf857d3ea9a",
   "metadata": {},
   "outputs": [],
   "source": [
    "from sklearn.utils import resample"
   ]
  },
  {
   "cell_type": "code",
   "execution_count": 31,
   "id": "491a947a-35f4-45f0-b81c-24890300b31b",
   "metadata": {},
   "outputs": [],
   "source": [
    "k = 10 # bootstrap\n",
    "\n",
    "def bootstrap(model, X, y, div = .5, **model_args): # div: proportion of the bootstrap\n",
    "    test_errors, train_errors = [], []\n",
    "    if \"degree\" in model_args: ii = model_args[\"degree\"] \n",
    "    for jj in range(k):\n",
    "        resampled_X , resampled_y = resample(X, y, n_samples=int(train_X.shape[0]/div))\n",
    "        Train_X, Test_X, Train_y, Test_y = train_test_split(X, y, train_size=.8)\n",
    "        resampled_X = scaler.fit_transform(Train_X)\n",
    "        resampled_X = PolyTransformer(resampled_X, degree=ii)\n",
    "        beta = model(resampled_X, Train_y)\n",
    "\n",
    "        test_X0 = Test_X\n",
    "        test_X0 = scaler.transform(test_X0)\n",
    "        test_X0 = PolyTransformer(test_X0, degree=ii)\n",
    "    \n",
    "        pred_y = test_X0 @ beta\n",
    "        test_errors.append(mse(Test_y, pred_y))\n",
    "        train_errors.append(mse(Train_y, resampled_X @ beta))\n",
    "    return np.array(train_errors).mean(), np.array(test_errors).mean() # Return train and test error"
   ]
  },
  {
   "cell_type": "code",
   "execution_count": 32,
   "id": "5e59499e-37c4-429b-8666-73baf51f5692",
   "metadata": {},
   "outputs": [],
   "source": [
    "complexity = 11\n",
    "\n",
    "complexity_deg = np.zeros(complexity)\n",
    "test_error = np.zeros(complexity)\n",
    "train_error = np.zeros(complexity)\n",
    "\n",
    "for ii in range(1, complexity):\n",
    "    complexity_deg[ii] = ii\n",
    "    train_error[ii], test_error[ii] = bootstrap(ols, train_X, train_y, degree=ii)"
   ]
  },
  {
   "cell_type": "code",
   "execution_count": 33,
   "id": "188d526c-8ff5-42c3-bf2d-e9f5a1109829",
   "metadata": {},
   "outputs": [
    {
     "data": {
      "image/png": "[encoded data removed]",
      "text/plain": [
       "<Figure size 640x480 with 1 Axes>"
      ]
     },
     "metadata": {},
     "output_type": "display_data"
    }
   ],
   "source": [
    "import matplotlib.pyplot as plt\n",
    "fig, ax = plt.subplots()\n",
    "ax.plot(complexity_deg[1:], test_error[1:], label='Validation data')\n",
    "ax.plot(complexity_deg[1:], train_error[1:], label='Train data')\n",
    "plt.legend()\n",
    "ax.set_xlabel(\"Model Complexity\")\n",
    "ax.set_ylabel(\"Prediction Error\")\n",
    "ax.set_title(\"Espected test error vs model complexity\")\n",
    "ax.set_yscale('log')\n",
    "plt.savefig(\"bias-variance.png\", dpi=300, bbox_inches='tight')\n"
   ]
  },
  {
   "cell_type": "markdown",
   "id": "ec793e37-4673-416b-b378-9dcd5bb3dc36",
   "metadata": {},
   "source": [
    "# Theory behind bias variance tradeoff\n",
    "\n",
    "\n",
    "The bias-variance trade-off refers to the fact that decreasing the bias of a model will increase its variance, and vice versa. The goal in machine learning is to find a model that strikes a balance between bias and variance to achieve low total error. This balance can be achieved by selecting the appropriate model complexity, using regularization techniques, or by collecting more data.\n",
    "\n",
    "Understanding bias - variance trade-off is critical for understanding the behavior of prediction models. We will highlight that we care about overall error, not the specific decomposition. The important characteristic for any model is the level of complexity at which the increase in bias is equivalent to the reduction in variance. Mathematically:"
   ]
  },
  {
   "cell_type": "markdown",
   "id": "9a57a812-e679-416b-8e5d-c11f6a4c24e9",
   "metadata": {},
   "source": [
    "$$\n",
    "\\frac{\\mathrm{d(Bias)}}{\\mathrm{d (Complexity)}} = \\frac{\\mathrm{d (Variance)}}{d (Complexity)}\n",
    "$$"
   ]
  },
  {
   "cell_type": "markdown",
   "id": "fde78683-ad46-4028-b1c4-769dccc5722d",
   "metadata": {},
   "source": [
    "**In our report, section number 3.1, derivation of expected test derror due to three main factors can be found. Anyway, we will show here final expression we have obtained.**"
   ]
  },
  {
   "cell_type": "markdown",
   "id": "ded66370-b977-40c4-a163-3246e68bb062",
   "metadata": {},
   "source": [
    "\n",
    "$$ \\underbrace{E_{\\mathbf{x}, y, D}\\left[\\left(h_{D}(\\mathbf{x})-y\\right)^{2}\\right]}_{\\text {Expected Test Error }}=\\underbrace{E_{\\mathbf{x}, D}\\left[\\left(h_{D}(\\mathbf{x})-\\bar{h}(\\mathbf{x})\\right)^{2}\\right]}_{\\text {Variance }}+\\underbrace{E_{\\mathbf{x}, y}\\left[(\\bar{y}(\\mathbf{x})-y)^{2}\\right]}_{\\text {Noise }}+\\underbrace{E_{\\mathbf{x}}\\left[(\\bar{h}(\\mathbf{x})-\\bar{y}(\\mathbf{x}))^{2}\\right]}_{\\text {Bias }^{2}} $$"
   ]
  },
  {
   "cell_type": "markdown",
   "id": "2aa5c33c-9b9b-446a-b894-2a26c49c4a16",
   "metadata": {},
   "source": [
    "This equation is analogue with equation provided in part b question of first project: "
   ]
  },
  {
   "cell_type": "markdown",
   "id": "75c7bf64-2390-4f05-8971-7b0243a50af9",
   "metadata": {},
   "source": [
    "\n",
    "$$ \\underbrace{E \\left[\\left(\\mathbf{y} -\\tilde{\\boldsymbol{y}}\\right)^{2}\\right]}_{\\text {Expected Test Error }} =\n",
    "\n",
    "\\underbrace{ \\frac{1}{n} \\sum_i( f_i - E \\left[\\tilde{y}\\right] )^2 }_{\\text {Variance }}\n",
    "+\n",
    "\\underbrace{\\frac{1}{n} \\sum_i \\left( \\tilde{y_i} - E \\left[ \\tilde{y}\\right]\\right)^2}_{\\text {Bias}^{2}} + \n",
    "\n",
    "\\underbrace{\\sigma^2}_{\\text {Noise}}\n"
   ]
  },
  {
   "cell_type": "markdown",
   "id": "ddb9b8ca-d74f-4e0d-af16-074a2ae06a4c",
   "metadata": {},
   "source": [
    "**As highlighted, epected error is sum of variance, bias and noise, meaning of these parameters will be explained as part of this file**\n",
    "\n",
    "Namely, \n",
    "\n",
    "**Variance** refers to the random error or the spread of the model's predictions for different training sets. A high variance model is overly complex and fits the training data too closely, leading to high variance and poor generalization to new data. Variance is a measure of the variability of the model's predictions for different training sets. A high variance model is said to be too flexible and has a tendency to fit the noise in the data.\n",
    "\n",
    "**Bias** refers to the systematic error or the deviation of the model's predictions from the true values. A high bias model is oversimplified and has a strong assumption about the relationship between the inputs and outputs. It is likely to underfit the data, leading to high training error and poor generalization to new data. Bias is a measure of how far the average prediction of the model is from the true values. A high bias model is said to be too rigid and has a tendency to ignore the underlying complexity of the data.\n",
    "\n",
    "**Noise** refers to the random error or the inherent noise in the target variable. Noise is a measure of the inherent variability in the target variable. This term is an irreducible error. Given the true model and infinite data to calibrate it, we should be able to reduce both the bias and variance terms to 0. However, in a world with imperfect models and finite data, there is a tradeoff between minimizing the bias and minimizing the variance.\n",
    "\n",
    "\n"
   ]
  },
  {
   "cell_type": "markdown",
   "id": "fa1b96b4-fea7-4dd8-bfdd-4efe68e68742",
   "metadata": {},
   "source": [
    "# Part c"
   ]
  },
  {
   "cell_type": "code",
   "execution_count": 34,
   "id": "46d0e52d-c3f7-4d7e-8bd9-e06a4ca20c28",
   "metadata": {},
   "outputs": [],
   "source": [
    "def cv(model, X, y, fold = 10, **model_args):\n",
    "    foldSize = int(X.shape[0] / fold)\n",
    "    Xs = np.vsplit(X, [foldSize * i for i in range(1, fold)])\n",
    "    ys = np.vsplit(y, [foldSize * i for i in range(1, fold)])\n",
    "    scores = list()\n",
    "    if \"degree\" in model_args: ii = model_args[\"degree\"]\n",
    "    for i in range(fold):\n",
    "        validationSet_X = Xs[i:i+1][0]\n",
    "        trainSet_X = np.concatenate([*Xs[0:i], *Xs[i+1:]], axis=0)\n",
    "        validationSet_y = y[i:i+1][0]\n",
    "        trainSet_y = np.concatenate([*ys[0:i], *ys[i+1:]], axis=0)\n",
    "        scaler = StandardScaler()\n",
    "        beta = model(PolyTransformer(scaler.fit_transform(trainSet_X), degree=ii), trainSet_y)\n",
    "        score = mse(PolyTransformer(scaler.transform(validationSet_X), degree=ii) @ beta, validationSet_y)\n",
    "        scores.append(score)\n",
    "    return np.array(scores).mean()"
   ]
  },
  {
   "cell_type": "code",
   "execution_count": 35,
   "id": "3594ddf5-c5eb-4771-854b-299714d76ce6",
   "metadata": {},
   "outputs": [],
   "source": [
    "test_error = np.zeros(complexity)\n",
    "for ii in range(1, complexity):\n",
    "    complexity_deg[ii] = ii\n",
    "    test_error[ii] = cv(ols, train_X, train_y, degree=ii)"
   ]
  },
  {
   "cell_type": "code",
   "execution_count": 36,
   "id": "e3bd6fbe-50c8-4355-ac88-00d25ffd5dbc",
   "metadata": {},
   "outputs": [
    {
     "data": {
      "image/png": "[encoded data removed]",
      "text/plain": [
       "<Figure size 640x480 with 1 Axes>"
      ]
     },
     "metadata": {},
     "output_type": "display_data"
    }
   ],
   "source": [
    "fig, ax = plt.subplots()\n",
    "ax.plot(complexity_deg[1:], test_error[1:], label='Validation data')\n",
    "plt.legend()\n",
    "ax.set_xlabel(\"Model Complexity\")\n",
    "ax.set_ylabel(\"Prediction Error\")\n",
    "ax.set_title(\"Test error vs model complexity\")\n",
    "plt.savefig(\"cv.png\", dpi=300, bbox_inches='tight')"
   ]
  },
  {
   "cell_type": "markdown",
   "id": "98030429-a62c-4e82-8c33-a925cf30ce9f",
   "metadata": {},
   "source": [
    "# Part d"
   ]
  },
  {
   "cell_type": "code",
   "execution_count": 37,
   "id": "5a6a41bd-7463-4cc4-83a9-9da4368f29c1",
   "metadata": {},
   "outputs": [],
   "source": [
    "def ridge(X, y, l=.1):\n",
    "    beta = X.T @ X\n",
    "    beta += np.eye(beta.shape[0]) * l\n",
    "    U,S,V = np.linalg.svd(beta, hermitian=True)\n",
    "    beta = inv = V.T @ np.diag(1/S) @ U.T\n",
    "    beta = beta @ X.T\n",
    "    return beta"
   ]
  },
  {
   "cell_type": "code",
   "execution_count": 38,
   "id": "6db0e12e-878f-42b0-8567-3c59c50ef9a6",
   "metadata": {},
   "outputs": [],
   "source": [
    " def ci(train_X, l):\n",
    "    #define var of beta\n",
    "    var_beta = np.diag(np.linalg.inv(train_X.T @ train_X + np.eye([train_X.shape[1]] * 2)))\n",
    "    #define std of beta\n",
    "    std_beta = np.sqrt(var_beta)\n",
    "    #define standard error of beta\n",
    "    se_beta = std_beta / np.sqrt(len(train_X))\n",
    "    t_value = t.ppf(1-0.025, train_X.shape[0]-train_X.shape[1])\n",
    "    #lower and upper confidence interval\n",
    "    CI=np.array([beta-t_value*se_beta, beta+t_value*se_beta])\n",
    "    lower = beta - t_value * se_beta\n",
    "    upper = beta + t_value * se_beta\n",
    "    return (lower, upper)"
   ]
  },
  {
   "cell_type": "code",
   "execution_count": 39,
   "id": "affa1c0c-ea03-4294-863b-78d7ff08ded2",
   "metadata": {},
   "outputs": [],
   "source": [
    "k = 10 # bootstrap\n",
    "\n",
    "def bootstrap(model, X, y, div = .5, **model_args): # div: proportion of the bootstrap\n",
    "    test_errors, train_errors = [], []\n",
    "    for jj in range(k):\n",
    "        resampled_X , resampled_y = resample(X, y, n_samples=int(train_X.shape[0]/div))\n",
    "        Train_X, Test_X, Train_y, Test_y = train_test_split(X, y, train_size=.8)\n",
    "        resampled_X = scaler.fit_transform(Train_X)\n",
    "        resampled_X = PolyTransformer(resampled_X)\n",
    "        beta = model(resampled_X, Train_y, **model_args)\n",
    "\n",
    "        test_X0 = Test_X\n",
    "        test_X0 = scaler.transform(test_X0)\n",
    "        test_X0 = PolyTransformer(test_X0)\n",
    "    \n",
    "        pred_y = test_X0 @ beta\n",
    "        test_errors.append(mse(Test_y, pred_y))\n",
    "        train_errors.append(mse(Train_y, resampled_X @ beta))\n",
    "    return np.array(train_errors).mean(), np.array(test_errors).mean() # Return train and test error"
   ]
  },
  {
   "cell_type": "code",
   "execution_count": 40,
   "id": "722d8b9a-d1eb-48df-a110-cf199febd9b3",
   "metadata": {},
   "outputs": [],
   "source": [
    "lambdas = []\n",
    "test_error = []\n",
    "train_error = []\n",
    "\n",
    "for ii in np.logspace(-3, 2.5, 6):\n",
    "    lambdas.append(ii)\n",
    "    train, test = bootstrap(ridge, train_X, train_y, l=ii)\n",
    "    train_error.append(train)\n",
    "    test_error.append(test)"
   ]
  },
  {
   "cell_type": "code",
   "execution_count": 41,
   "id": "9c3ee2ad-d487-453a-935f-3926fdb2a4b8",
   "metadata": {},
   "outputs": [
    {
     "data": {
      "image/png": "[encoded data removed]",
      "text/plain": [
       "<Figure size 640x480 with 1 Axes>"
      ]
     },
     "metadata": {},
     "output_type": "display_data"
    }
   ],
   "source": [
    "import matplotlib.pyplot as plt\n",
    "fig, ax = plt.subplots()\n",
    "ax.plot(lambdas, test_error, label='Validation data')\n",
    "ax.plot(lambdas, train_error, label='Train data')\n",
    "plt.legend()\n",
    "ax.set_xlabel(\"Model Complexity\")\n",
    "ax.set_ylabel(\"Prediction Error\")\n",
    "ax.set_title(\"Espected test error vs model complexity\")\n",
    "ax.set_xscale(\"log\")\n",
    "plt.savefig(\"ridgeBias.png\", dpi=300, bbox_inches='tight')"
   ]
  },
  {
   "cell_type": "code",
   "execution_count": 42,
   "id": "c99c0a8c-9f48-494c-b6c6-5314c5285188",
   "metadata": {},
   "outputs": [],
   "source": [
    "def cv(model, X, y, fold = 10, **model_args):\n",
    "    foldSize = int(X.shape[0] / fold)\n",
    "    Xs = np.vsplit(X, [foldSize * i for i in range(1, fold)])\n",
    "    ys = np.vsplit(y, [foldSize * i for i in range(1, fold)])\n",
    "    scores = list()\n",
    "    for i in range(fold):\n",
    "        validationSet_X = Xs[i:i+1][0]\n",
    "        trainSet_X = np.concatenate([*Xs[0:i], *Xs[i+1:]], axis=0)\n",
    "        validationSet_y = y[i:i+1][0]\n",
    "        trainSet_y = np.concatenate([*ys[0:i], *ys[i+1:]], axis=0)\n",
    "        scaler = StandardScaler()\n",
    "        beta = model(PolyTransformer(scaler.fit_transform(trainSet_X)), trainSet_y, **model_args)\n",
    "        score = mse(PolyTransformer(scaler.transform(validationSet_X)) @ beta, validationSet_y)\n",
    "        scores.append(score)\n",
    "    return np.array(scores).mean()"
   ]
  },
  {
   "cell_type": "code",
   "execution_count": 43,
   "id": "5e3089e2-7d1f-4340-9757-07586933b10f",
   "metadata": {},
   "outputs": [],
   "source": [
    "def cv(model, X, y, fold = 10, **model_args):\n",
    "    foldSize = int(X.shape[0] / fold)\n",
    "    Xs = np.vsplit(X, [foldSize * i for i in range(1, fold)])\n",
    "    ys = np.vsplit(y, [foldSize * i for i in range(1, fold)])\n",
    "    scores = list()\n",
    "    for i in range(fold):\n",
    "        validationSet_X = Xs[i:i+1][0]\n",
    "        trainSet_X = np.concatenate([*Xs[0:i], *Xs[i+1:]], axis=0)\n",
    "        validationSet_y = y[i:i+1][0]\n",
    "        trainSet_y = np.concatenate([*ys[0:i], *ys[i+1:]], axis=0)\n",
    "        scaler = StandardScaler()\n",
    "        beta = model(PolyTransformer(scaler.fit_transform(trainSet_X)), trainSet_y, **model_args)\n",
    "        score = mse(PolyTransformer(scaler.transform(validationSet_X)) @ beta, validationSet_y)\n",
    "        scores.append(score)\n",
    "    return np.array(scores).mean()"
   ]
  },
  {
   "cell_type": "code",
   "execution_count": 44,
   "id": "705ed9d8-5a24-4bc5-b260-a76eede8a96a",
   "metadata": {},
   "outputs": [],
   "source": [
    "lambdas = []\n",
    "test_error = []\n",
    "train_error = []\n",
    "\n",
    "for ii in np.logspace(-3, 2, 6):\n",
    "    lambdas.append(ii)\n",
    "    test = cv(ridge, train_X, train_y, l=ii)\n",
    "    test_error.append(test)"
   ]
  },
  {
   "cell_type": "code",
   "execution_count": 45,
   "id": "00f32b72-8547-41c6-b559-8fc96613f8ff",
   "metadata": {},
   "outputs": [
    {
     "data": {
      "image/png": "[encoded data removed]",
      "text/plain": [
       "<Figure size 640x480 with 1 Axes>"
      ]
     },
     "metadata": {},
     "output_type": "display_data"
    }
   ],
   "source": [
    "fig, ax = plt.subplots()\n",
    "ax.plot(lambdas, test_error, label='Validation data')\n",
    "plt.legend()\n",
    "ax.set_xlabel(\"Model Complexity\")\n",
    "ax.set_ylabel(\"Prediction Error\")\n",
    "ax.set_title(\"Test error vs model complexity\")\n",
    "ax.set_xscale(\"log\")\n",
    "plt.savefig(\"cvRidge.png\", dpi=300, bbox_inches='tight')"
   ]
  },
  {
   "cell_type": "markdown",
   "id": "fdd618b4-693c-4d15-a269-3545e9b8afa2",
   "metadata": {},
   "source": [
    "# part g"
   ]
  },
  {
   "cell_type": "markdown",
   "id": "e31712c5-77dc-4d55-aa25-99b2dc3de9e0",
   "metadata": {},
   "source": [
    "## GD"
   ]
  },
  {
   "cell_type": "code",
   "execution_count": 46,
   "id": "a8077c8a-289b-4895-9019-a0762e96b623",
   "metadata": {},
   "outputs": [],
   "source": [
    "def GD(gradient, X, y, tol=1e-4):\n",
    "    iteration, learning_rate, descent, beta = 0, .1, 1000, *np.random.random([2, 20])\n",
    "    while np.abs(descent) < tol:\n",
    "        descent,  beta = learning_rate * gradient(X, y, beta), beta - descent\n",
    "    return beta"
   ]
  },
  {
   "cell_type": "markdown",
   "id": "2cc73057-1989-4707-a719-c22d04abb632",
   "metadata": {},
   "source": [
    "## GD with momentum"
   ]
  },
  {
   "cell_type": "code",
   "execution_count": 47,
   "id": "ecd007b4-0337-419b-9da5-82be87a2b92a",
   "metadata": {},
   "outputs": [],
   "source": [
    "def GD(gradient, X, y, momentum, tol=1e-4):\n",
    "    iteration, learning_rate, descent, beta = 0, .1, 1000, *np.random.random([2, X.shape[1]])\n",
    "    while np.abs(descent) < tol:\n",
    "        descent,  beta = learning_rate * gradient(X, y, beta) + descent * momentum, beta - descent\n",
    "    return beta"
   ]
  },
  {
   "cell_type": "markdown",
   "id": "989b0e60-857e-4462-a888-3a7368b4f03d",
   "metadata": {},
   "source": [
    "## SGD with mini batch"
   ]
  },
  {
   "cell_type": "code",
   "execution_count": 48,
   "id": "8d24fac6-a6bc-47a1-9f10-bb0b470eef5d",
   "metadata": {},
   "outputs": [],
   "source": [
    "def GD(gradient,  X, y, momentum, batch_size, learning_rate=.1, epoch=1000, tol=1e-4):\n",
    "    iteration, descent, beta = 0, *np.random.random([2, X.shape[1]])\n",
    "    batch_size = int(batch_size)\n",
    "    if tol <= 0: raise ValueError(\"'tolerance' must be greater than zero\")\n",
    "    if not 0 < batch_size <= X.shape[0]: \n",
    "        raise ValueError(\"'batch_size' must be greater than zero and less than or equal to the number of observations\")\n",
    "    while epoch > iteration:\n",
    "        for i in range(0, X.shape[0] - batch_size, batch_size):\n",
    "            batch_X, batch_y = X[i:i + batch_size], y[i:i + batch_size]\n",
    "            descent,  beta = learning_rate * gradient(batch_X, batch_y, beta) + descent * momentum, beta - descent\n",
    "            if np.linalg.norm(descent) < tol: break\n",
    "    else: raise RuntimeError(\"Failed to converge to a minimum\")\n",
    "    return beta"
   ]
  },
  {
   "cell_type": "markdown",
   "id": "e42deb75-4059-4052-afc0-3d958b28b013",
   "metadata": {},
   "source": [
    "## SGD with adagrad"
   ]
  },
  {
   "cell_type": "code",
   "execution_count": 49,
   "id": "c35f2bf9-7aca-4a07-b551-1e80dc69cd47",
   "metadata": {},
   "outputs": [],
   "source": [
    "def GD(gradient,  X, y, batch_size, learning_rate=.1, epsilon=1e-8, epoch= 1000, tol=1e-4):\n",
    "    iteration, descent, beta = 0, *np.random.random([2, X.shape[1]])\n",
    "    beta = beta.reshape(-1,1)\n",
    "    shuffledData = np.concatenate([X,y.reshape(-1, 1)], axis=1)\n",
    "    np.random.shuffle(shuffledData)\n",
    "    X, y = np.split(shuffledData, [X.shape[1]], axis=1)\n",
    "    batch_size = int(batch_size)\n",
    "    if tol <= 0: raise ValueError(\"'tolerance' must be greater than zero\")\n",
    "    if not 0 < batch_size <= X.shape[0]: \n",
    "        raise ValueError(\"'batch_size' must be greater than zero and less than or equal to the number of observations\")\n",
    "    while epoch > iteration:\n",
    "        for i in range(0, X.shape[0] - batch_size, batch_size):\n",
    "            batch_X, batch_y = X[i:i + batch_size], y[i:i + batch_size]\n",
    "            grad = gradient(batch_X, batch_y, beta)\n",
    "            rate = learning_rate / np.sqrt((grad**2).sum() + eepsilon)\n",
    "            descent,  beta = rate  * grad, beta - descent\n",
    "            if np.linalg.norm(descent) < tol: break\n",
    "    else: raise RuntimeError(\"Failed to converge to a minimum\")\n",
    "    return beta"
   ]
  },
  {
   "cell_type": "markdown",
   "id": "24ad5331-d40c-4829-8dda-bfe8662cb7ec",
   "metadata": {},
   "source": [
    "## SGD with adam"
   ]
  },
  {
   "cell_type": "code",
   "execution_count": 50,
   "id": "bbead0a5-00d4-4b6e-9da0-02df277a9bf3",
   "metadata": {},
   "outputs": [],
   "source": [
    "def GD(gradient,  X, y, batch_size, learning_rate=0.001, beta1=0.9, beta2=0.999, epsilon=1e-8, epoch= 100, tol=1e-4):\n",
    "    iteration, descent, beta = 0, *np.random.random([2, X.shape[1]])\n",
    "    beta = beta.reshape(-1,1)\n",
    "    shuffledData = np.concatenate([X,y.reshape(-1, 1)], axis=1)\n",
    "    np.random.shuffle(shuffledData)\n",
    "    X, y = np.split(shuffledData, [X.shape[1]], axis=1)\n",
    "    batch_size = int(batch_size)\n",
    "    if tol <= 0: raise ValueError(\"'tolerance' must be greater than zero\")\n",
    "    if not 0 < batch_size <= X.shape[0]: \n",
    "        raise ValueError(\"'batch_size' must be greater than zero and less than or equal to the number of observations\")\n",
    "    m_t, v_t, t = 0, 0, 0\n",
    "    while epoch > iteration:\n",
    "        for i in range(0, X.shape[0] - batch_size, batch_size):\n",
    "            batch_X, batch_y = X[i:i + batch_size], y[i:i + batch_size]\n",
    "            grad = gradient(batch_X, batch_y, beta)\n",
    "            t = t + 1\n",
    "            m_t = beta1 * m_t + (1 - beta1) * grad\n",
    "            v_t = beta1 * v_t + (1 - beta2) * grad**2\n",
    "            m_cap_t = m_t / (1 - beta1**t)\n",
    "            v_cap_t = v_t / (1 - beta2**t)\n",
    "            descent,  beta = (learning_rate * m_cap_t) / (np.sqrt(v_cap_t) + epsilon), beta - descent\n",
    "            if np.linalg.norm(descent) < tol: break\n",
    "    else: raise RuntimeError(\"Failed to converge to a minimum\")\n",
    "    return beta"
   ]
  },
  {
   "cell_type": "code",
   "execution_count": 51,
   "id": "13f1c119-e1d3-4416-a583-3cf0262c2a29",
   "metadata": {},
   "outputs": [],
   "source": [
    "def ridgeOPT(X, y, l=.1 , **opt_args):\n",
    "    def gradient(X_, y_, beta_):\n",
    "        return 2 * X_.T @ (y_.reshape(-1,1) - X_ @ beta_) - 2 * l * beta_\n",
    "    beta = GD(gradient, X, y, **opt_args)\n",
    "    return beta"
   ]
  },
  {
   "cell_type": "code",
   "execution_count": null,
   "id": "622c042a-decb-4bca-b3b2-95084b5379a1",
   "metadata": {},
   "outputs": [],
   "source": [
    "beta = ridgeOPT(train_X, train_y, batch_size=20)"
   ]
  },
  {
   "cell_type": "code",
   "execution_count": null,
   "id": "d99381cf-6d77-4682-8caf-8fe4117d40f3",
   "metadata": {},
   "outputs": [],
   "source": []
  }
 ],
 "metadata": {
  "kernelspec": {
   "display_name": "Python 3 (ipykernel)",
   "language": "python",
   "name": "python3"
  },
  "language_info": {
   "codemirror_mode": {
    "name": "ipython",
    "version": 3
   },
   "file_extension": ".py",
   "mimetype": "text/x-python",
   "name": "python",
   "nbconvert_exporter": "python",
   "pygments_lexer": "ipython3",
   "version": "3.10.9"
  }
 },
 "nbformat": 4,
 "nbformat_minor": 5
}
